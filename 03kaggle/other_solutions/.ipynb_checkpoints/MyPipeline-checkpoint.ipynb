{
  "nbformat": 4,
  "nbformat_minor": 0,
  "metadata": {
    "colab": {
      "name": "MyPipeline.ipynb",
      "provenance": [],
      "collapsed_sections": [
        "6BX22Dydo-QE",
        "CBPS08OD5VtO",
        "dK370bPCEEZD",
        "-eEOIEo1pQUw",
        "vghjaO9AaEnY",
        "GnclmxsLsmAU"
      ],
      "toc_visible": true
    },
    "kernelspec": {
      "name": "python3",
      "display_name": "Python 3"
    }
  },
  "cells": [
    {
      "cell_type": "markdown",
      "metadata": {
        "id": "6BX22Dydo-QE"
      },
      "source": [
        "# Первая часть. Исследование"
      ]
    },
    {
      "cell_type": "code",
      "metadata": {
        "id": "lzLqEeZKEEYz"
      },
      "source": [
        "import pandas as pd\n",
        "import numpy as np\n",
        "from matplotlib import pyplot as plt"
      ],
      "execution_count": null,
      "outputs": []
    },
    {
      "cell_type": "markdown",
      "metadata": {
        "id": "CBPS08OD5VtO"
      },
      "source": [
        "## Загрузка данных"
      ]
    },
    {
      "cell_type": "markdown",
      "metadata": {
        "id": "fTs7gZBT90vM"
      },
      "source": [
        "загружаем данные"
      ]
    },
    {
      "cell_type": "code",
      "metadata": {
        "id": "TnPCqxUo51Bl"
      },
      "source": [
        "data = pd.read_csv('./train.csv')"
      ],
      "execution_count": null,
      "outputs": []
    },
    {
      "cell_type": "markdown",
      "metadata": {
        "id": "AOU31ti395P3"
      },
      "source": [
        "колонки с числовыми и категориальными признаками, а также таргетная колонка"
      ]
    },
    {
      "cell_type": "code",
      "metadata": {
        "id": "f2ke6IKX9KEY"
      },
      "source": [
        "# Числовые признаки\n",
        "num_cols = [\n",
        "    'ClientPeriod',\n",
        "    'MonthlySpending',\n",
        "    'TotalSpent'\n",
        "]\n",
        "\n",
        "# Категориальные признаки\n",
        "cat_cols = [\n",
        "    'Sex',\n",
        "    'IsSeniorCitizen',\n",
        "    'HasPartner',\n",
        "    'HasChild',\n",
        "    'HasPhoneService',\n",
        "    'HasMultiplePhoneNumbers',\n",
        "    'HasInternetService',\n",
        "    'HasOnlineSecurityService',\n",
        "    'HasOnlineBackup',\n",
        "    'HasDeviceProtection',\n",
        "    'HasTechSupportAccess',\n",
        "    'HasOnlineTV',\n",
        "    'HasMovieSubscription',\n",
        "    'HasContractPhone',\n",
        "    'IsBillingPaperless',\n",
        "    'PaymentMethod'\n",
        "]\n",
        "\n",
        "feature_cols = num_cols + cat_cols\n",
        "target_col = 'Churn'"
      ],
      "execution_count": null,
      "outputs": []
    },
    {
      "cell_type": "markdown",
      "metadata": {
        "id": "xH2vFJ9A-EMD"
      },
      "source": [
        "смотрим 5 случайных строчек данных"
      ]
    },
    {
      "cell_type": "code",
      "metadata": {
        "id": "3ei-8Yu19p8Q",
        "outputId": "c44fea8d-175d-4790-cbc5-94bb390051f6",
        "colab": {
          "base_uri": "https://localhost:8080/"
        }
      },
      "source": [
        "data.sample(5)"
      ],
      "execution_count": null,
      "outputs": [
        {
          "output_type": "execute_result",
          "data": {
            "text/html": [
              "<div>\n",
              "<style scoped>\n",
              "    .dataframe tbody tr th:only-of-type {\n",
              "        vertical-align: middle;\n",
              "    }\n",
              "\n",
              "    .dataframe tbody tr th {\n",
              "        vertical-align: top;\n",
              "    }\n",
              "\n",
              "    .dataframe thead th {\n",
              "        text-align: right;\n",
              "    }\n",
              "</style>\n",
              "<table border=\"1\" class=\"dataframe\">\n",
              "  <thead>\n",
              "    <tr style=\"text-align: right;\">\n",
              "      <th></th>\n",
              "      <th>ClientPeriod</th>\n",
              "      <th>MonthlySpending</th>\n",
              "      <th>TotalSpent</th>\n",
              "      <th>Sex</th>\n",
              "      <th>IsSeniorCitizen</th>\n",
              "      <th>HasPartner</th>\n",
              "      <th>HasChild</th>\n",
              "      <th>HasPhoneService</th>\n",
              "      <th>HasMultiplePhoneNumbers</th>\n",
              "      <th>HasInternetService</th>\n",
              "      <th>HasOnlineSecurityService</th>\n",
              "      <th>HasOnlineBackup</th>\n",
              "      <th>HasDeviceProtection</th>\n",
              "      <th>HasTechSupportAccess</th>\n",
              "      <th>HasOnlineTV</th>\n",
              "      <th>HasMovieSubscription</th>\n",
              "      <th>HasContractPhone</th>\n",
              "      <th>IsBillingPaperless</th>\n",
              "      <th>PaymentMethod</th>\n",
              "      <th>Churn</th>\n",
              "    </tr>\n",
              "  </thead>\n",
              "  <tbody>\n",
              "    <tr>\n",
              "      <th>5036</th>\n",
              "      <td>34</td>\n",
              "      <td>105.35</td>\n",
              "      <td>3540.65</td>\n",
              "      <td>Male</td>\n",
              "      <td>0</td>\n",
              "      <td>No</td>\n",
              "      <td>No</td>\n",
              "      <td>Yes</td>\n",
              "      <td>Yes</td>\n",
              "      <td>Fiber optic</td>\n",
              "      <td>No</td>\n",
              "      <td>Yes</td>\n",
              "      <td>No</td>\n",
              "      <td>Yes</td>\n",
              "      <td>Yes</td>\n",
              "      <td>Yes</td>\n",
              "      <td>Month-to-month</td>\n",
              "      <td>Yes</td>\n",
              "      <td>Electronic check</td>\n",
              "      <td>0</td>\n",
              "    </tr>\n",
              "    <tr>\n",
              "      <th>2461</th>\n",
              "      <td>40</td>\n",
              "      <td>51.10</td>\n",
              "      <td>2092.9</td>\n",
              "      <td>Male</td>\n",
              "      <td>0</td>\n",
              "      <td>No</td>\n",
              "      <td>No</td>\n",
              "      <td>Yes</td>\n",
              "      <td>No</td>\n",
              "      <td>DSL</td>\n",
              "      <td>No</td>\n",
              "      <td>No</td>\n",
              "      <td>No</td>\n",
              "      <td>Yes</td>\n",
              "      <td>No</td>\n",
              "      <td>No</td>\n",
              "      <td>Month-to-month</td>\n",
              "      <td>Yes</td>\n",
              "      <td>Electronic check</td>\n",
              "      <td>0</td>\n",
              "    </tr>\n",
              "    <tr>\n",
              "      <th>439</th>\n",
              "      <td>51</td>\n",
              "      <td>60.15</td>\n",
              "      <td>3077</td>\n",
              "      <td>Female</td>\n",
              "      <td>0</td>\n",
              "      <td>No</td>\n",
              "      <td>Yes</td>\n",
              "      <td>No</td>\n",
              "      <td>No phone service</td>\n",
              "      <td>DSL</td>\n",
              "      <td>Yes</td>\n",
              "      <td>No</td>\n",
              "      <td>Yes</td>\n",
              "      <td>Yes</td>\n",
              "      <td>Yes</td>\n",
              "      <td>Yes</td>\n",
              "      <td>One year</td>\n",
              "      <td>No</td>\n",
              "      <td>Bank transfer (automatic)</td>\n",
              "      <td>0</td>\n",
              "    </tr>\n",
              "    <tr>\n",
              "      <th>1574</th>\n",
              "      <td>28</td>\n",
              "      <td>54.30</td>\n",
              "      <td>1546.3</td>\n",
              "      <td>Female</td>\n",
              "      <td>0</td>\n",
              "      <td>No</td>\n",
              "      <td>No</td>\n",
              "      <td>Yes</td>\n",
              "      <td>No</td>\n",
              "      <td>DSL</td>\n",
              "      <td>Yes</td>\n",
              "      <td>No</td>\n",
              "      <td>No</td>\n",
              "      <td>Yes</td>\n",
              "      <td>No</td>\n",
              "      <td>No</td>\n",
              "      <td>One year</td>\n",
              "      <td>No</td>\n",
              "      <td>Mailed check</td>\n",
              "      <td>0</td>\n",
              "    </tr>\n",
              "    <tr>\n",
              "      <th>2989</th>\n",
              "      <td>10</td>\n",
              "      <td>98.70</td>\n",
              "      <td>973.25</td>\n",
              "      <td>Female</td>\n",
              "      <td>0</td>\n",
              "      <td>No</td>\n",
              "      <td>No</td>\n",
              "      <td>Yes</td>\n",
              "      <td>Yes</td>\n",
              "      <td>Fiber optic</td>\n",
              "      <td>Yes</td>\n",
              "      <td>No</td>\n",
              "      <td>No</td>\n",
              "      <td>No</td>\n",
              "      <td>Yes</td>\n",
              "      <td>Yes</td>\n",
              "      <td>Month-to-month</td>\n",
              "      <td>Yes</td>\n",
              "      <td>Electronic check</td>\n",
              "      <td>1</td>\n",
              "    </tr>\n",
              "  </tbody>\n",
              "</table>\n",
              "</div>"
            ],
            "text/plain": [
              "      ClientPeriod  MonthlySpending  ...              PaymentMethod Churn\n",
              "5036            34           105.35  ...           Electronic check     0\n",
              "2461            40            51.10  ...           Electronic check     0\n",
              "439             51            60.15  ...  Bank transfer (automatic)     0\n",
              "1574            28            54.30  ...               Mailed check     0\n",
              "2989            10            98.70  ...           Electronic check     1\n",
              "\n",
              "[5 rows x 20 columns]"
            ]
          },
          "metadata": {
            "tags": []
          },
          "execution_count": 110
        }
      ]
    },
    {
      "cell_type": "markdown",
      "metadata": {
        "id": "AGNg8522-jov"
      },
      "source": [
        "количество nan в каждой колонке"
      ]
    },
    {
      "cell_type": "code",
      "metadata": {
        "id": "1VZW86IW-Jxc",
        "outputId": "2af00c07-76bc-45b8-9da4-867da2380a9a",
        "colab": {
          "base_uri": "https://localhost:8080/"
        }
      },
      "source": [
        "data.isna().sum()"
      ],
      "execution_count": null,
      "outputs": [
        {
          "output_type": "execute_result",
          "data": {
            "text/plain": [
              "ClientPeriod                0\n",
              "MonthlySpending             0\n",
              "TotalSpent                  0\n",
              "Sex                         0\n",
              "IsSeniorCitizen             0\n",
              "HasPartner                  0\n",
              "HasChild                    0\n",
              "HasPhoneService             0\n",
              "HasMultiplePhoneNumbers     0\n",
              "HasInternetService          0\n",
              "HasOnlineSecurityService    0\n",
              "HasOnlineBackup             0\n",
              "HasDeviceProtection         0\n",
              "HasTechSupportAccess        0\n",
              "HasOnlineTV                 0\n",
              "HasMovieSubscription        0\n",
              "HasContractPhone            0\n",
              "IsBillingPaperless          0\n",
              "PaymentMethod               0\n",
              "Churn                       0\n",
              "dtype: int64"
            ]
          },
          "metadata": {
            "tags": []
          },
          "execution_count": 111
        }
      ]
    },
    {
      "cell_type": "markdown",
      "metadata": {
        "id": "7EH9W6V8-sye"
      },
      "source": [
        "nan нет, но есть значения \" \" (пробелы)"
      ]
    },
    {
      "cell_type": "code",
      "metadata": {
        "id": "Oy_vLCCjkqFE",
        "outputId": "21d02221-b7b4-4d09-dc41-2484153bde6e",
        "colab": {
          "base_uri": "https://localhost:8080/"
        }
      },
      "source": [
        "data = data.replace(' ', np.nan)\n",
        "data.isna().sum()"
      ],
      "execution_count": null,
      "outputs": [
        {
          "output_type": "execute_result",
          "data": {
            "text/plain": [
              "ClientPeriod                0\n",
              "MonthlySpending             0\n",
              "TotalSpent                  9\n",
              "Sex                         0\n",
              "IsSeniorCitizen             0\n",
              "HasPartner                  0\n",
              "HasChild                    0\n",
              "HasPhoneService             0\n",
              "HasMultiplePhoneNumbers     0\n",
              "HasInternetService          0\n",
              "HasOnlineSecurityService    0\n",
              "HasOnlineBackup             0\n",
              "HasDeviceProtection         0\n",
              "HasTechSupportAccess        0\n",
              "HasOnlineTV                 0\n",
              "HasMovieSubscription        0\n",
              "HasContractPhone            0\n",
              "IsBillingPaperless          0\n",
              "PaymentMethod               0\n",
              "Churn                       0\n",
              "dtype: int64"
            ]
          },
          "metadata": {
            "tags": []
          },
          "execution_count": 112
        }
      ]
    },
    {
      "cell_type": "markdown",
      "metadata": {
        "id": "F0LDcxnHlGcR"
      },
      "source": [
        "замена пробелов на нули"
      ]
    },
    {
      "cell_type": "code",
      "metadata": {
        "id": "Pl3qUhLQlOpR",
        "outputId": "7fdd93fc-cc26-43ca-963a-c66f7b1ee5b1",
        "colab": {
          "base_uri": "https://localhost:8080/"
        }
      },
      "source": [
        "data.fillna(0, inplace=True)\n",
        "data.isna().sum()"
      ],
      "execution_count": null,
      "outputs": [
        {
          "output_type": "execute_result",
          "data": {
            "text/plain": [
              "ClientPeriod                0\n",
              "MonthlySpending             0\n",
              "TotalSpent                  0\n",
              "Sex                         0\n",
              "IsSeniorCitizen             0\n",
              "HasPartner                  0\n",
              "HasChild                    0\n",
              "HasPhoneService             0\n",
              "HasMultiplePhoneNumbers     0\n",
              "HasInternetService          0\n",
              "HasOnlineSecurityService    0\n",
              "HasOnlineBackup             0\n",
              "HasDeviceProtection         0\n",
              "HasTechSupportAccess        0\n",
              "HasOnlineTV                 0\n",
              "HasMovieSubscription        0\n",
              "HasContractPhone            0\n",
              "IsBillingPaperless          0\n",
              "PaymentMethod               0\n",
              "Churn                       0\n",
              "dtype: int64"
            ]
          },
          "metadata": {
            "tags": []
          },
          "execution_count": 113
        }
      ]
    },
    {
      "cell_type": "markdown",
      "metadata": {
        "id": "nZuwvmvpl-xW"
      },
      "source": [
        "просмотр данных"
      ]
    },
    {
      "cell_type": "code",
      "metadata": {
        "id": "1n9dFgY8jTz-",
        "outputId": "aa0e9e60-d1f0-4e2d-ff12-40364e769ab0",
        "colab": {
          "base_uri": "https://localhost:8080/"
        }
      },
      "source": [
        "data.info()"
      ],
      "execution_count": null,
      "outputs": [
        {
          "output_type": "stream",
          "text": [
            "<class 'pandas.core.frame.DataFrame'>\n",
            "RangeIndex: 5282 entries, 0 to 5281\n",
            "Data columns (total 20 columns):\n",
            " #   Column                    Non-Null Count  Dtype  \n",
            "---  ------                    --------------  -----  \n",
            " 0   ClientPeriod              5282 non-null   int64  \n",
            " 1   MonthlySpending           5282 non-null   float64\n",
            " 2   TotalSpent                5282 non-null   object \n",
            " 3   Sex                       5282 non-null   object \n",
            " 4   IsSeniorCitizen           5282 non-null   int64  \n",
            " 5   HasPartner                5282 non-null   object \n",
            " 6   HasChild                  5282 non-null   object \n",
            " 7   HasPhoneService           5282 non-null   object \n",
            " 8   HasMultiplePhoneNumbers   5282 non-null   object \n",
            " 9   HasInternetService        5282 non-null   object \n",
            " 10  HasOnlineSecurityService  5282 non-null   object \n",
            " 11  HasOnlineBackup           5282 non-null   object \n",
            " 12  HasDeviceProtection       5282 non-null   object \n",
            " 13  HasTechSupportAccess      5282 non-null   object \n",
            " 14  HasOnlineTV               5282 non-null   object \n",
            " 15  HasMovieSubscription      5282 non-null   object \n",
            " 16  HasContractPhone          5282 non-null   object \n",
            " 17  IsBillingPaperless        5282 non-null   object \n",
            " 18  PaymentMethod             5282 non-null   object \n",
            " 19  Churn                     5282 non-null   int64  \n",
            "dtypes: float64(1), int64(3), object(16)\n",
            "memory usage: 825.4+ KB\n"
          ],
          "name": "stdout"
        }
      ]
    },
    {
      "cell_type": "markdown",
      "metadata": {
        "id": "-P6fL8GxmHUJ"
      },
      "source": [
        "видно, что есть колонка с числовыми признаками, но нечисловым типом данных. Замена строковых переменных числовыми"
      ]
    },
    {
      "cell_type": "code",
      "metadata": {
        "id": "IZa2ICZ8mOqD"
      },
      "source": [
        "data['TotalSpent'] = pd.to_numeric(data['TotalSpent'])"
      ],
      "execution_count": null,
      "outputs": []
    },
    {
      "cell_type": "markdown",
      "metadata": {
        "id": "dK370bPCEEZD"
      },
      "source": [
        "## Анализ данных"
      ]
    },
    {
      "cell_type": "markdown",
      "metadata": {
        "id": "-V1ukUcb_h33"
      },
      "source": [
        "гистограммы для численных признаков"
      ]
    },
    {
      "cell_type": "code",
      "metadata": {
        "id": "Fzexi0BW_hL6",
        "outputId": "c3f43a09-685a-47e6-92c1-6f02c2268087",
        "colab": {
          "base_uri": "https://localhost:8080/"
        }
      },
      "source": [
        "fig, axs = plt.subplots(3)\n",
        "fig.suptitle('гистограммы для численных признаков')\n",
        "fig.set_figheight(10)\n",
        "fig.set_figwidth(10)\n",
        "for iii in range(len(num_cols)):\n",
        "  axs[iii].hist(data[num_cols[iii]], bins=20)"
      ],
      "execution_count": null,
      "outputs": [
        {
          "output_type": "display_data",
          "data": {
            "image/png": "[encoded data removed]",
            "text/plain": [
              "<Figure size 720x720 with 3 Axes>"
            ]
          },
          "metadata": {
            "tags": [],
            "needs_background": "light"
          }
        }
      ]
    },
    {
      "cell_type": "markdown",
      "metadata": {
        "id": "X0UR1RtwGvld"
      },
      "source": [
        ""
      ]
    },
    {
      "cell_type": "code",
      "metadata": {
        "id": "0g3peQw8HVWq",
        "outputId": "748d06dc-2057-4d8b-923b-2063b1528b04",
        "colab": {
          "base_uri": "https://localhost:8080/"
        }
      },
      "source": [
        "fig, axs = plt.subplots(len(cat_cols))\n",
        "fig.suptitle('bar диаграммы для категориальных признаков')\n",
        "fig.set_figheight(40)\n",
        "fig.set_figwidth(5)\n",
        "for iii in range(len(cat_cols)):\n",
        "  axs[iii].bar(np.arange(len(data[cat_cols[iii]].value_counts())), data[cat_cols[iii]].value_counts())\n"
      ],
      "execution_count": null,
      "outputs": [
        {
          "output_type": "display_data",
          "data": {
            "image/png": "[encoded data removed]",
            "text/plain": [
              "<Figure size 360x2880 with 16 Axes>"
            ]
          },
          "metadata": {
            "tags": [],
            "needs_background": "light"
          }
        }
      ]
    },
    {
      "cell_type": "markdown",
      "metadata": {
        "id": "FqzrEzaGSxok"
      },
      "source": [
        "распределение целевой переменной"
      ]
    },
    {
      "cell_type": "code",
      "metadata": {
        "id": "HPdN8giaS1fp",
        "outputId": "ecd65948-d37e-405a-80f9-f0cb96cdcc4d",
        "colab": {
          "base_uri": "https://localhost:8080/"
        }
      },
      "source": [
        "plt.bar(np.arange(len(data[target_col].value_counts())), data[target_col].value_counts())"
      ],
      "execution_count": null,
      "outputs": [
        {
          "output_type": "execute_result",
          "data": {
            "text/plain": [
              "<BarContainer object of 2 artists>"
            ]
          },
          "metadata": {
            "tags": []
          },
          "execution_count": 118
        },
        {
          "output_type": "display_data",
          "data": {
            "image/png": "[encoded data removed]",
            "text/plain": [
              "<Figure size 432x288 with 1 Axes>"
            ]
          },
          "metadata": {
            "tags": [],
            "needs_background": "light"
          }
        }
      ]
    },
    {
      "cell_type": "markdown",
      "metadata": {
        "id": "3KSo1pRQTEJK"
      },
      "source": [
        "классы сбалансированы не очень хорошо, но при этом отношение количества элементов одного класса к количеству элементов другого небольшое (примерно 2.5)"
      ]
    },
    {
      "cell_type": "markdown",
      "metadata": {
        "id": "-eEOIEo1pQUw"
      },
      "source": [
        "## Применение линейных моделей"
      ]
    },
    {
      "cell_type": "code",
      "metadata": {
        "id": "SlFyLfJQqCl9"
      },
      "source": [
        "from sklearn.linear_model import LogisticRegression\n",
        "from sklearn.model_selection import GridSearchCV\n",
        "from sklearn.preprocessing import StandardScaler, OneHotEncoder\n",
        "from sklearn.pipeline import Pipeline\n",
        "from sklearn.compose import ColumnTransformer"
      ],
      "execution_count": null,
      "outputs": []
    },
    {
      "cell_type": "markdown",
      "metadata": {
        "id": "XwEbnfCjSWK7"
      },
      "source": [
        "деление на X и y"
      ]
    },
    {
      "cell_type": "code",
      "metadata": {
        "id": "epSRNUu7SY6L",
        "outputId": "20d3ed11-6e2b-45cd-eb85-f670501d9804",
        "colab": {
          "base_uri": "https://localhost:8080/"
        }
      },
      "source": [
        "numeric_data = data[num_cols]\n",
        "categorical_data = data[cat_cols]\n",
        "X = pd.concat([numeric_data, categorical_data], axis=1)\n",
        "y = data[target_col]\n",
        "print(num_cols + cat_cols)"
      ],
      "execution_count": null,
      "outputs": [
        {
          "output_type": "stream",
          "text": [
            "['ClientPeriod', 'MonthlySpending', 'TotalSpent', 'Sex', 'IsSeniorCitizen', 'HasPartner', 'HasChild', 'HasPhoneService', 'HasMultiplePhoneNumbers', 'HasInternetService', 'HasOnlineSecurityService', 'HasOnlineBackup', 'HasDeviceProtection', 'HasTechSupportAccess', 'HasOnlineTV', 'HasMovieSubscription', 'HasContractPhone', 'IsBillingPaperless', 'PaymentMethod']\n"
          ],
          "name": "stdout"
        }
      ]
    },
    {
      "cell_type": "markdown",
      "metadata": {
        "id": "8TF3edL6p-6L"
      },
      "source": [
        "создание пайплайна"
      ]
    },
    {
      "cell_type": "code",
      "metadata": {
        "id": "CG-r6HCkqAof"
      },
      "source": [
        "#model_LR = make_pipeline(OneHotEncoder(), StandardScaler(with_mean=False), LogisticRegression())\n",
        "preprocessor = ColumnTransformer(\n",
        "    transformers = [\n",
        "                    ('cat', OneHotEncoder(), cat_cols),\n",
        "                    ('all', StandardScaler(), num_cols)\n",
        "    ]\n",
        ")\n",
        "model_LR = Pipeline(steps = [\n",
        "                             ('preprocessor', preprocessor),\n",
        "                             ('model', LogisticRegression())\n",
        "])"
      ],
      "execution_count": null,
      "outputs": []
    },
    {
      "cell_type": "markdown",
      "metadata": {
        "id": "wN7GemwmQy4g"
      },
      "source": [
        "создание сетки"
      ]
    },
    {
      "cell_type": "code",
      "metadata": {
        "id": "TcLv10LsQ2OL"
      },
      "source": [
        "parameters = {\"model__C\" : [100, 10, 1, 0.1, 0.01, 0.001]}\n",
        "CV_model_LR = GridSearchCV(estimator=model_LR, \n",
        "                            param_grid=parameters,\n",
        "                            cv=5, \n",
        "                            scoring='roc_auc',\n",
        "                            n_jobs=-1, \n",
        "                            verbose=10)"
      ],
      "execution_count": null,
      "outputs": []
    },
    {
      "cell_type": "markdown",
      "metadata": {
        "id": "mVlXFmPfSDAi"
      },
      "source": [
        "обучение "
      ]
    },
    {
      "cell_type": "code",
      "metadata": {
        "id": "Qs4CIHalSISo",
        "outputId": "887b6203-806e-4682-cd78-998445329170",
        "colab": {
          "base_uri": "https://localhost:8080/"
        }
      },
      "source": [
        "CV_model_LR.fit(X, y)"
      ],
      "execution_count": null,
      "outputs": [
        {
          "output_type": "stream",
          "text": [
            "Fitting 5 folds for each of 6 candidates, totalling 30 fits\n"
          ],
          "name": "stdout"
        },
        {
          "output_type": "stream",
          "text": [
            "[Parallel(n_jobs=-1)]: Using backend LokyBackend with 2 concurrent workers.\n",
            "[Parallel(n_jobs=-1)]: Done   1 tasks      | elapsed:    1.4s\n",
            "[Parallel(n_jobs=-1)]: Done   4 tasks      | elapsed:    1.7s\n",
            "[Parallel(n_jobs=-1)]: Done   9 tasks      | elapsed:    2.3s\n",
            "[Parallel(n_jobs=-1)]: Done  14 tasks      | elapsed:    2.9s\n",
            "[Parallel(n_jobs=-1)]: Done  21 tasks      | elapsed:    3.4s\n",
            "[Parallel(n_jobs=-1)]: Done  30 out of  30 | elapsed:    4.0s finished\n"
          ],
          "name": "stderr"
        },
        {
          "output_type": "execute_result",
          "data": {
            "text/plain": [
              "GridSearchCV(cv=5, error_score=nan,\n",
              "             estimator=Pipeline(memory=None,\n",
              "                                steps=[('preprocessor',\n",
              "                                        ColumnTransformer(n_jobs=None,\n",
              "                                                          remainder='drop',\n",
              "                                                          sparse_threshold=0.3,\n",
              "                                                          transformer_weights=None,\n",
              "                                                          transformers=[('cat',\n",
              "                                                                         OneHotEncoder(categories='auto',\n",
              "                                                                                       drop=None,\n",
              "                                                                                       dtype=<class 'numpy.float64'>,\n",
              "                                                                                       handle_unknown='error',\n",
              "                                                                                       sparse=True),\n",
              "                                                                         ['Sex',\n",
              "                                                                          'IsSeniorCitizen',\n",
              "                                                                          'HasPartner',\n",
              "                                                                          'Ha...\n",
              "                                                           fit_intercept=True,\n",
              "                                                           intercept_scaling=1,\n",
              "                                                           l1_ratio=None,\n",
              "                                                           max_iter=100,\n",
              "                                                           multi_class='auto',\n",
              "                                                           n_jobs=None,\n",
              "                                                           penalty='l2',\n",
              "                                                           random_state=None,\n",
              "                                                           solver='lbfgs',\n",
              "                                                           tol=0.0001,\n",
              "                                                           verbose=0,\n",
              "                                                           warm_start=False))],\n",
              "                                verbose=False),\n",
              "             iid='deprecated', n_jobs=-1,\n",
              "             param_grid={'model__C': [100, 10, 1, 0.1, 0.01, 0.001]},\n",
              "             pre_dispatch='2*n_jobs', refit=True, return_train_score=False,\n",
              "             scoring='roc_auc', verbose=10)"
            ]
          },
          "metadata": {
            "tags": []
          },
          "execution_count": 123
        }
      ]
    },
    {
      "cell_type": "markdown",
      "metadata": {
        "id": "B3T774mbZS3U"
      },
      "source": [
        "наиболее подходящее значение параметра и лучший результат"
      ]
    },
    {
      "cell_type": "code",
      "metadata": {
        "id": "Tn1dxvAHZANe",
        "outputId": "8698fa82-4138-4381-ef73-c1fa40daace8",
        "colab": {
          "base_uri": "https://localhost:8080/"
        }
      },
      "source": [
        "print(CV_model_LR.best_params_,\n",
        "  CV_model_LR.best_score_)"
      ],
      "execution_count": null,
      "outputs": [
        {
          "output_type": "stream",
          "text": [
            "{'model__C': 100} 0.8451139235772726\n"
          ],
          "name": "stdout"
        }
      ]
    },
    {
      "cell_type": "markdown",
      "metadata": {
        "id": "vghjaO9AaEnY"
      },
      "source": [
        "## Применение градиентного бустинга"
      ]
    },
    {
      "cell_type": "markdown",
      "metadata": {
        "id": "SMJ7ZXWPaeif"
      },
      "source": [
        "установка catboost"
      ]
    },
    {
      "cell_type": "code",
      "metadata": {
        "id": "xp2V3Eh8aX_r"
      },
      "source": [
        "#!pip install catboost"
      ],
      "execution_count": null,
      "outputs": []
    },
    {
      "cell_type": "code",
      "metadata": {
        "id": "GPeThM0gaWzv"
      },
      "source": [
        "from catboost import CatBoostClassifier\n",
        "from sklearn.metrics import roc_auc_score\n",
        "from sklearn.model_selection import train_test_split, cross_val_score"
      ],
      "execution_count": null,
      "outputs": []
    },
    {
      "cell_type": "markdown",
      "metadata": {
        "id": "z4lZWGBZbUge"
      },
      "source": [
        "деление на train и test"
      ]
    },
    {
      "cell_type": "code",
      "metadata": {
        "id": "IF-lu1gHbKFj"
      },
      "source": [
        "X_train, X_test, y_train, y_test = train_test_split(X, y, \n",
        "                                                    train_size=0.8,\n",
        "                                                    random_state=42)"
      ],
      "execution_count": null,
      "outputs": []
    },
    {
      "cell_type": "markdown",
      "metadata": {
        "id": "opQ6YpAxbZgP"
      },
      "source": [
        "создание модели"
      ]
    },
    {
      "cell_type": "code",
      "metadata": {
        "id": "7oup8H4Rbftq"
      },
      "source": [
        "boosting_model = CatBoostClassifier(cat_features=cat_cols)"
      ],
      "execution_count": null,
      "outputs": []
    },
    {
      "cell_type": "markdown",
      "metadata": {
        "id": "m3_s1atUbkz8"
      },
      "source": [
        "обучение"
      ]
    },
    {
      "cell_type": "code",
      "metadata": {
        "id": "qTw9_evObsr5",
        "outputId": "d3f2b6d5-7e2e-4010-8ec5-d39b3c0f487e",
        "colab": {
          "base_uri": "https://localhost:8080/"
        }
      },
      "source": [
        "boosting_model.fit(X_train, y_train)"
      ],
      "execution_count": null,
      "outputs": [
        {
          "output_type": "stream",
          "text": [
            "Learning rate set to 0.019062\n",
            "0:\tlearn: 0.6798227\ttotal: 16.4ms\tremaining: 16.3s\n",
            "1:\tlearn: 0.6678084\ttotal: 31.3ms\tremaining: 15.6s\n",
            "2:\tlearn: 0.6553003\ttotal: 58.8ms\tremaining: 19.5s\n",
            "3:\tlearn: 0.6435910\ttotal: 73.7ms\tremaining: 18.3s\n",
            "4:\tlearn: 0.6326850\ttotal: 88.8ms\tremaining: 17.7s\n",
            "5:\tlearn: 0.6225823\ttotal: 105ms\tremaining: 17.4s\n",
            "6:\tlearn: 0.6128742\ttotal: 117ms\tremaining: 16.6s\n",
            "7:\tlearn: 0.6048572\ttotal: 123ms\tremaining: 15.3s\n",
            "8:\tlearn: 0.5958847\ttotal: 137ms\tremaining: 15s\n",
            "9:\tlearn: 0.5871696\ttotal: 151ms\tremaining: 14.9s\n",
            "10:\tlearn: 0.5792007\ttotal: 165ms\tremaining: 14.8s\n",
            "11:\tlearn: 0.5713099\ttotal: 180ms\tremaining: 14.8s\n",
            "12:\tlearn: 0.5643834\ttotal: 191ms\tremaining: 14.5s\n",
            "13:\tlearn: 0.5569418\ttotal: 209ms\tremaining: 14.7s\n",
            "14:\tlearn: 0.5502712\ttotal: 227ms\tremaining: 14.9s\n",
            "15:\tlearn: 0.5441586\ttotal: 242ms\tremaining: 14.9s\n",
            "16:\tlearn: 0.5381109\ttotal: 256ms\tremaining: 14.8s\n",
            "17:\tlearn: 0.5324322\ttotal: 270ms\tremaining: 14.8s\n",
            "18:\tlearn: 0.5268003\ttotal: 286ms\tremaining: 14.8s\n",
            "19:\tlearn: 0.5219835\ttotal: 297ms\tremaining: 14.6s\n",
            "20:\tlearn: 0.5172444\ttotal: 318ms\tremaining: 14.8s\n",
            "21:\tlearn: 0.5128026\ttotal: 333ms\tremaining: 14.8s\n",
            "22:\tlearn: 0.5087266\ttotal: 347ms\tremaining: 14.7s\n",
            "23:\tlearn: 0.5043326\ttotal: 360ms\tremaining: 14.6s\n",
            "24:\tlearn: 0.5002045\ttotal: 376ms\tremaining: 14.7s\n",
            "25:\tlearn: 0.4966419\ttotal: 389ms\tremaining: 14.6s\n",
            "26:\tlearn: 0.4925038\ttotal: 404ms\tremaining: 14.5s\n",
            "27:\tlearn: 0.4890517\ttotal: 423ms\tremaining: 14.7s\n",
            "28:\tlearn: 0.4860670\ttotal: 432ms\tremaining: 14.5s\n",
            "29:\tlearn: 0.4834744\ttotal: 442ms\tremaining: 14.3s\n",
            "30:\tlearn: 0.4807737\ttotal: 453ms\tremaining: 14.2s\n",
            "31:\tlearn: 0.4779702\ttotal: 471ms\tremaining: 14.2s\n",
            "32:\tlearn: 0.4753307\ttotal: 487ms\tremaining: 14.3s\n",
            "33:\tlearn: 0.4721805\ttotal: 501ms\tremaining: 14.2s\n",
            "34:\tlearn: 0.4696706\ttotal: 516ms\tremaining: 14.2s\n",
            "35:\tlearn: 0.4672553\ttotal: 530ms\tremaining: 14.2s\n",
            "36:\tlearn: 0.4647928\ttotal: 544ms\tremaining: 14.2s\n",
            "37:\tlearn: 0.4627877\ttotal: 557ms\tremaining: 14.1s\n",
            "38:\tlearn: 0.4605263\ttotal: 571ms\tremaining: 14.1s\n",
            "39:\tlearn: 0.4590412\ttotal: 579ms\tremaining: 13.9s\n",
            "40:\tlearn: 0.4567017\ttotal: 594ms\tremaining: 13.9s\n",
            "41:\tlearn: 0.4543812\ttotal: 609ms\tremaining: 13.9s\n",
            "42:\tlearn: 0.4522152\ttotal: 631ms\tremaining: 14s\n",
            "43:\tlearn: 0.4502931\ttotal: 648ms\tremaining: 14.1s\n",
            "44:\tlearn: 0.4486923\ttotal: 661ms\tremaining: 14s\n",
            "45:\tlearn: 0.4470583\ttotal: 673ms\tremaining: 14s\n",
            "46:\tlearn: 0.4455320\ttotal: 686ms\tremaining: 13.9s\n",
            "47:\tlearn: 0.4437893\ttotal: 701ms\tremaining: 13.9s\n",
            "48:\tlearn: 0.4428624\ttotal: 707ms\tremaining: 13.7s\n",
            "49:\tlearn: 0.4412781\ttotal: 723ms\tremaining: 13.7s\n",
            "50:\tlearn: 0.4397895\ttotal: 737ms\tremaining: 13.7s\n",
            "51:\tlearn: 0.4384339\ttotal: 750ms\tremaining: 13.7s\n",
            "52:\tlearn: 0.4371854\ttotal: 765ms\tremaining: 13.7s\n",
            "53:\tlearn: 0.4364055\ttotal: 777ms\tremaining: 13.6s\n",
            "54:\tlearn: 0.4352184\ttotal: 790ms\tremaining: 13.6s\n",
            "55:\tlearn: 0.4337721\ttotal: 818ms\tremaining: 13.8s\n",
            "56:\tlearn: 0.4324515\ttotal: 838ms\tremaining: 13.9s\n",
            "57:\tlearn: 0.4314456\ttotal: 851ms\tremaining: 13.8s\n",
            "58:\tlearn: 0.4305596\ttotal: 865ms\tremaining: 13.8s\n",
            "59:\tlearn: 0.4292788\ttotal: 880ms\tremaining: 13.8s\n",
            "60:\tlearn: 0.4283122\ttotal: 888ms\tremaining: 13.7s\n",
            "61:\tlearn: 0.4274593\ttotal: 904ms\tremaining: 13.7s\n",
            "62:\tlearn: 0.4265958\ttotal: 918ms\tremaining: 13.7s\n",
            "63:\tlearn: 0.4260993\ttotal: 924ms\tremaining: 13.5s\n",
            "64:\tlearn: 0.4257903\ttotal: 928ms\tremaining: 13.4s\n",
            "65:\tlearn: 0.4247019\ttotal: 942ms\tremaining: 13.3s\n",
            "66:\tlearn: 0.4236800\ttotal: 958ms\tremaining: 13.3s\n",
            "67:\tlearn: 0.4229522\ttotal: 973ms\tremaining: 13.3s\n",
            "68:\tlearn: 0.4226939\ttotal: 976ms\tremaining: 13.2s\n",
            "69:\tlearn: 0.4218733\ttotal: 990ms\tremaining: 13.2s\n",
            "70:\tlearn: 0.4211414\ttotal: 1.01s\tremaining: 13.2s\n",
            "71:\tlearn: 0.4203216\ttotal: 1.02s\tremaining: 13.2s\n",
            "72:\tlearn: 0.4194013\ttotal: 1.03s\tremaining: 13.2s\n",
            "73:\tlearn: 0.4185774\ttotal: 1.06s\tremaining: 13.3s\n",
            "74:\tlearn: 0.4177821\ttotal: 1.07s\tremaining: 13.3s\n",
            "75:\tlearn: 0.4171858\ttotal: 1.09s\tremaining: 13.3s\n",
            "76:\tlearn: 0.4164366\ttotal: 1.1s\tremaining: 13.2s\n",
            "77:\tlearn: 0.4158349\ttotal: 1.12s\tremaining: 13.2s\n",
            "78:\tlearn: 0.4151242\ttotal: 1.14s\tremaining: 13.2s\n",
            "79:\tlearn: 0.4144640\ttotal: 1.15s\tremaining: 13.2s\n",
            "80:\tlearn: 0.4137854\ttotal: 1.17s\tremaining: 13.2s\n",
            "81:\tlearn: 0.4132089\ttotal: 1.18s\tremaining: 13.2s\n",
            "82:\tlearn: 0.4124402\ttotal: 1.2s\tremaining: 13.2s\n",
            "83:\tlearn: 0.4121436\ttotal: 1.21s\tremaining: 13.2s\n",
            "84:\tlearn: 0.4116595\ttotal: 1.22s\tremaining: 13.1s\n",
            "85:\tlearn: 0.4111734\ttotal: 1.24s\tremaining: 13.2s\n",
            "86:\tlearn: 0.4104189\ttotal: 1.25s\tremaining: 13.2s\n",
            "87:\tlearn: 0.4098534\ttotal: 1.27s\tremaining: 13.2s\n",
            "88:\tlearn: 0.4094537\ttotal: 1.28s\tremaining: 13.2s\n",
            "89:\tlearn: 0.4090650\ttotal: 1.3s\tremaining: 13.2s\n",
            "90:\tlearn: 0.4084436\ttotal: 1.31s\tremaining: 13.1s\n",
            "91:\tlearn: 0.4079478\ttotal: 1.33s\tremaining: 13.1s\n",
            "92:\tlearn: 0.4074267\ttotal: 1.34s\tremaining: 13.1s\n",
            "93:\tlearn: 0.4069030\ttotal: 1.36s\tremaining: 13.1s\n",
            "94:\tlearn: 0.4064826\ttotal: 1.37s\tremaining: 13.1s\n",
            "95:\tlearn: 0.4059903\ttotal: 1.39s\tremaining: 13.1s\n",
            "96:\tlearn: 0.4055576\ttotal: 1.41s\tremaining: 13.1s\n",
            "97:\tlearn: 0.4052143\ttotal: 1.42s\tremaining: 13.1s\n",
            "98:\tlearn: 0.4048504\ttotal: 1.44s\tremaining: 13.1s\n",
            "99:\tlearn: 0.4044955\ttotal: 1.46s\tremaining: 13.1s\n",
            "100:\tlearn: 0.4041572\ttotal: 1.47s\tremaining: 13.1s\n",
            "101:\tlearn: 0.4036933\ttotal: 1.48s\tremaining: 13s\n",
            "102:\tlearn: 0.4034201\ttotal: 1.5s\tremaining: 13.1s\n",
            "103:\tlearn: 0.4029914\ttotal: 1.52s\tremaining: 13.1s\n",
            "104:\tlearn: 0.4025406\ttotal: 1.53s\tremaining: 13.1s\n",
            "105:\tlearn: 0.4021673\ttotal: 1.55s\tremaining: 13s\n",
            "106:\tlearn: 0.4019185\ttotal: 1.56s\tremaining: 13s\n",
            "107:\tlearn: 0.4014553\ttotal: 1.57s\tremaining: 13s\n",
            "108:\tlearn: 0.4011663\ttotal: 1.58s\tremaining: 13s\n",
            "109:\tlearn: 0.4007465\ttotal: 1.6s\tremaining: 12.9s\n",
            "110:\tlearn: 0.4006473\ttotal: 1.61s\tremaining: 12.9s\n",
            "111:\tlearn: 0.4002372\ttotal: 1.62s\tremaining: 12.8s\n",
            "112:\tlearn: 0.3999561\ttotal: 1.63s\tremaining: 12.8s\n",
            "113:\tlearn: 0.3998969\ttotal: 1.64s\tremaining: 12.7s\n",
            "114:\tlearn: 0.3995899\ttotal: 1.66s\tremaining: 12.7s\n",
            "115:\tlearn: 0.3993266\ttotal: 1.67s\tremaining: 12.7s\n",
            "116:\tlearn: 0.3987559\ttotal: 1.69s\tremaining: 12.7s\n",
            "117:\tlearn: 0.3984634\ttotal: 1.7s\tremaining: 12.7s\n",
            "118:\tlearn: 0.3981877\ttotal: 1.71s\tremaining: 12.7s\n",
            "119:\tlearn: 0.3979189\ttotal: 1.73s\tremaining: 12.7s\n",
            "120:\tlearn: 0.3975654\ttotal: 1.75s\tremaining: 12.7s\n",
            "121:\tlearn: 0.3973599\ttotal: 1.76s\tremaining: 12.7s\n",
            "122:\tlearn: 0.3970661\ttotal: 1.78s\tremaining: 12.7s\n",
            "123:\tlearn: 0.3967680\ttotal: 1.79s\tremaining: 12.7s\n",
            "124:\tlearn: 0.3964124\ttotal: 1.81s\tremaining: 12.7s\n",
            "125:\tlearn: 0.3961233\ttotal: 1.82s\tremaining: 12.7s\n",
            "126:\tlearn: 0.3958824\ttotal: 1.84s\tremaining: 12.6s\n",
            "127:\tlearn: 0.3956276\ttotal: 1.85s\tremaining: 12.6s\n",
            "128:\tlearn: 0.3954653\ttotal: 1.87s\tremaining: 12.6s\n",
            "129:\tlearn: 0.3953100\ttotal: 1.88s\tremaining: 12.6s\n",
            "130:\tlearn: 0.3952204\ttotal: 1.9s\tremaining: 12.6s\n",
            "131:\tlearn: 0.3948387\ttotal: 1.91s\tremaining: 12.6s\n",
            "132:\tlearn: 0.3948141\ttotal: 1.92s\tremaining: 12.5s\n",
            "133:\tlearn: 0.3946436\ttotal: 1.93s\tremaining: 12.5s\n",
            "134:\tlearn: 0.3942356\ttotal: 1.95s\tremaining: 12.5s\n",
            "135:\tlearn: 0.3939646\ttotal: 1.96s\tremaining: 12.5s\n",
            "136:\tlearn: 0.3938608\ttotal: 1.98s\tremaining: 12.4s\n",
            "137:\tlearn: 0.3935488\ttotal: 1.99s\tremaining: 12.4s\n",
            "138:\tlearn: 0.3931115\ttotal: 2.01s\tremaining: 12.4s\n",
            "139:\tlearn: 0.3929114\ttotal: 2.02s\tremaining: 12.4s\n",
            "140:\tlearn: 0.3928196\ttotal: 2.03s\tremaining: 12.3s\n",
            "141:\tlearn: 0.3926404\ttotal: 2.05s\tremaining: 12.4s\n",
            "142:\tlearn: 0.3923795\ttotal: 2.07s\tremaining: 12.4s\n",
            "143:\tlearn: 0.3923659\ttotal: 2.08s\tremaining: 12.3s\n",
            "144:\tlearn: 0.3922238\ttotal: 2.09s\tremaining: 12.3s\n",
            "145:\tlearn: 0.3920481\ttotal: 2.1s\tremaining: 12.3s\n",
            "146:\tlearn: 0.3920020\ttotal: 2.11s\tremaining: 12.3s\n",
            "147:\tlearn: 0.3916573\ttotal: 2.13s\tremaining: 12.2s\n",
            "148:\tlearn: 0.3914445\ttotal: 2.14s\tremaining: 12.2s\n",
            "149:\tlearn: 0.3912161\ttotal: 2.16s\tremaining: 12.2s\n",
            "150:\tlearn: 0.3911568\ttotal: 2.16s\tremaining: 12.2s\n",
            "151:\tlearn: 0.3909340\ttotal: 2.18s\tremaining: 12.2s\n",
            "152:\tlearn: 0.3907592\ttotal: 2.19s\tremaining: 12.2s\n",
            "153:\tlearn: 0.3904782\ttotal: 2.21s\tremaining: 12.1s\n",
            "154:\tlearn: 0.3902081\ttotal: 2.23s\tremaining: 12.1s\n",
            "155:\tlearn: 0.3899933\ttotal: 2.24s\tremaining: 12.1s\n",
            "156:\tlearn: 0.3898444\ttotal: 2.25s\tremaining: 12.1s\n",
            "157:\tlearn: 0.3897483\ttotal: 2.27s\tremaining: 12.1s\n",
            "158:\tlearn: 0.3896701\ttotal: 2.28s\tremaining: 12.1s\n",
            "159:\tlearn: 0.3896264\ttotal: 2.29s\tremaining: 12s\n",
            "160:\tlearn: 0.3894686\ttotal: 2.3s\tremaining: 12s\n",
            "161:\tlearn: 0.3894201\ttotal: 2.31s\tremaining: 12s\n",
            "162:\tlearn: 0.3894030\ttotal: 2.31s\tremaining: 11.9s\n",
            "163:\tlearn: 0.3892766\ttotal: 2.33s\tremaining: 11.9s\n",
            "164:\tlearn: 0.3891572\ttotal: 2.34s\tremaining: 11.9s\n",
            "165:\tlearn: 0.3888679\ttotal: 2.36s\tremaining: 11.8s\n",
            "166:\tlearn: 0.3886342\ttotal: 2.37s\tremaining: 11.8s\n",
            "167:\tlearn: 0.3884733\ttotal: 2.39s\tremaining: 11.8s\n",
            "168:\tlearn: 0.3883674\ttotal: 2.4s\tremaining: 11.8s\n",
            "169:\tlearn: 0.3882153\ttotal: 2.42s\tremaining: 11.8s\n",
            "170:\tlearn: 0.3879833\ttotal: 2.43s\tremaining: 11.8s\n",
            "171:\tlearn: 0.3878007\ttotal: 2.44s\tremaining: 11.8s\n",
            "172:\tlearn: 0.3878002\ttotal: 2.45s\tremaining: 11.7s\n",
            "173:\tlearn: 0.3876802\ttotal: 2.46s\tremaining: 11.7s\n",
            "174:\tlearn: 0.3876706\ttotal: 2.47s\tremaining: 11.6s\n",
            "175:\tlearn: 0.3874036\ttotal: 2.49s\tremaining: 11.7s\n",
            "176:\tlearn: 0.3873755\ttotal: 2.5s\tremaining: 11.6s\n",
            "177:\tlearn: 0.3873591\ttotal: 2.51s\tremaining: 11.6s\n",
            "178:\tlearn: 0.3873043\ttotal: 2.52s\tremaining: 11.6s\n",
            "179:\tlearn: 0.3871391\ttotal: 2.54s\tremaining: 11.6s\n",
            "180:\tlearn: 0.3869335\ttotal: 2.55s\tremaining: 11.6s\n",
            "181:\tlearn: 0.3866917\ttotal: 2.57s\tremaining: 11.5s\n",
            "182:\tlearn: 0.3864635\ttotal: 2.58s\tremaining: 11.5s\n",
            "183:\tlearn: 0.3862606\ttotal: 2.6s\tremaining: 11.5s\n",
            "184:\tlearn: 0.3862287\ttotal: 2.6s\tremaining: 11.5s\n",
            "185:\tlearn: 0.3861306\ttotal: 2.62s\tremaining: 11.5s\n",
            "186:\tlearn: 0.3858783\ttotal: 2.64s\tremaining: 11.5s\n",
            "187:\tlearn: 0.3858598\ttotal: 2.66s\tremaining: 11.5s\n",
            "188:\tlearn: 0.3857404\ttotal: 2.68s\tremaining: 11.5s\n",
            "189:\tlearn: 0.3855589\ttotal: 2.7s\tremaining: 11.5s\n",
            "190:\tlearn: 0.3855123\ttotal: 2.72s\tremaining: 11.5s\n",
            "191:\tlearn: 0.3854566\ttotal: 2.73s\tremaining: 11.5s\n",
            "192:\tlearn: 0.3852476\ttotal: 2.75s\tremaining: 11.5s\n",
            "193:\tlearn: 0.3851183\ttotal: 2.76s\tremaining: 11.5s\n",
            "194:\tlearn: 0.3849714\ttotal: 2.77s\tremaining: 11.5s\n",
            "195:\tlearn: 0.3846666\ttotal: 2.79s\tremaining: 11.4s\n",
            "196:\tlearn: 0.3845035\ttotal: 2.8s\tremaining: 11.4s\n",
            "197:\tlearn: 0.3844705\ttotal: 2.81s\tremaining: 11.4s\n",
            "198:\tlearn: 0.3844082\ttotal: 2.83s\tremaining: 11.4s\n",
            "199:\tlearn: 0.3842856\ttotal: 2.84s\tremaining: 11.4s\n",
            "200:\tlearn: 0.3841606\ttotal: 2.86s\tremaining: 11.4s\n",
            "201:\tlearn: 0.3839515\ttotal: 2.87s\tremaining: 11.3s\n",
            "202:\tlearn: 0.3838091\ttotal: 2.89s\tremaining: 11.4s\n",
            "203:\tlearn: 0.3837231\ttotal: 2.91s\tremaining: 11.4s\n",
            "204:\tlearn: 0.3835067\ttotal: 2.92s\tremaining: 11.3s\n",
            "205:\tlearn: 0.3833851\ttotal: 2.94s\tremaining: 11.3s\n",
            "206:\tlearn: 0.3833111\ttotal: 2.96s\tremaining: 11.3s\n",
            "207:\tlearn: 0.3831473\ttotal: 2.97s\tremaining: 11.3s\n",
            "208:\tlearn: 0.3830204\ttotal: 2.99s\tremaining: 11.3s\n",
            "209:\tlearn: 0.3828937\ttotal: 3s\tremaining: 11.3s\n",
            "210:\tlearn: 0.3828153\ttotal: 3.02s\tremaining: 11.3s\n",
            "211:\tlearn: 0.3828153\ttotal: 3.02s\tremaining: 11.2s\n",
            "212:\tlearn: 0.3827247\ttotal: 3.03s\tremaining: 11.2s\n",
            "213:\tlearn: 0.3824727\ttotal: 3.06s\tremaining: 11.2s\n",
            "214:\tlearn: 0.3823481\ttotal: 3.08s\tremaining: 11.2s\n",
            "215:\tlearn: 0.3823028\ttotal: 3.09s\tremaining: 11.2s\n",
            "216:\tlearn: 0.3822969\ttotal: 3.1s\tremaining: 11.2s\n",
            "217:\tlearn: 0.3822744\ttotal: 3.1s\tremaining: 11.1s\n",
            "218:\tlearn: 0.3820359\ttotal: 3.13s\tremaining: 11.2s\n",
            "219:\tlearn: 0.3820087\ttotal: 3.14s\tremaining: 11.1s\n",
            "220:\tlearn: 0.3818789\ttotal: 3.16s\tremaining: 11.1s\n",
            "221:\tlearn: 0.3817317\ttotal: 3.17s\tremaining: 11.1s\n",
            "222:\tlearn: 0.3815952\ttotal: 3.18s\tremaining: 11.1s\n",
            "223:\tlearn: 0.3815917\ttotal: 3.19s\tremaining: 11.1s\n",
            "224:\tlearn: 0.3814536\ttotal: 3.21s\tremaining: 11.1s\n",
            "225:\tlearn: 0.3812431\ttotal: 3.22s\tremaining: 11s\n",
            "226:\tlearn: 0.3810376\ttotal: 3.24s\tremaining: 11s\n",
            "227:\tlearn: 0.3809902\ttotal: 3.25s\tremaining: 11s\n",
            "228:\tlearn: 0.3809673\ttotal: 3.26s\tremaining: 11s\n",
            "229:\tlearn: 0.3808937\ttotal: 3.27s\tremaining: 11s\n",
            "230:\tlearn: 0.3808890\ttotal: 3.28s\tremaining: 10.9s\n",
            "231:\tlearn: 0.3808890\ttotal: 3.28s\tremaining: 10.9s\n",
            "232:\tlearn: 0.3807558\ttotal: 3.3s\tremaining: 10.9s\n",
            "233:\tlearn: 0.3807378\ttotal: 3.31s\tremaining: 10.8s\n",
            "234:\tlearn: 0.3806194\ttotal: 3.33s\tremaining: 10.9s\n",
            "235:\tlearn: 0.3804406\ttotal: 3.35s\tremaining: 10.8s\n",
            "236:\tlearn: 0.3803799\ttotal: 3.36s\tremaining: 10.8s\n",
            "237:\tlearn: 0.3803330\ttotal: 3.38s\tremaining: 10.8s\n",
            "238:\tlearn: 0.3802994\ttotal: 3.38s\tremaining: 10.8s\n",
            "239:\tlearn: 0.3802530\ttotal: 3.4s\tremaining: 10.8s\n",
            "240:\tlearn: 0.3801753\ttotal: 3.42s\tremaining: 10.8s\n",
            "241:\tlearn: 0.3800969\ttotal: 3.43s\tremaining: 10.8s\n",
            "242:\tlearn: 0.3800179\ttotal: 3.45s\tremaining: 10.7s\n",
            "243:\tlearn: 0.3799649\ttotal: 3.46s\tremaining: 10.7s\n",
            "244:\tlearn: 0.3799552\ttotal: 3.46s\tremaining: 10.7s\n",
            "245:\tlearn: 0.3799508\ttotal: 3.47s\tremaining: 10.6s\n",
            "246:\tlearn: 0.3798295\ttotal: 3.49s\tremaining: 10.6s\n",
            "247:\tlearn: 0.3796788\ttotal: 3.5s\tremaining: 10.6s\n",
            "248:\tlearn: 0.3795848\ttotal: 3.52s\tremaining: 10.6s\n",
            "249:\tlearn: 0.3795786\ttotal: 3.53s\tremaining: 10.6s\n",
            "250:\tlearn: 0.3795556\ttotal: 3.54s\tremaining: 10.6s\n",
            "251:\tlearn: 0.3794300\ttotal: 3.56s\tremaining: 10.6s\n",
            "252:\tlearn: 0.3792911\ttotal: 3.57s\tremaining: 10.5s\n",
            "253:\tlearn: 0.3792529\ttotal: 3.58s\tremaining: 10.5s\n",
            "254:\tlearn: 0.3791851\ttotal: 3.59s\tremaining: 10.5s\n",
            "255:\tlearn: 0.3790043\ttotal: 3.6s\tremaining: 10.5s\n",
            "256:\tlearn: 0.3788939\ttotal: 3.61s\tremaining: 10.4s\n",
            "257:\tlearn: 0.3788462\ttotal: 3.64s\tremaining: 10.5s\n",
            "258:\tlearn: 0.3788456\ttotal: 3.64s\tremaining: 10.4s\n",
            "259:\tlearn: 0.3788366\ttotal: 3.65s\tremaining: 10.4s\n",
            "260:\tlearn: 0.3786450\ttotal: 3.67s\tremaining: 10.4s\n",
            "261:\tlearn: 0.3786084\ttotal: 3.68s\tremaining: 10.4s\n",
            "262:\tlearn: 0.3784881\ttotal: 3.7s\tremaining: 10.4s\n",
            "263:\tlearn: 0.3784490\ttotal: 3.71s\tremaining: 10.3s\n",
            "264:\tlearn: 0.3782324\ttotal: 3.73s\tremaining: 10.3s\n",
            "265:\tlearn: 0.3781251\ttotal: 3.75s\tremaining: 10.3s\n",
            "266:\tlearn: 0.3781128\ttotal: 3.76s\tremaining: 10.3s\n",
            "267:\tlearn: 0.3781125\ttotal: 3.77s\tremaining: 10.3s\n",
            "268:\tlearn: 0.3781125\ttotal: 3.77s\tremaining: 10.2s\n",
            "269:\tlearn: 0.3779493\ttotal: 3.79s\tremaining: 10.2s\n",
            "270:\tlearn: 0.3778061\ttotal: 3.8s\tremaining: 10.2s\n",
            "271:\tlearn: 0.3778051\ttotal: 3.8s\tremaining: 10.2s\n",
            "272:\tlearn: 0.3776758\ttotal: 3.82s\tremaining: 10.2s\n",
            "273:\tlearn: 0.3776044\ttotal: 3.83s\tremaining: 10.2s\n",
            "274:\tlearn: 0.3776027\ttotal: 3.84s\tremaining: 10.1s\n",
            "275:\tlearn: 0.3775640\ttotal: 3.86s\tremaining: 10.1s\n",
            "276:\tlearn: 0.3772321\ttotal: 3.88s\tremaining: 10.1s\n",
            "277:\tlearn: 0.3771760\ttotal: 3.89s\tremaining: 10.1s\n",
            "278:\tlearn: 0.3771757\ttotal: 3.89s\tremaining: 10.1s\n",
            "279:\tlearn: 0.3771392\ttotal: 3.91s\tremaining: 10s\n",
            "280:\tlearn: 0.3771233\ttotal: 3.92s\tremaining: 10s\n",
            "281:\tlearn: 0.3770876\ttotal: 3.93s\tremaining: 10s\n",
            "282:\tlearn: 0.3770253\ttotal: 3.94s\tremaining: 9.99s\n",
            "283:\tlearn: 0.3769567\ttotal: 3.97s\tremaining: 10s\n",
            "284:\tlearn: 0.3767957\ttotal: 3.98s\tremaining: 9.99s\n",
            "285:\tlearn: 0.3766846\ttotal: 4s\tremaining: 9.98s\n",
            "286:\tlearn: 0.3765980\ttotal: 4.01s\tremaining: 9.97s\n",
            "287:\tlearn: 0.3763921\ttotal: 4.03s\tremaining: 9.96s\n",
            "288:\tlearn: 0.3762428\ttotal: 4.06s\tremaining: 9.98s\n",
            "289:\tlearn: 0.3761735\ttotal: 4.07s\tremaining: 9.97s\n",
            "290:\tlearn: 0.3761723\ttotal: 4.08s\tremaining: 9.94s\n",
            "291:\tlearn: 0.3761723\ttotal: 4.08s\tremaining: 9.9s\n",
            "292:\tlearn: 0.3759938\ttotal: 4.1s\tremaining: 9.88s\n",
            "293:\tlearn: 0.3759402\ttotal: 4.11s\tremaining: 9.87s\n",
            "294:\tlearn: 0.3759369\ttotal: 4.11s\tremaining: 9.83s\n",
            "295:\tlearn: 0.3758592\ttotal: 4.13s\tremaining: 9.82s\n",
            "296:\tlearn: 0.3758320\ttotal: 4.14s\tremaining: 9.8s\n",
            "297:\tlearn: 0.3757573\ttotal: 4.16s\tremaining: 9.79s\n",
            "298:\tlearn: 0.3757451\ttotal: 4.17s\tremaining: 9.79s\n",
            "299:\tlearn: 0.3756910\ttotal: 4.19s\tremaining: 9.78s\n",
            "300:\tlearn: 0.3756089\ttotal: 4.2s\tremaining: 9.76s\n",
            "301:\tlearn: 0.3756019\ttotal: 4.21s\tremaining: 9.72s\n",
            "302:\tlearn: 0.3756009\ttotal: 4.21s\tremaining: 9.69s\n",
            "303:\tlearn: 0.3755746\ttotal: 4.23s\tremaining: 9.68s\n",
            "304:\tlearn: 0.3755736\ttotal: 4.23s\tremaining: 9.64s\n",
            "305:\tlearn: 0.3753361\ttotal: 4.25s\tremaining: 9.64s\n",
            "306:\tlearn: 0.3752435\ttotal: 4.27s\tremaining: 9.63s\n",
            "307:\tlearn: 0.3750781\ttotal: 4.28s\tremaining: 9.62s\n",
            "308:\tlearn: 0.3750475\ttotal: 4.3s\tremaining: 9.61s\n",
            "309:\tlearn: 0.3748702\ttotal: 4.31s\tremaining: 9.6s\n",
            "310:\tlearn: 0.3747857\ttotal: 4.32s\tremaining: 9.57s\n",
            "311:\tlearn: 0.3746464\ttotal: 4.33s\tremaining: 9.56s\n",
            "312:\tlearn: 0.3746027\ttotal: 4.35s\tremaining: 9.55s\n",
            "313:\tlearn: 0.3745174\ttotal: 4.37s\tremaining: 9.54s\n",
            "314:\tlearn: 0.3745133\ttotal: 4.37s\tremaining: 9.51s\n",
            "315:\tlearn: 0.3744816\ttotal: 4.39s\tremaining: 9.5s\n",
            "316:\tlearn: 0.3743728\ttotal: 4.41s\tremaining: 9.49s\n",
            "317:\tlearn: 0.3742461\ttotal: 4.42s\tremaining: 9.49s\n",
            "318:\tlearn: 0.3741357\ttotal: 4.44s\tremaining: 9.48s\n",
            "319:\tlearn: 0.3739843\ttotal: 4.46s\tremaining: 9.47s\n",
            "320:\tlearn: 0.3739811\ttotal: 4.47s\tremaining: 9.45s\n",
            "321:\tlearn: 0.3739244\ttotal: 4.48s\tremaining: 9.44s\n",
            "322:\tlearn: 0.3739160\ttotal: 4.49s\tremaining: 9.41s\n",
            "323:\tlearn: 0.3738912\ttotal: 4.5s\tremaining: 9.4s\n",
            "324:\tlearn: 0.3737396\ttotal: 4.52s\tremaining: 9.39s\n",
            "325:\tlearn: 0.3736754\ttotal: 4.54s\tremaining: 9.38s\n",
            "326:\tlearn: 0.3735485\ttotal: 4.55s\tremaining: 9.37s\n",
            "327:\tlearn: 0.3734980\ttotal: 4.57s\tremaining: 9.36s\n",
            "328:\tlearn: 0.3734832\ttotal: 4.58s\tremaining: 9.34s\n",
            "329:\tlearn: 0.3733538\ttotal: 4.59s\tremaining: 9.33s\n",
            "330:\tlearn: 0.3732754\ttotal: 4.61s\tremaining: 9.31s\n",
            "331:\tlearn: 0.3732342\ttotal: 4.62s\tremaining: 9.3s\n",
            "332:\tlearn: 0.3730373\ttotal: 4.64s\tremaining: 9.29s\n",
            "333:\tlearn: 0.3730239\ttotal: 4.65s\tremaining: 9.28s\n",
            "334:\tlearn: 0.3728094\ttotal: 4.67s\tremaining: 9.27s\n",
            "335:\tlearn: 0.3727191\ttotal: 4.68s\tremaining: 9.26s\n",
            "336:\tlearn: 0.3725564\ttotal: 4.7s\tremaining: 9.24s\n",
            "337:\tlearn: 0.3725012\ttotal: 4.71s\tremaining: 9.23s\n",
            "338:\tlearn: 0.3723967\ttotal: 4.72s\tremaining: 9.21s\n",
            "339:\tlearn: 0.3723952\ttotal: 4.73s\tremaining: 9.19s\n",
            "340:\tlearn: 0.3723505\ttotal: 4.75s\tremaining: 9.18s\n",
            "341:\tlearn: 0.3721993\ttotal: 4.76s\tremaining: 9.16s\n",
            "342:\tlearn: 0.3721464\ttotal: 4.78s\tremaining: 9.15s\n",
            "343:\tlearn: 0.3720769\ttotal: 4.8s\tremaining: 9.15s\n",
            "344:\tlearn: 0.3720496\ttotal: 4.81s\tremaining: 9.13s\n",
            "345:\tlearn: 0.3719755\ttotal: 4.83s\tremaining: 9.12s\n",
            "346:\tlearn: 0.3719437\ttotal: 4.84s\tremaining: 9.12s\n",
            "347:\tlearn: 0.3718225\ttotal: 4.86s\tremaining: 9.1s\n",
            "348:\tlearn: 0.3718059\ttotal: 4.87s\tremaining: 9.08s\n",
            "349:\tlearn: 0.3717976\ttotal: 4.87s\tremaining: 9.05s\n",
            "350:\tlearn: 0.3717123\ttotal: 4.89s\tremaining: 9.04s\n",
            "351:\tlearn: 0.3716542\ttotal: 4.9s\tremaining: 9.03s\n",
            "352:\tlearn: 0.3715574\ttotal: 4.92s\tremaining: 9.01s\n",
            "353:\tlearn: 0.3715236\ttotal: 4.93s\tremaining: 9s\n",
            "354:\tlearn: 0.3714740\ttotal: 4.94s\tremaining: 8.98s\n",
            "355:\tlearn: 0.3714300\ttotal: 4.96s\tremaining: 8.97s\n",
            "356:\tlearn: 0.3713255\ttotal: 4.97s\tremaining: 8.95s\n",
            "357:\tlearn: 0.3713253\ttotal: 4.98s\tremaining: 8.93s\n",
            "358:\tlearn: 0.3712343\ttotal: 5s\tremaining: 8.92s\n",
            "359:\tlearn: 0.3712134\ttotal: 5.01s\tremaining: 8.9s\n",
            "360:\tlearn: 0.3710488\ttotal: 5.03s\tremaining: 8.89s\n",
            "361:\tlearn: 0.3710475\ttotal: 5.04s\tremaining: 8.88s\n",
            "362:\tlearn: 0.3710470\ttotal: 5.05s\tremaining: 8.86s\n",
            "363:\tlearn: 0.3710400\ttotal: 5.06s\tremaining: 8.84s\n",
            "364:\tlearn: 0.3709650\ttotal: 5.08s\tremaining: 8.83s\n",
            "365:\tlearn: 0.3708619\ttotal: 5.09s\tremaining: 8.82s\n",
            "366:\tlearn: 0.3708619\ttotal: 5.09s\tremaining: 8.79s\n",
            "367:\tlearn: 0.3707520\ttotal: 5.11s\tremaining: 8.78s\n",
            "368:\tlearn: 0.3707518\ttotal: 5.12s\tremaining: 8.75s\n",
            "369:\tlearn: 0.3705534\ttotal: 5.13s\tremaining: 8.74s\n",
            "370:\tlearn: 0.3705531\ttotal: 5.14s\tremaining: 8.71s\n",
            "371:\tlearn: 0.3703008\ttotal: 5.15s\tremaining: 8.69s\n",
            "372:\tlearn: 0.3701771\ttotal: 5.17s\tremaining: 8.69s\n",
            "373:\tlearn: 0.3701712\ttotal: 5.19s\tremaining: 8.69s\n",
            "374:\tlearn: 0.3701529\ttotal: 5.2s\tremaining: 8.66s\n",
            "375:\tlearn: 0.3701529\ttotal: 5.2s\tremaining: 8.63s\n",
            "376:\tlearn: 0.3700702\ttotal: 5.22s\tremaining: 8.62s\n",
            "377:\tlearn: 0.3699832\ttotal: 5.24s\tremaining: 8.61s\n",
            "378:\tlearn: 0.3699377\ttotal: 5.25s\tremaining: 8.6s\n",
            "379:\tlearn: 0.3698791\ttotal: 5.27s\tremaining: 8.6s\n",
            "380:\tlearn: 0.3697313\ttotal: 5.28s\tremaining: 8.58s\n",
            "381:\tlearn: 0.3694964\ttotal: 5.3s\tremaining: 8.57s\n",
            "382:\tlearn: 0.3692354\ttotal: 5.31s\tremaining: 8.56s\n",
            "383:\tlearn: 0.3692185\ttotal: 5.33s\tremaining: 8.55s\n",
            "384:\tlearn: 0.3690472\ttotal: 5.34s\tremaining: 8.53s\n",
            "385:\tlearn: 0.3689842\ttotal: 5.36s\tremaining: 8.52s\n",
            "386:\tlearn: 0.3688187\ttotal: 5.37s\tremaining: 8.51s\n",
            "387:\tlearn: 0.3688035\ttotal: 5.38s\tremaining: 8.49s\n",
            "388:\tlearn: 0.3686128\ttotal: 5.41s\tremaining: 8.49s\n",
            "389:\tlearn: 0.3683989\ttotal: 5.42s\tremaining: 8.48s\n",
            "390:\tlearn: 0.3682493\ttotal: 5.44s\tremaining: 8.47s\n",
            "391:\tlearn: 0.3681944\ttotal: 5.46s\tremaining: 8.46s\n",
            "392:\tlearn: 0.3681697\ttotal: 5.47s\tremaining: 8.45s\n",
            "393:\tlearn: 0.3681202\ttotal: 5.49s\tremaining: 8.44s\n",
            "394:\tlearn: 0.3680328\ttotal: 5.5s\tremaining: 8.42s\n",
            "395:\tlearn: 0.3679301\ttotal: 5.51s\tremaining: 8.41s\n",
            "396:\tlearn: 0.3678454\ttotal: 5.53s\tremaining: 8.4s\n",
            "397:\tlearn: 0.3677155\ttotal: 5.54s\tremaining: 8.39s\n",
            "398:\tlearn: 0.3675551\ttotal: 5.56s\tremaining: 8.38s\n",
            "399:\tlearn: 0.3675047\ttotal: 5.58s\tremaining: 8.37s\n",
            "400:\tlearn: 0.3673890\ttotal: 5.59s\tremaining: 8.36s\n",
            "401:\tlearn: 0.3673525\ttotal: 5.62s\tremaining: 8.36s\n",
            "402:\tlearn: 0.3673188\ttotal: 5.63s\tremaining: 8.35s\n",
            "403:\tlearn: 0.3671852\ttotal: 5.65s\tremaining: 8.34s\n",
            "404:\tlearn: 0.3671851\ttotal: 5.66s\tremaining: 8.31s\n",
            "405:\tlearn: 0.3670580\ttotal: 5.67s\tremaining: 8.3s\n",
            "406:\tlearn: 0.3669671\ttotal: 5.69s\tremaining: 8.29s\n",
            "407:\tlearn: 0.3669189\ttotal: 5.7s\tremaining: 8.28s\n",
            "408:\tlearn: 0.3668993\ttotal: 5.72s\tremaining: 8.27s\n",
            "409:\tlearn: 0.3668927\ttotal: 5.73s\tremaining: 8.24s\n",
            "410:\tlearn: 0.3668901\ttotal: 5.74s\tremaining: 8.23s\n",
            "411:\tlearn: 0.3667594\ttotal: 5.76s\tremaining: 8.22s\n",
            "412:\tlearn: 0.3666613\ttotal: 5.77s\tremaining: 8.21s\n",
            "413:\tlearn: 0.3665226\ttotal: 5.79s\tremaining: 8.19s\n",
            "414:\tlearn: 0.3663768\ttotal: 5.8s\tremaining: 8.18s\n",
            "415:\tlearn: 0.3663745\ttotal: 5.82s\tremaining: 8.16s\n",
            "416:\tlearn: 0.3663147\ttotal: 5.84s\tremaining: 8.16s\n",
            "417:\tlearn: 0.3662016\ttotal: 5.85s\tremaining: 8.15s\n",
            "418:\tlearn: 0.3661556\ttotal: 5.87s\tremaining: 8.14s\n",
            "419:\tlearn: 0.3660116\ttotal: 5.88s\tremaining: 8.13s\n",
            "420:\tlearn: 0.3658905\ttotal: 5.9s\tremaining: 8.12s\n",
            "421:\tlearn: 0.3658628\ttotal: 5.92s\tremaining: 8.11s\n",
            "422:\tlearn: 0.3658565\ttotal: 5.92s\tremaining: 8.08s\n",
            "423:\tlearn: 0.3657557\ttotal: 5.94s\tremaining: 8.07s\n",
            "424:\tlearn: 0.3656307\ttotal: 5.95s\tremaining: 8.05s\n",
            "425:\tlearn: 0.3656088\ttotal: 5.97s\tremaining: 8.04s\n",
            "426:\tlearn: 0.3655149\ttotal: 5.98s\tremaining: 8.03s\n",
            "427:\tlearn: 0.3652854\ttotal: 6s\tremaining: 8.02s\n",
            "428:\tlearn: 0.3651004\ttotal: 6.01s\tremaining: 8.01s\n",
            "429:\tlearn: 0.3650217\ttotal: 6.05s\tremaining: 8.02s\n",
            "430:\tlearn: 0.3650054\ttotal: 6.07s\tremaining: 8.01s\n",
            "431:\tlearn: 0.3648689\ttotal: 6.08s\tremaining: 7.99s\n",
            "432:\tlearn: 0.3647723\ttotal: 6.09s\tremaining: 7.98s\n",
            "433:\tlearn: 0.3647663\ttotal: 6.1s\tremaining: 7.96s\n",
            "434:\tlearn: 0.3647605\ttotal: 6.11s\tremaining: 7.93s\n",
            "435:\tlearn: 0.3645256\ttotal: 6.12s\tremaining: 7.92s\n",
            "436:\tlearn: 0.3643913\ttotal: 6.13s\tremaining: 7.9s\n",
            "437:\tlearn: 0.3643279\ttotal: 6.15s\tremaining: 7.89s\n",
            "438:\tlearn: 0.3641333\ttotal: 6.16s\tremaining: 7.88s\n",
            "439:\tlearn: 0.3639381\ttotal: 6.18s\tremaining: 7.86s\n",
            "440:\tlearn: 0.3638643\ttotal: 6.19s\tremaining: 7.85s\n",
            "441:\tlearn: 0.3638393\ttotal: 6.21s\tremaining: 7.83s\n",
            "442:\tlearn: 0.3637011\ttotal: 6.22s\tremaining: 7.82s\n",
            "443:\tlearn: 0.3635011\ttotal: 6.23s\tremaining: 7.81s\n",
            "444:\tlearn: 0.3634213\ttotal: 6.25s\tremaining: 7.79s\n",
            "445:\tlearn: 0.3632373\ttotal: 6.28s\tremaining: 7.79s\n",
            "446:\tlearn: 0.3630529\ttotal: 6.29s\tremaining: 7.78s\n",
            "447:\tlearn: 0.3629371\ttotal: 6.31s\tremaining: 7.78s\n",
            "448:\tlearn: 0.3628734\ttotal: 6.33s\tremaining: 7.77s\n",
            "449:\tlearn: 0.3628545\ttotal: 6.34s\tremaining: 7.75s\n",
            "450:\tlearn: 0.3627567\ttotal: 6.36s\tremaining: 7.74s\n",
            "451:\tlearn: 0.3625505\ttotal: 6.37s\tremaining: 7.73s\n",
            "452:\tlearn: 0.3624237\ttotal: 6.39s\tremaining: 7.71s\n",
            "453:\tlearn: 0.3622852\ttotal: 6.4s\tremaining: 7.7s\n",
            "454:\tlearn: 0.3621172\ttotal: 6.42s\tremaining: 7.69s\n",
            "455:\tlearn: 0.3621117\ttotal: 6.42s\tremaining: 7.66s\n",
            "456:\tlearn: 0.3620534\ttotal: 6.44s\tremaining: 7.65s\n",
            "457:\tlearn: 0.3618833\ttotal: 6.45s\tremaining: 7.64s\n",
            "458:\tlearn: 0.3617455\ttotal: 6.47s\tremaining: 7.62s\n",
            "459:\tlearn: 0.3615951\ttotal: 6.49s\tremaining: 7.61s\n",
            "460:\tlearn: 0.3614186\ttotal: 6.5s\tremaining: 7.6s\n",
            "461:\tlearn: 0.3613624\ttotal: 6.52s\tremaining: 7.59s\n",
            "462:\tlearn: 0.3613194\ttotal: 6.53s\tremaining: 7.58s\n",
            "463:\tlearn: 0.3610873\ttotal: 6.54s\tremaining: 7.56s\n",
            "464:\tlearn: 0.3610477\ttotal: 6.56s\tremaining: 7.54s\n",
            "465:\tlearn: 0.3609081\ttotal: 6.57s\tremaining: 7.53s\n",
            "466:\tlearn: 0.3608599\ttotal: 6.59s\tremaining: 7.52s\n",
            "467:\tlearn: 0.3606604\ttotal: 6.6s\tremaining: 7.51s\n",
            "468:\tlearn: 0.3604426\ttotal: 6.62s\tremaining: 7.49s\n",
            "469:\tlearn: 0.3603680\ttotal: 6.63s\tremaining: 7.48s\n",
            "470:\tlearn: 0.3601622\ttotal: 6.65s\tremaining: 7.47s\n",
            "471:\tlearn: 0.3600413\ttotal: 6.67s\tremaining: 7.46s\n",
            "472:\tlearn: 0.3600043\ttotal: 6.68s\tremaining: 7.45s\n",
            "473:\tlearn: 0.3600042\ttotal: 6.7s\tremaining: 7.43s\n",
            "474:\tlearn: 0.3599004\ttotal: 6.71s\tremaining: 7.42s\n",
            "475:\tlearn: 0.3598566\ttotal: 6.73s\tremaining: 7.41s\n",
            "476:\tlearn: 0.3595262\ttotal: 6.75s\tremaining: 7.4s\n",
            "477:\tlearn: 0.3594159\ttotal: 6.76s\tremaining: 7.38s\n",
            "478:\tlearn: 0.3593201\ttotal: 6.78s\tremaining: 7.37s\n",
            "479:\tlearn: 0.3592588\ttotal: 6.79s\tremaining: 7.36s\n",
            "480:\tlearn: 0.3592163\ttotal: 6.8s\tremaining: 7.34s\n",
            "481:\tlearn: 0.3591139\ttotal: 6.82s\tremaining: 7.33s\n",
            "482:\tlearn: 0.3589246\ttotal: 6.83s\tremaining: 7.31s\n",
            "483:\tlearn: 0.3588154\ttotal: 6.85s\tremaining: 7.3s\n",
            "484:\tlearn: 0.3586982\ttotal: 6.86s\tremaining: 7.29s\n",
            "485:\tlearn: 0.3585530\ttotal: 6.88s\tremaining: 7.27s\n",
            "486:\tlearn: 0.3583223\ttotal: 6.9s\tremaining: 7.27s\n",
            "487:\tlearn: 0.3581556\ttotal: 6.92s\tremaining: 7.26s\n",
            "488:\tlearn: 0.3580290\ttotal: 6.93s\tremaining: 7.25s\n",
            "489:\tlearn: 0.3578665\ttotal: 6.95s\tremaining: 7.23s\n",
            "490:\tlearn: 0.3576795\ttotal: 6.96s\tremaining: 7.22s\n",
            "491:\tlearn: 0.3576531\ttotal: 6.98s\tremaining: 7.2s\n",
            "492:\tlearn: 0.3575974\ttotal: 6.99s\tremaining: 7.19s\n",
            "493:\tlearn: 0.3573659\ttotal: 7.01s\tremaining: 7.18s\n",
            "494:\tlearn: 0.3573008\ttotal: 7.03s\tremaining: 7.17s\n",
            "495:\tlearn: 0.3571448\ttotal: 7.05s\tremaining: 7.16s\n",
            "496:\tlearn: 0.3570744\ttotal: 7.06s\tremaining: 7.15s\n",
            "497:\tlearn: 0.3569443\ttotal: 7.08s\tremaining: 7.13s\n",
            "498:\tlearn: 0.3569074\ttotal: 7.09s\tremaining: 7.12s\n",
            "499:\tlearn: 0.3568648\ttotal: 7.12s\tremaining: 7.12s\n",
            "500:\tlearn: 0.3568328\ttotal: 7.13s\tremaining: 7.1s\n",
            "501:\tlearn: 0.3566875\ttotal: 7.15s\tremaining: 7.09s\n",
            "502:\tlearn: 0.3565992\ttotal: 7.16s\tremaining: 7.08s\n",
            "503:\tlearn: 0.3565116\ttotal: 7.18s\tremaining: 7.06s\n",
            "504:\tlearn: 0.3563565\ttotal: 7.19s\tremaining: 7.05s\n",
            "505:\tlearn: 0.3563492\ttotal: 7.21s\tremaining: 7.04s\n",
            "506:\tlearn: 0.3562508\ttotal: 7.22s\tremaining: 7.02s\n",
            "507:\tlearn: 0.3561802\ttotal: 7.24s\tremaining: 7.01s\n",
            "508:\tlearn: 0.3561754\ttotal: 7.24s\tremaining: 6.99s\n",
            "509:\tlearn: 0.3560655\ttotal: 7.26s\tremaining: 6.98s\n",
            "510:\tlearn: 0.3560227\ttotal: 7.28s\tremaining: 6.96s\n",
            "511:\tlearn: 0.3558538\ttotal: 7.29s\tremaining: 6.95s\n",
            "512:\tlearn: 0.3556728\ttotal: 7.31s\tremaining: 6.94s\n",
            "513:\tlearn: 0.3555847\ttotal: 7.33s\tremaining: 6.93s\n",
            "514:\tlearn: 0.3555137\ttotal: 7.34s\tremaining: 6.92s\n",
            "515:\tlearn: 0.3553841\ttotal: 7.36s\tremaining: 6.9s\n",
            "516:\tlearn: 0.3551884\ttotal: 7.38s\tremaining: 6.89s\n",
            "517:\tlearn: 0.3550160\ttotal: 7.39s\tremaining: 6.88s\n",
            "518:\tlearn: 0.3548483\ttotal: 7.41s\tremaining: 6.87s\n",
            "519:\tlearn: 0.3546139\ttotal: 7.43s\tremaining: 6.85s\n",
            "520:\tlearn: 0.3545691\ttotal: 7.44s\tremaining: 6.84s\n",
            "521:\tlearn: 0.3544582\ttotal: 7.46s\tremaining: 6.83s\n",
            "522:\tlearn: 0.3543330\ttotal: 7.47s\tremaining: 6.82s\n",
            "523:\tlearn: 0.3542873\ttotal: 7.49s\tremaining: 6.8s\n",
            "524:\tlearn: 0.3542368\ttotal: 7.5s\tremaining: 6.79s\n",
            "525:\tlearn: 0.3542309\ttotal: 7.52s\tremaining: 6.77s\n",
            "526:\tlearn: 0.3541521\ttotal: 7.54s\tremaining: 6.77s\n",
            "527:\tlearn: 0.3540495\ttotal: 7.56s\tremaining: 6.76s\n",
            "528:\tlearn: 0.3540057\ttotal: 7.57s\tremaining: 6.74s\n",
            "529:\tlearn: 0.3538328\ttotal: 7.59s\tremaining: 6.73s\n",
            "530:\tlearn: 0.3537918\ttotal: 7.6s\tremaining: 6.71s\n",
            "531:\tlearn: 0.3537479\ttotal: 7.62s\tremaining: 6.71s\n",
            "532:\tlearn: 0.3537333\ttotal: 7.64s\tremaining: 6.69s\n",
            "533:\tlearn: 0.3536677\ttotal: 7.65s\tremaining: 6.68s\n",
            "534:\tlearn: 0.3534568\ttotal: 7.66s\tremaining: 6.66s\n",
            "535:\tlearn: 0.3534483\ttotal: 7.68s\tremaining: 6.65s\n",
            "536:\tlearn: 0.3533147\ttotal: 7.7s\tremaining: 6.63s\n",
            "537:\tlearn: 0.3531181\ttotal: 7.71s\tremaining: 6.62s\n",
            "538:\tlearn: 0.3529745\ttotal: 7.72s\tremaining: 6.61s\n",
            "539:\tlearn: 0.3527962\ttotal: 7.74s\tremaining: 6.59s\n",
            "540:\tlearn: 0.3526242\ttotal: 7.76s\tremaining: 6.59s\n",
            "541:\tlearn: 0.3524934\ttotal: 7.78s\tremaining: 6.58s\n",
            "542:\tlearn: 0.3523325\ttotal: 7.8s\tremaining: 6.56s\n",
            "543:\tlearn: 0.3522613\ttotal: 7.81s\tremaining: 6.55s\n",
            "544:\tlearn: 0.3521134\ttotal: 7.83s\tremaining: 6.54s\n",
            "545:\tlearn: 0.3520093\ttotal: 7.84s\tremaining: 6.52s\n",
            "546:\tlearn: 0.3518616\ttotal: 7.86s\tremaining: 6.51s\n",
            "547:\tlearn: 0.3516590\ttotal: 7.88s\tremaining: 6.5s\n",
            "548:\tlearn: 0.3515831\ttotal: 7.89s\tremaining: 6.49s\n",
            "549:\tlearn: 0.3513904\ttotal: 7.91s\tremaining: 6.47s\n",
            "550:\tlearn: 0.3512196\ttotal: 7.92s\tremaining: 6.46s\n",
            "551:\tlearn: 0.3511540\ttotal: 7.94s\tremaining: 6.44s\n",
            "552:\tlearn: 0.3510725\ttotal: 7.95s\tremaining: 6.43s\n",
            "553:\tlearn: 0.3509199\ttotal: 7.97s\tremaining: 6.42s\n",
            "554:\tlearn: 0.3508262\ttotal: 7.99s\tremaining: 6.41s\n",
            "555:\tlearn: 0.3507318\ttotal: 8s\tremaining: 6.39s\n",
            "556:\tlearn: 0.3506213\ttotal: 8.02s\tremaining: 6.38s\n",
            "557:\tlearn: 0.3506016\ttotal: 8.04s\tremaining: 6.37s\n",
            "558:\tlearn: 0.3505108\ttotal: 8.06s\tremaining: 6.36s\n",
            "559:\tlearn: 0.3504704\ttotal: 8.07s\tremaining: 6.34s\n",
            "560:\tlearn: 0.3502434\ttotal: 8.09s\tremaining: 6.33s\n",
            "561:\tlearn: 0.3501017\ttotal: 8.1s\tremaining: 6.32s\n",
            "562:\tlearn: 0.3499830\ttotal: 8.12s\tremaining: 6.3s\n",
            "563:\tlearn: 0.3498912\ttotal: 8.14s\tremaining: 6.29s\n",
            "564:\tlearn: 0.3497518\ttotal: 8.15s\tremaining: 6.28s\n",
            "565:\tlearn: 0.3495880\ttotal: 8.17s\tremaining: 6.26s\n",
            "566:\tlearn: 0.3494330\ttotal: 8.19s\tremaining: 6.26s\n",
            "567:\tlearn: 0.3493111\ttotal: 8.21s\tremaining: 6.24s\n",
            "568:\tlearn: 0.3492002\ttotal: 8.23s\tremaining: 6.23s\n",
            "569:\tlearn: 0.3491303\ttotal: 8.24s\tremaining: 6.22s\n",
            "570:\tlearn: 0.3488946\ttotal: 8.26s\tremaining: 6.21s\n",
            "571:\tlearn: 0.3487163\ttotal: 8.28s\tremaining: 6.19s\n",
            "572:\tlearn: 0.3486669\ttotal: 8.29s\tremaining: 6.18s\n",
            "573:\tlearn: 0.3484823\ttotal: 8.31s\tremaining: 6.17s\n",
            "574:\tlearn: 0.3483637\ttotal: 8.32s\tremaining: 6.15s\n",
            "575:\tlearn: 0.3482264\ttotal: 8.34s\tremaining: 6.14s\n",
            "576:\tlearn: 0.3481355\ttotal: 8.35s\tremaining: 6.12s\n",
            "577:\tlearn: 0.3480040\ttotal: 8.37s\tremaining: 6.11s\n",
            "578:\tlearn: 0.3479618\ttotal: 8.38s\tremaining: 6.1s\n",
            "579:\tlearn: 0.3478589\ttotal: 8.4s\tremaining: 6.09s\n",
            "580:\tlearn: 0.3477691\ttotal: 8.42s\tremaining: 6.07s\n",
            "581:\tlearn: 0.3476621\ttotal: 8.43s\tremaining: 6.05s\n",
            "582:\tlearn: 0.3475598\ttotal: 8.44s\tremaining: 6.04s\n",
            "583:\tlearn: 0.3474742\ttotal: 8.46s\tremaining: 6.03s\n",
            "584:\tlearn: 0.3472862\ttotal: 8.47s\tremaining: 6.01s\n",
            "585:\tlearn: 0.3471724\ttotal: 8.49s\tremaining: 6s\n",
            "586:\tlearn: 0.3470970\ttotal: 8.51s\tremaining: 5.99s\n",
            "587:\tlearn: 0.3470050\ttotal: 8.52s\tremaining: 5.97s\n",
            "588:\tlearn: 0.3469542\ttotal: 8.54s\tremaining: 5.96s\n",
            "589:\tlearn: 0.3468083\ttotal: 8.55s\tremaining: 5.94s\n",
            "590:\tlearn: 0.3466709\ttotal: 8.57s\tremaining: 5.93s\n",
            "591:\tlearn: 0.3465677\ttotal: 8.59s\tremaining: 5.92s\n",
            "592:\tlearn: 0.3463892\ttotal: 8.6s\tremaining: 5.9s\n",
            "593:\tlearn: 0.3463507\ttotal: 8.62s\tremaining: 5.89s\n",
            "594:\tlearn: 0.3463046\ttotal: 8.64s\tremaining: 5.88s\n",
            "595:\tlearn: 0.3461744\ttotal: 8.65s\tremaining: 5.86s\n",
            "596:\tlearn: 0.3460913\ttotal: 8.67s\tremaining: 5.85s\n",
            "597:\tlearn: 0.3460636\ttotal: 8.68s\tremaining: 5.84s\n",
            "598:\tlearn: 0.3459450\ttotal: 8.7s\tremaining: 5.82s\n",
            "599:\tlearn: 0.3458984\ttotal: 8.71s\tremaining: 5.81s\n",
            "600:\tlearn: 0.3457527\ttotal: 8.73s\tremaining: 5.79s\n",
            "601:\tlearn: 0.3456141\ttotal: 8.74s\tremaining: 5.78s\n",
            "602:\tlearn: 0.3455431\ttotal: 8.76s\tremaining: 5.77s\n",
            "603:\tlearn: 0.3454177\ttotal: 8.78s\tremaining: 5.75s\n",
            "604:\tlearn: 0.3452809\ttotal: 8.79s\tremaining: 5.74s\n",
            "605:\tlearn: 0.3451664\ttotal: 8.81s\tremaining: 5.73s\n",
            "606:\tlearn: 0.3450552\ttotal: 8.83s\tremaining: 5.71s\n",
            "607:\tlearn: 0.3449885\ttotal: 8.84s\tremaining: 5.7s\n",
            "608:\tlearn: 0.3449318\ttotal: 8.86s\tremaining: 5.69s\n",
            "609:\tlearn: 0.3448322\ttotal: 8.88s\tremaining: 5.67s\n",
            "610:\tlearn: 0.3446709\ttotal: 8.89s\tremaining: 5.66s\n",
            "611:\tlearn: 0.3445261\ttotal: 8.9s\tremaining: 5.65s\n",
            "612:\tlearn: 0.3445077\ttotal: 8.92s\tremaining: 5.63s\n",
            "613:\tlearn: 0.3443869\ttotal: 8.94s\tremaining: 5.62s\n",
            "614:\tlearn: 0.3442905\ttotal: 8.96s\tremaining: 5.61s\n",
            "615:\tlearn: 0.3442002\ttotal: 8.97s\tremaining: 5.59s\n",
            "616:\tlearn: 0.3440720\ttotal: 8.99s\tremaining: 5.58s\n",
            "617:\tlearn: 0.3440484\ttotal: 9s\tremaining: 5.57s\n",
            "618:\tlearn: 0.3439413\ttotal: 9.02s\tremaining: 5.55s\n",
            "619:\tlearn: 0.3439099\ttotal: 9.05s\tremaining: 5.54s\n",
            "620:\tlearn: 0.3438335\ttotal: 9.06s\tremaining: 5.53s\n",
            "621:\tlearn: 0.3437780\ttotal: 9.08s\tremaining: 5.52s\n",
            "622:\tlearn: 0.3437443\ttotal: 9.1s\tremaining: 5.5s\n",
            "623:\tlearn: 0.3436639\ttotal: 9.11s\tremaining: 5.49s\n",
            "624:\tlearn: 0.3436047\ttotal: 9.13s\tremaining: 5.48s\n",
            "625:\tlearn: 0.3435260\ttotal: 9.14s\tremaining: 5.46s\n",
            "626:\tlearn: 0.3435231\ttotal: 9.16s\tremaining: 5.45s\n",
            "627:\tlearn: 0.3433348\ttotal: 9.17s\tremaining: 5.43s\n",
            "628:\tlearn: 0.3432501\ttotal: 9.19s\tremaining: 5.42s\n",
            "629:\tlearn: 0.3430881\ttotal: 9.2s\tremaining: 5.4s\n",
            "630:\tlearn: 0.3430143\ttotal: 9.22s\tremaining: 5.39s\n",
            "631:\tlearn: 0.3429559\ttotal: 9.24s\tremaining: 5.38s\n",
            "632:\tlearn: 0.3428458\ttotal: 9.26s\tremaining: 5.37s\n",
            "633:\tlearn: 0.3428236\ttotal: 9.27s\tremaining: 5.35s\n",
            "634:\tlearn: 0.3426295\ttotal: 9.29s\tremaining: 5.34s\n",
            "635:\tlearn: 0.3424754\ttotal: 9.3s\tremaining: 5.32s\n",
            "636:\tlearn: 0.3424369\ttotal: 9.32s\tremaining: 5.31s\n",
            "637:\tlearn: 0.3423308\ttotal: 9.33s\tremaining: 5.29s\n",
            "638:\tlearn: 0.3422881\ttotal: 9.35s\tremaining: 5.28s\n",
            "639:\tlearn: 0.3422155\ttotal: 9.37s\tremaining: 5.27s\n",
            "640:\tlearn: 0.3422121\ttotal: 9.38s\tremaining: 5.25s\n",
            "641:\tlearn: 0.3420937\ttotal: 9.39s\tremaining: 5.24s\n",
            "642:\tlearn: 0.3420749\ttotal: 9.41s\tremaining: 5.22s\n",
            "643:\tlearn: 0.3419725\ttotal: 9.43s\tremaining: 5.21s\n",
            "644:\tlearn: 0.3418789\ttotal: 9.45s\tremaining: 5.2s\n",
            "645:\tlearn: 0.3417796\ttotal: 9.47s\tremaining: 5.19s\n",
            "646:\tlearn: 0.3416706\ttotal: 9.48s\tremaining: 5.17s\n",
            "647:\tlearn: 0.3415254\ttotal: 9.5s\tremaining: 5.16s\n",
            "648:\tlearn: 0.3414249\ttotal: 9.51s\tremaining: 5.14s\n",
            "649:\tlearn: 0.3413482\ttotal: 9.53s\tremaining: 5.13s\n",
            "650:\tlearn: 0.3413150\ttotal: 9.54s\tremaining: 5.12s\n",
            "651:\tlearn: 0.3412231\ttotal: 9.56s\tremaining: 5.1s\n",
            "652:\tlearn: 0.3411155\ttotal: 9.57s\tremaining: 5.09s\n",
            "653:\tlearn: 0.3410078\ttotal: 9.59s\tremaining: 5.07s\n",
            "654:\tlearn: 0.3408859\ttotal: 9.61s\tremaining: 5.06s\n",
            "655:\tlearn: 0.3407687\ttotal: 9.63s\tremaining: 5.05s\n",
            "656:\tlearn: 0.3406822\ttotal: 9.64s\tremaining: 5.03s\n",
            "657:\tlearn: 0.3404562\ttotal: 9.67s\tremaining: 5.03s\n",
            "658:\tlearn: 0.3404160\ttotal: 9.68s\tremaining: 5.01s\n",
            "659:\tlearn: 0.3402538\ttotal: 9.7s\tremaining: 5s\n",
            "660:\tlearn: 0.3401736\ttotal: 9.71s\tremaining: 4.98s\n",
            "661:\tlearn: 0.3400461\ttotal: 9.73s\tremaining: 4.97s\n",
            "662:\tlearn: 0.3399206\ttotal: 9.74s\tremaining: 4.95s\n",
            "663:\tlearn: 0.3398097\ttotal: 9.76s\tremaining: 4.94s\n",
            "664:\tlearn: 0.3398096\ttotal: 9.76s\tremaining: 4.92s\n",
            "665:\tlearn: 0.3396917\ttotal: 9.78s\tremaining: 4.9s\n",
            "666:\tlearn: 0.3396861\ttotal: 9.79s\tremaining: 4.89s\n",
            "667:\tlearn: 0.3395033\ttotal: 9.81s\tremaining: 4.88s\n",
            "668:\tlearn: 0.3394443\ttotal: 9.82s\tremaining: 4.86s\n",
            "669:\tlearn: 0.3393422\ttotal: 9.84s\tremaining: 4.85s\n",
            "670:\tlearn: 0.3391934\ttotal: 9.86s\tremaining: 4.83s\n",
            "671:\tlearn: 0.3390958\ttotal: 9.88s\tremaining: 4.82s\n",
            "672:\tlearn: 0.3390083\ttotal: 9.89s\tremaining: 4.81s\n",
            "673:\tlearn: 0.3389149\ttotal: 9.91s\tremaining: 4.79s\n",
            "674:\tlearn: 0.3389071\ttotal: 9.92s\tremaining: 4.78s\n",
            "675:\tlearn: 0.3388379\ttotal: 9.94s\tremaining: 4.76s\n",
            "676:\tlearn: 0.3386786\ttotal: 9.96s\tremaining: 4.75s\n",
            "677:\tlearn: 0.3386043\ttotal: 9.97s\tremaining: 4.74s\n",
            "678:\tlearn: 0.3384877\ttotal: 9.99s\tremaining: 4.72s\n",
            "679:\tlearn: 0.3384627\ttotal: 10s\tremaining: 4.71s\n",
            "680:\tlearn: 0.3383855\ttotal: 10s\tremaining: 4.69s\n",
            "681:\tlearn: 0.3383603\ttotal: 10s\tremaining: 4.68s\n",
            "682:\tlearn: 0.3383162\ttotal: 10.1s\tremaining: 4.67s\n",
            "683:\tlearn: 0.3382011\ttotal: 10.1s\tremaining: 4.66s\n",
            "684:\tlearn: 0.3381200\ttotal: 10.1s\tremaining: 4.64s\n",
            "685:\tlearn: 0.3380749\ttotal: 10.1s\tremaining: 4.63s\n",
            "686:\tlearn: 0.3380514\ttotal: 10.1s\tremaining: 4.61s\n",
            "687:\tlearn: 0.3378637\ttotal: 10.1s\tremaining: 4.6s\n",
            "688:\tlearn: 0.3378425\ttotal: 10.2s\tremaining: 4.59s\n",
            "689:\tlearn: 0.3376237\ttotal: 10.2s\tremaining: 4.57s\n",
            "690:\tlearn: 0.3375739\ttotal: 10.2s\tremaining: 4.56s\n",
            "691:\tlearn: 0.3375671\ttotal: 10.2s\tremaining: 4.54s\n",
            "692:\tlearn: 0.3374046\ttotal: 10.2s\tremaining: 4.53s\n",
            "693:\tlearn: 0.3373772\ttotal: 10.2s\tremaining: 4.51s\n",
            "694:\tlearn: 0.3372657\ttotal: 10.3s\tremaining: 4.5s\n",
            "695:\tlearn: 0.3371357\ttotal: 10.3s\tremaining: 4.49s\n",
            "696:\tlearn: 0.3370298\ttotal: 10.3s\tremaining: 4.47s\n",
            "697:\tlearn: 0.3368950\ttotal: 10.3s\tremaining: 4.46s\n",
            "698:\tlearn: 0.3368743\ttotal: 10.3s\tremaining: 4.45s\n",
            "699:\tlearn: 0.3366706\ttotal: 10.3s\tremaining: 4.43s\n",
            "700:\tlearn: 0.3365300\ttotal: 10.4s\tremaining: 4.42s\n",
            "701:\tlearn: 0.3364487\ttotal: 10.4s\tremaining: 4.41s\n",
            "702:\tlearn: 0.3363469\ttotal: 10.4s\tremaining: 4.39s\n",
            "703:\tlearn: 0.3362939\ttotal: 10.4s\tremaining: 4.38s\n",
            "704:\tlearn: 0.3362093\ttotal: 10.4s\tremaining: 4.36s\n",
            "705:\tlearn: 0.3361088\ttotal: 10.4s\tremaining: 4.35s\n",
            "706:\tlearn: 0.3360354\ttotal: 10.5s\tremaining: 4.33s\n",
            "707:\tlearn: 0.3359873\ttotal: 10.5s\tremaining: 4.32s\n",
            "708:\tlearn: 0.3358388\ttotal: 10.5s\tremaining: 4.3s\n",
            "709:\tlearn: 0.3356429\ttotal: 10.5s\tremaining: 4.29s\n",
            "710:\tlearn: 0.3355926\ttotal: 10.5s\tremaining: 4.28s\n",
            "711:\tlearn: 0.3354960\ttotal: 10.5s\tremaining: 4.26s\n",
            "712:\tlearn: 0.3353841\ttotal: 10.6s\tremaining: 4.25s\n",
            "713:\tlearn: 0.3352935\ttotal: 10.6s\tremaining: 4.24s\n",
            "714:\tlearn: 0.3352116\ttotal: 10.6s\tremaining: 4.22s\n",
            "715:\tlearn: 0.3351294\ttotal: 10.6s\tremaining: 4.21s\n",
            "716:\tlearn: 0.3349879\ttotal: 10.6s\tremaining: 4.19s\n",
            "717:\tlearn: 0.3348289\ttotal: 10.6s\tremaining: 4.18s\n",
            "718:\tlearn: 0.3347119\ttotal: 10.7s\tremaining: 4.16s\n",
            "719:\tlearn: 0.3346010\ttotal: 10.7s\tremaining: 4.15s\n",
            "720:\tlearn: 0.3345567\ttotal: 10.7s\tremaining: 4.13s\n",
            "721:\tlearn: 0.3344300\ttotal: 10.7s\tremaining: 4.12s\n",
            "722:\tlearn: 0.3343306\ttotal: 10.7s\tremaining: 4.11s\n",
            "723:\tlearn: 0.3342425\ttotal: 10.7s\tremaining: 4.09s\n",
            "724:\tlearn: 0.3341923\ttotal: 10.8s\tremaining: 4.08s\n",
            "725:\tlearn: 0.3340725\ttotal: 10.8s\tremaining: 4.07s\n",
            "726:\tlearn: 0.3340183\ttotal: 10.8s\tremaining: 4.05s\n",
            "727:\tlearn: 0.3339470\ttotal: 10.8s\tremaining: 4.04s\n",
            "728:\tlearn: 0.3339059\ttotal: 10.8s\tremaining: 4.02s\n",
            "729:\tlearn: 0.3337664\ttotal: 10.8s\tremaining: 4.01s\n",
            "730:\tlearn: 0.3337216\ttotal: 10.9s\tremaining: 3.99s\n",
            "731:\tlearn: 0.3336319\ttotal: 10.9s\tremaining: 3.98s\n",
            "732:\tlearn: 0.3334843\ttotal: 10.9s\tremaining: 3.96s\n",
            "733:\tlearn: 0.3333798\ttotal: 10.9s\tremaining: 3.95s\n",
            "734:\tlearn: 0.3333196\ttotal: 10.9s\tremaining: 3.93s\n",
            "735:\tlearn: 0.3332657\ttotal: 10.9s\tremaining: 3.93s\n",
            "736:\tlearn: 0.3331262\ttotal: 11s\tremaining: 3.92s\n",
            "737:\tlearn: 0.3331057\ttotal: 11s\tremaining: 3.9s\n",
            "738:\tlearn: 0.3329453\ttotal: 11s\tremaining: 3.89s\n",
            "739:\tlearn: 0.3329059\ttotal: 11s\tremaining: 3.88s\n",
            "740:\tlearn: 0.3327980\ttotal: 11.1s\tremaining: 3.86s\n",
            "741:\tlearn: 0.3327624\ttotal: 11.1s\tremaining: 3.85s\n",
            "742:\tlearn: 0.3327456\ttotal: 11.1s\tremaining: 3.83s\n",
            "743:\tlearn: 0.3326840\ttotal: 11.1s\tremaining: 3.82s\n",
            "744:\tlearn: 0.3326619\ttotal: 11.1s\tremaining: 3.81s\n",
            "745:\tlearn: 0.3325944\ttotal: 11.1s\tremaining: 3.79s\n",
            "746:\tlearn: 0.3325844\ttotal: 11.2s\tremaining: 3.78s\n",
            "747:\tlearn: 0.3324188\ttotal: 11.2s\tremaining: 3.76s\n",
            "748:\tlearn: 0.3323952\ttotal: 11.2s\tremaining: 3.75s\n",
            "749:\tlearn: 0.3323547\ttotal: 11.2s\tremaining: 3.73s\n",
            "750:\tlearn: 0.3321572\ttotal: 11.2s\tremaining: 3.72s\n",
            "751:\tlearn: 0.3320754\ttotal: 11.2s\tremaining: 3.71s\n",
            "752:\tlearn: 0.3319734\ttotal: 11.3s\tremaining: 3.69s\n",
            "753:\tlearn: 0.3318764\ttotal: 11.3s\tremaining: 3.68s\n",
            "754:\tlearn: 0.3318355\ttotal: 11.3s\tremaining: 3.66s\n",
            "755:\tlearn: 0.3317391\ttotal: 11.3s\tremaining: 3.65s\n",
            "756:\tlearn: 0.3316805\ttotal: 11.3s\tremaining: 3.63s\n",
            "757:\tlearn: 0.3316574\ttotal: 11.3s\tremaining: 3.62s\n",
            "758:\tlearn: 0.3315579\ttotal: 11.3s\tremaining: 3.6s\n",
            "759:\tlearn: 0.3314094\ttotal: 11.4s\tremaining: 3.59s\n",
            "760:\tlearn: 0.3313163\ttotal: 11.4s\tremaining: 3.58s\n",
            "761:\tlearn: 0.3312191\ttotal: 11.4s\tremaining: 3.56s\n",
            "762:\tlearn: 0.3311154\ttotal: 11.4s\tremaining: 3.55s\n",
            "763:\tlearn: 0.3310404\ttotal: 11.4s\tremaining: 3.53s\n",
            "764:\tlearn: 0.3309535\ttotal: 11.4s\tremaining: 3.52s\n",
            "765:\tlearn: 0.3308533\ttotal: 11.5s\tremaining: 3.5s\n",
            "766:\tlearn: 0.3307733\ttotal: 11.5s\tremaining: 3.49s\n",
            "767:\tlearn: 0.3306882\ttotal: 11.5s\tremaining: 3.47s\n",
            "768:\tlearn: 0.3306077\ttotal: 11.5s\tremaining: 3.46s\n",
            "769:\tlearn: 0.3305216\ttotal: 11.5s\tremaining: 3.44s\n",
            "770:\tlearn: 0.3305185\ttotal: 11.5s\tremaining: 3.43s\n",
            "771:\tlearn: 0.3305013\ttotal: 11.6s\tremaining: 3.41s\n",
            "772:\tlearn: 0.3304446\ttotal: 11.6s\tremaining: 3.4s\n",
            "773:\tlearn: 0.3303683\ttotal: 11.6s\tremaining: 3.39s\n",
            "774:\tlearn: 0.3303048\ttotal: 11.6s\tremaining: 3.37s\n",
            "775:\tlearn: 0.3303029\ttotal: 11.6s\tremaining: 3.36s\n",
            "776:\tlearn: 0.3302852\ttotal: 11.7s\tremaining: 3.34s\n",
            "777:\tlearn: 0.3301863\ttotal: 11.7s\tremaining: 3.33s\n",
            "778:\tlearn: 0.3301186\ttotal: 11.7s\tremaining: 3.31s\n",
            "779:\tlearn: 0.3300847\ttotal: 11.7s\tremaining: 3.3s\n",
            "780:\tlearn: 0.3299491\ttotal: 11.7s\tremaining: 3.29s\n",
            "781:\tlearn: 0.3299166\ttotal: 11.7s\tremaining: 3.27s\n",
            "782:\tlearn: 0.3297649\ttotal: 11.7s\tremaining: 3.26s\n",
            "783:\tlearn: 0.3297042\ttotal: 11.8s\tremaining: 3.24s\n",
            "784:\tlearn: 0.3296103\ttotal: 11.8s\tremaining: 3.23s\n",
            "785:\tlearn: 0.3295724\ttotal: 11.8s\tremaining: 3.21s\n",
            "786:\tlearn: 0.3294495\ttotal: 11.8s\tremaining: 3.2s\n",
            "787:\tlearn: 0.3293604\ttotal: 11.8s\tremaining: 3.18s\n",
            "788:\tlearn: 0.3293263\ttotal: 11.8s\tremaining: 3.17s\n",
            "789:\tlearn: 0.3291886\ttotal: 11.9s\tremaining: 3.15s\n",
            "790:\tlearn: 0.3291121\ttotal: 11.9s\tremaining: 3.14s\n",
            "791:\tlearn: 0.3290461\ttotal: 11.9s\tremaining: 3.12s\n",
            "792:\tlearn: 0.3289579\ttotal: 11.9s\tremaining: 3.11s\n",
            "793:\tlearn: 0.3289338\ttotal: 11.9s\tremaining: 3.09s\n",
            "794:\tlearn: 0.3289096\ttotal: 11.9s\tremaining: 3.08s\n",
            "795:\tlearn: 0.3289044\ttotal: 12s\tremaining: 3.06s\n",
            "796:\tlearn: 0.3287954\ttotal: 12s\tremaining: 3.05s\n",
            "797:\tlearn: 0.3287201\ttotal: 12s\tremaining: 3.04s\n",
            "798:\tlearn: 0.3286351\ttotal: 12s\tremaining: 3.02s\n",
            "799:\tlearn: 0.3285536\ttotal: 12s\tremaining: 3.01s\n",
            "800:\tlearn: 0.3284479\ttotal: 12.1s\tremaining: 3s\n",
            "801:\tlearn: 0.3284387\ttotal: 12.1s\tremaining: 2.98s\n",
            "802:\tlearn: 0.3284198\ttotal: 12.1s\tremaining: 2.96s\n",
            "803:\tlearn: 0.3283490\ttotal: 12.1s\tremaining: 2.95s\n",
            "804:\tlearn: 0.3283470\ttotal: 12.1s\tremaining: 2.94s\n",
            "805:\tlearn: 0.3282826\ttotal: 12.1s\tremaining: 2.92s\n",
            "806:\tlearn: 0.3282516\ttotal: 12.1s\tremaining: 2.9s\n",
            "807:\tlearn: 0.3281609\ttotal: 12.2s\tremaining: 2.89s\n",
            "808:\tlearn: 0.3280951\ttotal: 12.2s\tremaining: 2.88s\n",
            "809:\tlearn: 0.3280267\ttotal: 12.2s\tremaining: 2.86s\n",
            "810:\tlearn: 0.3279490\ttotal: 12.2s\tremaining: 2.85s\n",
            "811:\tlearn: 0.3278864\ttotal: 12.2s\tremaining: 2.83s\n",
            "812:\tlearn: 0.3278488\ttotal: 12.2s\tremaining: 2.82s\n",
            "813:\tlearn: 0.3278367\ttotal: 12.3s\tremaining: 2.8s\n",
            "814:\tlearn: 0.3277747\ttotal: 12.3s\tremaining: 2.79s\n",
            "815:\tlearn: 0.3277034\ttotal: 12.3s\tremaining: 2.77s\n",
            "816:\tlearn: 0.3276254\ttotal: 12.3s\tremaining: 2.76s\n",
            "817:\tlearn: 0.3275626\ttotal: 12.3s\tremaining: 2.74s\n",
            "818:\tlearn: 0.3275162\ttotal: 12.3s\tremaining: 2.73s\n",
            "819:\tlearn: 0.3274321\ttotal: 12.4s\tremaining: 2.71s\n",
            "820:\tlearn: 0.3273297\ttotal: 12.4s\tremaining: 2.7s\n",
            "821:\tlearn: 0.3272288\ttotal: 12.4s\tremaining: 2.68s\n",
            "822:\tlearn: 0.3271414\ttotal: 12.4s\tremaining: 2.67s\n",
            "823:\tlearn: 0.3270555\ttotal: 12.4s\tremaining: 2.65s\n",
            "824:\tlearn: 0.3269344\ttotal: 12.4s\tremaining: 2.64s\n",
            "825:\tlearn: 0.3267888\ttotal: 12.5s\tremaining: 2.62s\n",
            "826:\tlearn: 0.3267566\ttotal: 12.5s\tremaining: 2.61s\n",
            "827:\tlearn: 0.3267245\ttotal: 12.5s\tremaining: 2.59s\n",
            "828:\tlearn: 0.3264680\ttotal: 12.5s\tremaining: 2.58s\n",
            "829:\tlearn: 0.3263352\ttotal: 12.5s\tremaining: 2.56s\n",
            "830:\tlearn: 0.3262118\ttotal: 12.5s\tremaining: 2.55s\n",
            "831:\tlearn: 0.3261863\ttotal: 12.5s\tremaining: 2.53s\n",
            "832:\tlearn: 0.3261414\ttotal: 12.6s\tremaining: 2.52s\n",
            "833:\tlearn: 0.3260814\ttotal: 12.6s\tremaining: 2.5s\n",
            "834:\tlearn: 0.3260337\ttotal: 12.6s\tremaining: 2.49s\n",
            "835:\tlearn: 0.3259300\ttotal: 12.6s\tremaining: 2.47s\n",
            "836:\tlearn: 0.3258507\ttotal: 12.6s\tremaining: 2.46s\n",
            "837:\tlearn: 0.3257711\ttotal: 12.6s\tremaining: 2.44s\n",
            "838:\tlearn: 0.3257329\ttotal: 12.7s\tremaining: 2.43s\n",
            "839:\tlearn: 0.3256526\ttotal: 12.7s\tremaining: 2.41s\n",
            "840:\tlearn: 0.3255744\ttotal: 12.7s\tremaining: 2.4s\n",
            "841:\tlearn: 0.3254845\ttotal: 12.7s\tremaining: 2.38s\n",
            "842:\tlearn: 0.3253269\ttotal: 12.7s\tremaining: 2.37s\n",
            "843:\tlearn: 0.3252172\ttotal: 12.7s\tremaining: 2.35s\n",
            "844:\tlearn: 0.3252067\ttotal: 12.7s\tremaining: 2.34s\n",
            "845:\tlearn: 0.3251341\ttotal: 12.8s\tremaining: 2.32s\n",
            "846:\tlearn: 0.3249990\ttotal: 12.8s\tremaining: 2.31s\n",
            "847:\tlearn: 0.3249966\ttotal: 12.8s\tremaining: 2.29s\n",
            "848:\tlearn: 0.3249232\ttotal: 12.8s\tremaining: 2.28s\n",
            "849:\tlearn: 0.3248678\ttotal: 12.9s\tremaining: 2.27s\n",
            "850:\tlearn: 0.3247701\ttotal: 12.9s\tremaining: 2.25s\n",
            "851:\tlearn: 0.3246437\ttotal: 12.9s\tremaining: 2.24s\n",
            "852:\tlearn: 0.3245933\ttotal: 12.9s\tremaining: 2.22s\n",
            "853:\tlearn: 0.3244711\ttotal: 12.9s\tremaining: 2.21s\n",
            "854:\tlearn: 0.3243701\ttotal: 12.9s\tremaining: 2.19s\n",
            "855:\tlearn: 0.3243190\ttotal: 12.9s\tremaining: 2.18s\n",
            "856:\tlearn: 0.3242313\ttotal: 13s\tremaining: 2.16s\n",
            "857:\tlearn: 0.3241294\ttotal: 13s\tremaining: 2.15s\n",
            "858:\tlearn: 0.3240474\ttotal: 13s\tremaining: 2.13s\n",
            "859:\tlearn: 0.3240182\ttotal: 13s\tremaining: 2.12s\n",
            "860:\tlearn: 0.3239563\ttotal: 13s\tremaining: 2.1s\n",
            "861:\tlearn: 0.3237832\ttotal: 13.1s\tremaining: 2.09s\n",
            "862:\tlearn: 0.3236890\ttotal: 13.1s\tremaining: 2.08s\n",
            "863:\tlearn: 0.3235229\ttotal: 13.1s\tremaining: 2.06s\n",
            "864:\tlearn: 0.3234842\ttotal: 13.1s\tremaining: 2.04s\n",
            "865:\tlearn: 0.3234587\ttotal: 13.1s\tremaining: 2.03s\n",
            "866:\tlearn: 0.3233504\ttotal: 13.1s\tremaining: 2.01s\n",
            "867:\tlearn: 0.3232464\ttotal: 13.2s\tremaining: 2s\n",
            "868:\tlearn: 0.3231568\ttotal: 13.2s\tremaining: 1.98s\n",
            "869:\tlearn: 0.3231184\ttotal: 13.2s\tremaining: 1.97s\n",
            "870:\tlearn: 0.3230433\ttotal: 13.2s\tremaining: 1.95s\n",
            "871:\tlearn: 0.3230429\ttotal: 13.2s\tremaining: 1.94s\n",
            "872:\tlearn: 0.3229468\ttotal: 13.2s\tremaining: 1.93s\n",
            "873:\tlearn: 0.3228676\ttotal: 13.2s\tremaining: 1.91s\n",
            "874:\tlearn: 0.3227082\ttotal: 13.3s\tremaining: 1.9s\n",
            "875:\tlearn: 0.3226577\ttotal: 13.3s\tremaining: 1.88s\n",
            "876:\tlearn: 0.3226110\ttotal: 13.3s\tremaining: 1.86s\n",
            "877:\tlearn: 0.3224750\ttotal: 13.3s\tremaining: 1.85s\n",
            "878:\tlearn: 0.3224271\ttotal: 13.3s\tremaining: 1.83s\n",
            "879:\tlearn: 0.3223529\ttotal: 13.3s\tremaining: 1.82s\n",
            "880:\tlearn: 0.3223097\ttotal: 13.4s\tremaining: 1.8s\n",
            "881:\tlearn: 0.3220659\ttotal: 13.4s\tremaining: 1.79s\n",
            "882:\tlearn: 0.3219026\ttotal: 13.4s\tremaining: 1.77s\n",
            "883:\tlearn: 0.3217772\ttotal: 13.4s\tremaining: 1.76s\n",
            "884:\tlearn: 0.3216856\ttotal: 13.4s\tremaining: 1.74s\n",
            "885:\tlearn: 0.3215448\ttotal: 13.4s\tremaining: 1.73s\n",
            "886:\tlearn: 0.3215374\ttotal: 13.5s\tremaining: 1.71s\n",
            "887:\tlearn: 0.3215058\ttotal: 13.5s\tremaining: 1.7s\n",
            "888:\tlearn: 0.3214686\ttotal: 13.5s\tremaining: 1.68s\n",
            "889:\tlearn: 0.3213537\ttotal: 13.5s\tremaining: 1.67s\n",
            "890:\tlearn: 0.3212650\ttotal: 13.5s\tremaining: 1.65s\n",
            "891:\tlearn: 0.3210461\ttotal: 13.5s\tremaining: 1.64s\n",
            "892:\tlearn: 0.3210066\ttotal: 13.6s\tremaining: 1.62s\n",
            "893:\tlearn: 0.3209075\ttotal: 13.6s\tremaining: 1.61s\n",
            "894:\tlearn: 0.3207231\ttotal: 13.6s\tremaining: 1.59s\n",
            "895:\tlearn: 0.3206294\ttotal: 13.6s\tremaining: 1.58s\n",
            "896:\tlearn: 0.3205538\ttotal: 13.6s\tremaining: 1.56s\n",
            "897:\tlearn: 0.3204143\ttotal: 13.6s\tremaining: 1.55s\n",
            "898:\tlearn: 0.3203622\ttotal: 13.7s\tremaining: 1.53s\n",
            "899:\tlearn: 0.3202982\ttotal: 13.7s\tremaining: 1.52s\n",
            "900:\tlearn: 0.3202143\ttotal: 13.7s\tremaining: 1.5s\n",
            "901:\tlearn: 0.3201895\ttotal: 13.7s\tremaining: 1.49s\n",
            "902:\tlearn: 0.3201602\ttotal: 13.7s\tremaining: 1.47s\n",
            "903:\tlearn: 0.3200507\ttotal: 13.7s\tremaining: 1.46s\n",
            "904:\tlearn: 0.3199722\ttotal: 13.8s\tremaining: 1.44s\n",
            "905:\tlearn: 0.3198941\ttotal: 13.8s\tremaining: 1.43s\n",
            "906:\tlearn: 0.3198399\ttotal: 13.8s\tremaining: 1.41s\n",
            "907:\tlearn: 0.3197988\ttotal: 13.8s\tremaining: 1.4s\n",
            "908:\tlearn: 0.3197592\ttotal: 13.8s\tremaining: 1.38s\n",
            "909:\tlearn: 0.3197527\ttotal: 13.8s\tremaining: 1.37s\n",
            "910:\tlearn: 0.3196957\ttotal: 13.8s\tremaining: 1.35s\n",
            "911:\tlearn: 0.3196566\ttotal: 13.9s\tremaining: 1.34s\n",
            "912:\tlearn: 0.3195490\ttotal: 13.9s\tremaining: 1.32s\n",
            "913:\tlearn: 0.3195408\ttotal: 13.9s\tremaining: 1.31s\n",
            "914:\tlearn: 0.3194794\ttotal: 13.9s\tremaining: 1.29s\n",
            "915:\tlearn: 0.3194447\ttotal: 13.9s\tremaining: 1.28s\n",
            "916:\tlearn: 0.3193060\ttotal: 13.9s\tremaining: 1.26s\n",
            "917:\tlearn: 0.3191817\ttotal: 14s\tremaining: 1.25s\n",
            "918:\tlearn: 0.3191574\ttotal: 14s\tremaining: 1.23s\n",
            "919:\tlearn: 0.3191163\ttotal: 14s\tremaining: 1.22s\n",
            "920:\tlearn: 0.3190120\ttotal: 14s\tremaining: 1.2s\n",
            "921:\tlearn: 0.3189327\ttotal: 14s\tremaining: 1.19s\n",
            "922:\tlearn: 0.3188543\ttotal: 14s\tremaining: 1.17s\n",
            "923:\tlearn: 0.3187835\ttotal: 14.1s\tremaining: 1.16s\n",
            "924:\tlearn: 0.3186309\ttotal: 14.1s\tremaining: 1.14s\n",
            "925:\tlearn: 0.3185746\ttotal: 14.1s\tremaining: 1.13s\n",
            "926:\tlearn: 0.3184167\ttotal: 14.1s\tremaining: 1.11s\n",
            "927:\tlearn: 0.3183393\ttotal: 14.1s\tremaining: 1.1s\n",
            "928:\tlearn: 0.3183065\ttotal: 14.1s\tremaining: 1.08s\n",
            "929:\tlearn: 0.3182578\ttotal: 14.2s\tremaining: 1.06s\n",
            "930:\tlearn: 0.3181938\ttotal: 14.2s\tremaining: 1.05s\n",
            "931:\tlearn: 0.3181749\ttotal: 14.2s\tremaining: 1.03s\n",
            "932:\tlearn: 0.3181355\ttotal: 14.2s\tremaining: 1.02s\n",
            "933:\tlearn: 0.3180812\ttotal: 14.2s\tremaining: 1s\n",
            "934:\tlearn: 0.3179905\ttotal: 14.2s\tremaining: 990ms\n",
            "935:\tlearn: 0.3178752\ttotal: 14.3s\tremaining: 975ms\n",
            "936:\tlearn: 0.3178342\ttotal: 14.3s\tremaining: 959ms\n",
            "937:\tlearn: 0.3176632\ttotal: 14.3s\tremaining: 944ms\n",
            "938:\tlearn: 0.3175814\ttotal: 14.3s\tremaining: 929ms\n",
            "939:\tlearn: 0.3175690\ttotal: 14.3s\tremaining: 914ms\n",
            "940:\tlearn: 0.3174841\ttotal: 14.3s\tremaining: 899ms\n",
            "941:\tlearn: 0.3174501\ttotal: 14.4s\tremaining: 884ms\n",
            "942:\tlearn: 0.3173389\ttotal: 14.4s\tremaining: 869ms\n",
            "943:\tlearn: 0.3173110\ttotal: 14.4s\tremaining: 853ms\n",
            "944:\tlearn: 0.3172671\ttotal: 14.4s\tremaining: 838ms\n",
            "945:\tlearn: 0.3172157\ttotal: 14.4s\tremaining: 823ms\n",
            "946:\tlearn: 0.3171770\ttotal: 14.4s\tremaining: 808ms\n",
            "947:\tlearn: 0.3171100\ttotal: 14.4s\tremaining: 792ms\n",
            "948:\tlearn: 0.3170329\ttotal: 14.5s\tremaining: 777ms\n",
            "949:\tlearn: 0.3169951\ttotal: 14.5s\tremaining: 762ms\n",
            "950:\tlearn: 0.3169080\ttotal: 14.5s\tremaining: 747ms\n",
            "951:\tlearn: 0.3168068\ttotal: 14.5s\tremaining: 732ms\n",
            "952:\tlearn: 0.3166107\ttotal: 14.5s\tremaining: 716ms\n",
            "953:\tlearn: 0.3165433\ttotal: 14.5s\tremaining: 701ms\n",
            "954:\tlearn: 0.3165118\ttotal: 14.6s\tremaining: 686ms\n",
            "955:\tlearn: 0.3164935\ttotal: 14.6s\tremaining: 671ms\n",
            "956:\tlearn: 0.3164112\ttotal: 14.6s\tremaining: 656ms\n",
            "957:\tlearn: 0.3162988\ttotal: 14.6s\tremaining: 640ms\n",
            "958:\tlearn: 0.3161316\ttotal: 14.6s\tremaining: 625ms\n",
            "959:\tlearn: 0.3160711\ttotal: 14.6s\tremaining: 610ms\n",
            "960:\tlearn: 0.3159110\ttotal: 14.7s\tremaining: 595ms\n",
            "961:\tlearn: 0.3158209\ttotal: 14.7s\tremaining: 580ms\n",
            "962:\tlearn: 0.3157382\ttotal: 14.7s\tremaining: 564ms\n",
            "963:\tlearn: 0.3156139\ttotal: 14.7s\tremaining: 549ms\n",
            "964:\tlearn: 0.3155094\ttotal: 14.7s\tremaining: 534ms\n",
            "965:\tlearn: 0.3154196\ttotal: 14.7s\tremaining: 518ms\n",
            "966:\tlearn: 0.3153556\ttotal: 14.8s\tremaining: 503ms\n",
            "967:\tlearn: 0.3152938\ttotal: 14.8s\tremaining: 488ms\n",
            "968:\tlearn: 0.3151873\ttotal: 14.8s\tremaining: 473ms\n",
            "969:\tlearn: 0.3151395\ttotal: 14.8s\tremaining: 458ms\n",
            "970:\tlearn: 0.3151047\ttotal: 14.8s\tremaining: 443ms\n",
            "971:\tlearn: 0.3150642\ttotal: 14.8s\tremaining: 427ms\n",
            "972:\tlearn: 0.3150124\ttotal: 14.9s\tremaining: 412ms\n",
            "973:\tlearn: 0.3149534\ttotal: 14.9s\tremaining: 397ms\n",
            "974:\tlearn: 0.3149495\ttotal: 14.9s\tremaining: 382ms\n",
            "975:\tlearn: 0.3148816\ttotal: 14.9s\tremaining: 366ms\n",
            "976:\tlearn: 0.3147809\ttotal: 14.9s\tremaining: 351ms\n",
            "977:\tlearn: 0.3147407\ttotal: 14.9s\tremaining: 336ms\n",
            "978:\tlearn: 0.3146813\ttotal: 14.9s\tremaining: 321ms\n",
            "979:\tlearn: 0.3146092\ttotal: 15s\tremaining: 305ms\n",
            "980:\tlearn: 0.3145234\ttotal: 15s\tremaining: 290ms\n",
            "981:\tlearn: 0.3144237\ttotal: 15s\tremaining: 275ms\n",
            "982:\tlearn: 0.3143525\ttotal: 15s\tremaining: 260ms\n",
            "983:\tlearn: 0.3142396\ttotal: 15s\tremaining: 245ms\n",
            "984:\tlearn: 0.3141644\ttotal: 15.1s\tremaining: 229ms\n",
            "985:\tlearn: 0.3140697\ttotal: 15.1s\tremaining: 214ms\n",
            "986:\tlearn: 0.3139880\ttotal: 15.1s\tremaining: 199ms\n",
            "987:\tlearn: 0.3139037\ttotal: 15.1s\tremaining: 183ms\n",
            "988:\tlearn: 0.3138241\ttotal: 15.1s\tremaining: 168ms\n",
            "989:\tlearn: 0.3137395\ttotal: 15.1s\tremaining: 153ms\n",
            "990:\tlearn: 0.3137221\ttotal: 15.2s\tremaining: 138ms\n",
            "991:\tlearn: 0.3136837\ttotal: 15.2s\tremaining: 122ms\n",
            "992:\tlearn: 0.3135971\ttotal: 15.2s\tremaining: 107ms\n",
            "993:\tlearn: 0.3134480\ttotal: 15.2s\tremaining: 91.8ms\n",
            "994:\tlearn: 0.3132608\ttotal: 15.2s\tremaining: 76.5ms\n",
            "995:\tlearn: 0.3131919\ttotal: 15.2s\tremaining: 61.2ms\n",
            "996:\tlearn: 0.3131860\ttotal: 15.2s\tremaining: 45.9ms\n",
            "997:\tlearn: 0.3130678\ttotal: 15.3s\tremaining: 30.6ms\n",
            "998:\tlearn: 0.3130572\ttotal: 15.3s\tremaining: 15.3ms\n",
            "999:\tlearn: 0.3129858\ttotal: 15.3s\tremaining: 0us\n"
          ],
          "name": "stdout"
        },
        {
          "output_type": "execute_result",
          "data": {
            "text/plain": [
              "<catboost.core.CatBoostClassifier at 0x7f75a76fce48>"
            ]
          },
          "metadata": {
            "tags": []
          },
          "execution_count": 129
        }
      ]
    },
    {
      "cell_type": "markdown",
      "metadata": {
        "id": "iLuNSJiM2e2w"
      },
      "source": [
        "предсказание"
      ]
    },
    {
      "cell_type": "code",
      "metadata": {
        "id": "NqPhUvdhc08a"
      },
      "source": [
        "y_test_predicted = boosting_model.predict_proba(X_test)[:, 1]"
      ],
      "execution_count": null,
      "outputs": []
    },
    {
      "cell_type": "markdown",
      "metadata": {
        "id": "wBumvRK6caM4"
      },
      "source": [
        "результат"
      ]
    },
    {
      "cell_type": "code",
      "metadata": {
        "id": "LOCPNKvBcfAg",
        "outputId": "0a093c7b-629f-468f-e5be-7c38d0793afb",
        "colab": {
          "base_uri": "https://localhost:8080/"
        }
      },
      "source": [
        "test_auc = roc_auc_score(y_test, y_test_predicted)\n",
        "print(test_auc)"
      ],
      "execution_count": null,
      "outputs": [
        {
          "output_type": "stream",
          "text": [
            "0.823387759625419\n"
          ],
          "name": "stdout"
        }
      ]
    },
    {
      "cell_type": "markdown",
      "metadata": {
        "id": "2EbQgOrhdRpy"
      },
      "source": [
        "пока меньше чем у логистической регрессии. Попробуем поменять параметры"
      ]
    },
    {
      "cell_type": "code",
      "metadata": {
        "id": "vbIA-v32eYqG"
      },
      "source": [
        "best_lr = 0\n",
        "best_nt = 0\n",
        "best_score = 0\n",
        "for lr in np.arange(0.01,0.035,0.005):\n",
        "  for nt in [50, 100, 200, 500, 1000]:\n",
        "    print('trying learning_rate =',lr,' and num_trees =',nt)\n",
        "    cur_boosting_model = CatBoostClassifier(cat_features=cat_cols, learning_rate=lr, num_trees=nt)\n",
        "    cur_scores = cross_val_score(cur_boosting_model, X, y, scoring='roc_auc', cv=3)\n",
        "    cur_mean_score = cur_scores.mean()\n",
        "    if (cur_mean_score > best_score):\n",
        "      best_score = cur_mean_score\n",
        "      best_lr = lr\n",
        "      best_nt = nt\n"
      ],
      "execution_count": null,
      "outputs": []
    },
    {
      "cell_type": "markdown",
      "metadata": {
        "id": "OQhRJCGJq64P"
      },
      "source": [
        "лучшие параметры и результат"
      ]
    },
    {
      "cell_type": "code",
      "metadata": {
        "id": "DuI5_aTtpXGy",
        "outputId": "a2985fc8-307e-4404-dfce-a440be25c7be",
        "colab": {
          "base_uri": "https://localhost:8080/"
        }
      },
      "source": [
        "print(best_lr,\n",
        "      best_nt,\n",
        "      best_score)"
      ],
      "execution_count": null,
      "outputs": [
        {
          "output_type": "stream",
          "text": [
            "0.024999999999999998 200 0.8453029529731699\n"
          ],
          "name": "stdout"
        }
      ]
    },
    {
      "cell_type": "markdown",
      "metadata": {
        "id": "GnclmxsLsmAU"
      },
      "source": [
        "# Предсказания"
      ]
    },
    {
      "cell_type": "markdown",
      "metadata": {
        "id": "TuhgHEHEsomv"
      },
      "source": [
        "лучшая модель"
      ]
    },
    {
      "cell_type": "code",
      "metadata": {
        "id": "kdVMZf3XtAe_"
      },
      "source": [
        "best_model = CatBoostClassifier(cat_features=cat_cols, learning_rate=0.025, num_trees=200)"
      ],
      "execution_count": null,
      "outputs": []
    },
    {
      "cell_type": "markdown",
      "metadata": {
        "id": "htAVg3MGtuMC"
      },
      "source": [
        "обучение"
      ]
    },
    {
      "cell_type": "code",
      "metadata": {
        "id": "wmFtzOZwtvV0",
        "outputId": "605b2611-c623-4acc-b361-63223bdac281",
        "colab": {
          "base_uri": "https://localhost:8080/"
        }
      },
      "source": [
        "best_model.fit(X,y)"
      ],
      "execution_count": null,
      "outputs": [
        {
          "output_type": "stream",
          "text": [
            "0:\tlearn: 0.6766840\ttotal: 22.6ms\tremaining: 4.49s\n",
            "1:\tlearn: 0.6599872\ttotal: 38.9ms\tremaining: 3.85s\n",
            "2:\tlearn: 0.6455949\ttotal: 54.6ms\tremaining: 3.59s\n",
            "3:\tlearn: 0.6313242\ttotal: 69.4ms\tremaining: 3.4s\n",
            "4:\tlearn: 0.6193925\ttotal: 83.8ms\tremaining: 3.27s\n",
            "5:\tlearn: 0.6070213\ttotal: 101ms\tremaining: 3.25s\n",
            "6:\tlearn: 0.5957679\ttotal: 116ms\tremaining: 3.19s\n",
            "7:\tlearn: 0.5856718\ttotal: 130ms\tremaining: 3.12s\n",
            "8:\tlearn: 0.5754884\ttotal: 146ms\tremaining: 3.1s\n",
            "9:\tlearn: 0.5666580\ttotal: 163ms\tremaining: 3.1s\n",
            "10:\tlearn: 0.5579225\ttotal: 178ms\tremaining: 3.06s\n",
            "11:\tlearn: 0.5496092\ttotal: 196ms\tremaining: 3.08s\n",
            "12:\tlearn: 0.5422163\ttotal: 213ms\tremaining: 3.07s\n",
            "13:\tlearn: 0.5353576\ttotal: 243ms\tremaining: 3.23s\n",
            "14:\tlearn: 0.5288683\ttotal: 259ms\tremaining: 3.2s\n",
            "15:\tlearn: 0.5220475\ttotal: 274ms\tremaining: 3.15s\n",
            "16:\tlearn: 0.5160129\ttotal: 289ms\tremaining: 3.12s\n",
            "17:\tlearn: 0.5099877\ttotal: 305ms\tremaining: 3.08s\n",
            "18:\tlearn: 0.5044630\ttotal: 323ms\tremaining: 3.08s\n",
            "19:\tlearn: 0.5000645\ttotal: 332ms\tremaining: 2.99s\n",
            "20:\tlearn: 0.4950614\ttotal: 350ms\tremaining: 2.98s\n",
            "21:\tlearn: 0.4905396\ttotal: 365ms\tremaining: 2.95s\n",
            "22:\tlearn: 0.4863297\ttotal: 382ms\tremaining: 2.94s\n",
            "23:\tlearn: 0.4833675\ttotal: 395ms\tremaining: 2.9s\n",
            "24:\tlearn: 0.4797496\ttotal: 413ms\tremaining: 2.89s\n",
            "25:\tlearn: 0.4758521\ttotal: 434ms\tremaining: 2.9s\n",
            "26:\tlearn: 0.4722724\ttotal: 454ms\tremaining: 2.91s\n",
            "27:\tlearn: 0.4696596\ttotal: 464ms\tremaining: 2.85s\n",
            "28:\tlearn: 0.4663866\ttotal: 480ms\tremaining: 2.83s\n",
            "29:\tlearn: 0.4639166\ttotal: 494ms\tremaining: 2.8s\n",
            "30:\tlearn: 0.4608504\ttotal: 509ms\tremaining: 2.78s\n",
            "31:\tlearn: 0.4578929\ttotal: 527ms\tremaining: 2.77s\n",
            "32:\tlearn: 0.4551416\ttotal: 544ms\tremaining: 2.75s\n",
            "33:\tlearn: 0.4528315\ttotal: 560ms\tremaining: 2.73s\n",
            "34:\tlearn: 0.4508256\ttotal: 575ms\tremaining: 2.71s\n",
            "35:\tlearn: 0.4484947\ttotal: 593ms\tremaining: 2.7s\n",
            "36:\tlearn: 0.4470260\ttotal: 602ms\tremaining: 2.65s\n",
            "37:\tlearn: 0.4453605\ttotal: 618ms\tremaining: 2.63s\n",
            "38:\tlearn: 0.4435867\ttotal: 636ms\tremaining: 2.63s\n",
            "39:\tlearn: 0.4416312\ttotal: 663ms\tremaining: 2.65s\n",
            "40:\tlearn: 0.4400181\ttotal: 680ms\tremaining: 2.64s\n",
            "41:\tlearn: 0.4386608\ttotal: 701ms\tremaining: 2.63s\n",
            "42:\tlearn: 0.4375090\ttotal: 715ms\tremaining: 2.61s\n",
            "43:\tlearn: 0.4361579\ttotal: 731ms\tremaining: 2.59s\n",
            "44:\tlearn: 0.4349031\ttotal: 748ms\tremaining: 2.58s\n",
            "45:\tlearn: 0.4341945\ttotal: 755ms\tremaining: 2.53s\n",
            "46:\tlearn: 0.4327677\ttotal: 772ms\tremaining: 2.51s\n",
            "47:\tlearn: 0.4313690\ttotal: 787ms\tremaining: 2.49s\n",
            "48:\tlearn: 0.4301382\ttotal: 810ms\tremaining: 2.5s\n",
            "49:\tlearn: 0.4289312\ttotal: 823ms\tremaining: 2.47s\n",
            "50:\tlearn: 0.4284444\ttotal: 828ms\tremaining: 2.42s\n",
            "51:\tlearn: 0.4274603\ttotal: 843ms\tremaining: 2.4s\n",
            "52:\tlearn: 0.4263235\ttotal: 859ms\tremaining: 2.38s\n",
            "53:\tlearn: 0.4252401\ttotal: 886ms\tremaining: 2.39s\n",
            "54:\tlearn: 0.4242897\ttotal: 901ms\tremaining: 2.38s\n",
            "55:\tlearn: 0.4235433\ttotal: 917ms\tremaining: 2.36s\n",
            "56:\tlearn: 0.4226324\ttotal: 932ms\tremaining: 2.34s\n",
            "57:\tlearn: 0.4215856\ttotal: 950ms\tremaining: 2.33s\n",
            "58:\tlearn: 0.4211557\ttotal: 956ms\tremaining: 2.28s\n",
            "59:\tlearn: 0.4203391\ttotal: 972ms\tremaining: 2.27s\n",
            "60:\tlearn: 0.4196367\ttotal: 987ms\tremaining: 2.25s\n",
            "61:\tlearn: 0.4187517\ttotal: 1s\tremaining: 2.23s\n",
            "62:\tlearn: 0.4181041\ttotal: 1.01s\tremaining: 2.21s\n",
            "63:\tlearn: 0.4175108\ttotal: 1.03s\tremaining: 2.2s\n",
            "64:\tlearn: 0.4170268\ttotal: 1.04s\tremaining: 2.17s\n",
            "65:\tlearn: 0.4162647\ttotal: 1.06s\tremaining: 2.15s\n",
            "66:\tlearn: 0.4159693\ttotal: 1.07s\tremaining: 2.12s\n",
            "67:\tlearn: 0.4152006\ttotal: 1.1s\tremaining: 2.13s\n",
            "68:\tlearn: 0.4150163\ttotal: 1.1s\tremaining: 2.09s\n",
            "69:\tlearn: 0.4144963\ttotal: 1.12s\tremaining: 2.07s\n",
            "70:\tlearn: 0.4139762\ttotal: 1.13s\tremaining: 2.06s\n",
            "71:\tlearn: 0.4135849\ttotal: 1.15s\tremaining: 2.04s\n",
            "72:\tlearn: 0.4128426\ttotal: 1.17s\tremaining: 2.03s\n",
            "73:\tlearn: 0.4123201\ttotal: 1.18s\tremaining: 2.01s\n",
            "74:\tlearn: 0.4118261\ttotal: 1.2s\tremaining: 1.99s\n",
            "75:\tlearn: 0.4116152\ttotal: 1.2s\tremaining: 1.96s\n",
            "76:\tlearn: 0.4109782\ttotal: 1.22s\tremaining: 1.95s\n",
            "77:\tlearn: 0.4107558\ttotal: 1.23s\tremaining: 1.92s\n",
            "78:\tlearn: 0.4101192\ttotal: 1.25s\tremaining: 1.91s\n",
            "79:\tlearn: 0.4097698\ttotal: 1.26s\tremaining: 1.9s\n",
            "80:\tlearn: 0.4095524\ttotal: 1.27s\tremaining: 1.87s\n",
            "81:\tlearn: 0.4091157\ttotal: 1.29s\tremaining: 1.85s\n",
            "82:\tlearn: 0.4088364\ttotal: 1.31s\tremaining: 1.85s\n",
            "83:\tlearn: 0.4084161\ttotal: 1.33s\tremaining: 1.83s\n",
            "84:\tlearn: 0.4080013\ttotal: 1.34s\tremaining: 1.82s\n",
            "85:\tlearn: 0.4073384\ttotal: 1.36s\tremaining: 1.8s\n",
            "86:\tlearn: 0.4067275\ttotal: 1.38s\tremaining: 1.79s\n",
            "87:\tlearn: 0.4066338\ttotal: 1.38s\tremaining: 1.76s\n",
            "88:\tlearn: 0.4061305\ttotal: 1.4s\tremaining: 1.75s\n",
            "89:\tlearn: 0.4056656\ttotal: 1.42s\tremaining: 1.73s\n",
            "90:\tlearn: 0.4053874\ttotal: 1.42s\tremaining: 1.71s\n",
            "91:\tlearn: 0.4050340\ttotal: 1.44s\tremaining: 1.69s\n",
            "92:\tlearn: 0.4046767\ttotal: 1.46s\tremaining: 1.68s\n",
            "93:\tlearn: 0.4044510\ttotal: 1.47s\tremaining: 1.66s\n",
            "94:\tlearn: 0.4041062\ttotal: 1.49s\tremaining: 1.65s\n",
            "95:\tlearn: 0.4038252\ttotal: 1.51s\tremaining: 1.63s\n",
            "96:\tlearn: 0.4032324\ttotal: 1.53s\tremaining: 1.62s\n",
            "97:\tlearn: 0.4027921\ttotal: 1.54s\tremaining: 1.61s\n",
            "98:\tlearn: 0.4024486\ttotal: 1.56s\tremaining: 1.59s\n",
            "99:\tlearn: 0.4019672\ttotal: 1.58s\tremaining: 1.58s\n",
            "100:\tlearn: 0.4017395\ttotal: 1.59s\tremaining: 1.56s\n",
            "101:\tlearn: 0.4014556\ttotal: 1.61s\tremaining: 1.55s\n",
            "102:\tlearn: 0.4009556\ttotal: 1.63s\tremaining: 1.53s\n",
            "103:\tlearn: 0.4005490\ttotal: 1.64s\tremaining: 1.52s\n",
            "104:\tlearn: 0.4002291\ttotal: 1.66s\tremaining: 1.5s\n",
            "105:\tlearn: 0.3998289\ttotal: 1.68s\tremaining: 1.49s\n",
            "106:\tlearn: 0.3997026\ttotal: 1.69s\tremaining: 1.47s\n",
            "107:\tlearn: 0.3994186\ttotal: 1.71s\tremaining: 1.46s\n",
            "108:\tlearn: 0.3991538\ttotal: 1.74s\tremaining: 1.45s\n",
            "109:\tlearn: 0.3989968\ttotal: 1.76s\tremaining: 1.44s\n",
            "110:\tlearn: 0.3987329\ttotal: 1.77s\tremaining: 1.42s\n",
            "111:\tlearn: 0.3987018\ttotal: 1.78s\tremaining: 1.4s\n",
            "112:\tlearn: 0.3982475\ttotal: 1.81s\tremaining: 1.39s\n",
            "113:\tlearn: 0.3980682\ttotal: 1.83s\tremaining: 1.38s\n",
            "114:\tlearn: 0.3977434\ttotal: 1.85s\tremaining: 1.37s\n",
            "115:\tlearn: 0.3975394\ttotal: 1.86s\tremaining: 1.35s\n",
            "116:\tlearn: 0.3972679\ttotal: 1.89s\tremaining: 1.34s\n",
            "117:\tlearn: 0.3970793\ttotal: 1.9s\tremaining: 1.32s\n",
            "118:\tlearn: 0.3970093\ttotal: 1.92s\tremaining: 1.3s\n",
            "119:\tlearn: 0.3968041\ttotal: 1.93s\tremaining: 1.29s\n",
            "120:\tlearn: 0.3965975\ttotal: 1.95s\tremaining: 1.27s\n",
            "121:\tlearn: 0.3965409\ttotal: 1.96s\tremaining: 1.25s\n",
            "122:\tlearn: 0.3961768\ttotal: 1.98s\tremaining: 1.24s\n",
            "123:\tlearn: 0.3960319\ttotal: 2s\tremaining: 1.23s\n",
            "124:\tlearn: 0.3957686\ttotal: 2.02s\tremaining: 1.21s\n",
            "125:\tlearn: 0.3955964\ttotal: 2.03s\tremaining: 1.19s\n",
            "126:\tlearn: 0.3953371\ttotal: 2.05s\tremaining: 1.18s\n",
            "127:\tlearn: 0.3952081\ttotal: 2.06s\tremaining: 1.16s\n",
            "128:\tlearn: 0.3951897\ttotal: 2.07s\tremaining: 1.14s\n",
            "129:\tlearn: 0.3951115\ttotal: 2.08s\tremaining: 1.12s\n",
            "130:\tlearn: 0.3949037\ttotal: 2.1s\tremaining: 1.11s\n",
            "131:\tlearn: 0.3948839\ttotal: 2.11s\tremaining: 1.09s\n",
            "132:\tlearn: 0.3948553\ttotal: 2.12s\tremaining: 1.07s\n",
            "133:\tlearn: 0.3945100\ttotal: 2.14s\tremaining: 1.05s\n",
            "134:\tlearn: 0.3944086\ttotal: 2.16s\tremaining: 1.04s\n",
            "135:\tlearn: 0.3942493\ttotal: 2.17s\tremaining: 1.02s\n",
            "136:\tlearn: 0.3939276\ttotal: 2.19s\tremaining: 1.01s\n",
            "137:\tlearn: 0.3938208\ttotal: 2.21s\tremaining: 992ms\n",
            "138:\tlearn: 0.3936287\ttotal: 2.23s\tremaining: 977ms\n",
            "139:\tlearn: 0.3933232\ttotal: 2.24s\tremaining: 961ms\n",
            "140:\tlearn: 0.3931644\ttotal: 2.25s\tremaining: 944ms\n",
            "141:\tlearn: 0.3929605\ttotal: 2.28s\tremaining: 930ms\n",
            "142:\tlearn: 0.3929265\ttotal: 2.28s\tremaining: 911ms\n",
            "143:\tlearn: 0.3927786\ttotal: 2.31s\tremaining: 897ms\n",
            "144:\tlearn: 0.3926494\ttotal: 2.32s\tremaining: 881ms\n",
            "145:\tlearn: 0.3925432\ttotal: 2.34s\tremaining: 865ms\n",
            "146:\tlearn: 0.3923965\ttotal: 2.35s\tremaining: 849ms\n",
            "147:\tlearn: 0.3922458\ttotal: 2.38s\tremaining: 835ms\n",
            "148:\tlearn: 0.3922040\ttotal: 2.39s\tremaining: 817ms\n",
            "149:\tlearn: 0.3921447\ttotal: 2.4s\tremaining: 801ms\n",
            "150:\tlearn: 0.3919601\ttotal: 2.42s\tremaining: 785ms\n",
            "151:\tlearn: 0.3919600\ttotal: 2.43s\tremaining: 766ms\n",
            "152:\tlearn: 0.3917096\ttotal: 2.44s\tremaining: 751ms\n",
            "153:\tlearn: 0.3915490\ttotal: 2.46s\tremaining: 735ms\n",
            "154:\tlearn: 0.3913412\ttotal: 2.47s\tremaining: 718ms\n",
            "155:\tlearn: 0.3911457\ttotal: 2.49s\tremaining: 703ms\n",
            "156:\tlearn: 0.3909003\ttotal: 2.51s\tremaining: 687ms\n",
            "157:\tlearn: 0.3906750\ttotal: 2.53s\tremaining: 672ms\n",
            "158:\tlearn: 0.3903553\ttotal: 2.54s\tremaining: 656ms\n",
            "159:\tlearn: 0.3902101\ttotal: 2.56s\tremaining: 640ms\n",
            "160:\tlearn: 0.3900865\ttotal: 2.58s\tremaining: 626ms\n",
            "161:\tlearn: 0.3900498\ttotal: 2.6s\tremaining: 609ms\n",
            "162:\tlearn: 0.3898000\ttotal: 2.61s\tremaining: 593ms\n",
            "163:\tlearn: 0.3895161\ttotal: 2.63s\tremaining: 577ms\n",
            "164:\tlearn: 0.3893650\ttotal: 2.65s\tremaining: 563ms\n",
            "165:\tlearn: 0.3893107\ttotal: 2.67s\tremaining: 547ms\n",
            "166:\tlearn: 0.3892713\ttotal: 2.68s\tremaining: 530ms\n",
            "167:\tlearn: 0.3892536\ttotal: 2.69s\tremaining: 512ms\n",
            "168:\tlearn: 0.3891683\ttotal: 2.71s\tremaining: 497ms\n",
            "169:\tlearn: 0.3891607\ttotal: 2.71s\tremaining: 479ms\n",
            "170:\tlearn: 0.3888799\ttotal: 2.73s\tremaining: 463ms\n",
            "171:\tlearn: 0.3888083\ttotal: 2.75s\tremaining: 447ms\n",
            "172:\tlearn: 0.3887475\ttotal: 2.75s\tremaining: 430ms\n",
            "173:\tlearn: 0.3886144\ttotal: 2.77s\tremaining: 414ms\n",
            "174:\tlearn: 0.3886044\ttotal: 2.77s\tremaining: 396ms\n",
            "175:\tlearn: 0.3885202\ttotal: 2.81s\tremaining: 383ms\n",
            "176:\tlearn: 0.3885068\ttotal: 2.82s\tremaining: 367ms\n",
            "177:\tlearn: 0.3884048\ttotal: 2.84s\tremaining: 351ms\n",
            "178:\tlearn: 0.3883334\ttotal: 2.86s\tremaining: 335ms\n",
            "179:\tlearn: 0.3883199\ttotal: 2.87s\tremaining: 318ms\n",
            "180:\tlearn: 0.3881944\ttotal: 2.88s\tremaining: 302ms\n",
            "181:\tlearn: 0.3880638\ttotal: 2.9s\tremaining: 287ms\n",
            "182:\tlearn: 0.3879398\ttotal: 2.91s\tremaining: 270ms\n",
            "183:\tlearn: 0.3878234\ttotal: 2.93s\tremaining: 255ms\n",
            "184:\tlearn: 0.3877904\ttotal: 2.94s\tremaining: 238ms\n",
            "185:\tlearn: 0.3876925\ttotal: 2.95s\tremaining: 222ms\n",
            "186:\tlearn: 0.3876795\ttotal: 2.96s\tremaining: 206ms\n",
            "187:\tlearn: 0.3876688\ttotal: 2.97s\tremaining: 190ms\n",
            "188:\tlearn: 0.3875531\ttotal: 2.99s\tremaining: 174ms\n",
            "189:\tlearn: 0.3874782\ttotal: 3s\tremaining: 158ms\n",
            "190:\tlearn: 0.3874662\ttotal: 3.02s\tremaining: 142ms\n",
            "191:\tlearn: 0.3873957\ttotal: 3.03s\tremaining: 126ms\n",
            "192:\tlearn: 0.3873124\ttotal: 3.04s\tremaining: 110ms\n",
            "193:\tlearn: 0.3872842\ttotal: 3.05s\tremaining: 94.4ms\n",
            "194:\tlearn: 0.3871143\ttotal: 3.08s\tremaining: 79ms\n",
            "195:\tlearn: 0.3870786\ttotal: 3.09s\tremaining: 63ms\n",
            "196:\tlearn: 0.3869065\ttotal: 3.11s\tremaining: 47.3ms\n",
            "197:\tlearn: 0.3869021\ttotal: 3.12s\tremaining: 31.5ms\n",
            "198:\tlearn: 0.3867726\ttotal: 3.13s\tremaining: 15.7ms\n",
            "199:\tlearn: 0.3866495\ttotal: 3.15s\tremaining: 0us\n"
          ],
          "name": "stdout"
        },
        {
          "output_type": "execute_result",
          "data": {
            "text/plain": [
              "<catboost.core.CatBoostClassifier at 0x7f75a7a6a048>"
            ]
          },
          "metadata": {
            "tags": []
          },
          "execution_count": 135
        }
      ]
    },
    {
      "cell_type": "markdown",
      "metadata": {
        "id": "HL789d-utSB0"
      },
      "source": [
        "предсказание и сохранение"
      ]
    },
    {
      "cell_type": "code",
      "metadata": {
        "id": "2tFwE36YtZDE"
      },
      "source": [
        "X_test = pd.read_csv('./test.csv')\n",
        "submission = pd.read_csv('./submission.csv')\n",
        "submission['Churn'] = best_model.predict_proba(X_test)\n",
        "submission['Churn'] = 1 - submission['Churn']\n",
        "#submission['Churn'] = best_model.predict(X_test)\n",
        "submission.to_csv('./my_submission3.csv', columns=['Churn'])"
      ],
      "execution_count": null,
      "outputs": []
    },
    {
      "cell_type": "markdown",
      "metadata": {
        "id": "WTi6IWn_3FUr"
      },
      "source": [
        "автор - Кащенко Антон. Team Name в соревновании - Антон_Кащенко. User Name на kaggle - antonkashchneko"
      ]
    }
  ]
}