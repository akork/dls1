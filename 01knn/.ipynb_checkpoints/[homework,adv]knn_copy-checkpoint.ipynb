{
 "cells": [
  {
   "cell_type": "markdown",
   "metadata": {
    "id": "pgFYFftQKxY5"
   },
   "source": [
    "<p style=\"align: center;\"><img align=center src=\"https://s8.hostingkartinok.com/uploads/images/2018/08/308b49fcfbc619d629fe4604bceb67ac.jpg\" style=\"height:450px;\" width=500/></p>\n",
    "\n",
    "<h3 style=\"text-align: center;\"><b>Школа глубокого обучения ФПМИ МФТИ</b></h3>\n",
    "<h3 style=\"text-align: center;\"><b>Базовый поток. Осень 2020</b></h3>\n",
    "\n",
    "<h1 style=\"text-align: center;\"><b>Домашнее задание. Библиотека sklearn и классификация с помощью KNN</b></h1>"
   ]
  },
  {
   "cell_type": "markdown",
   "metadata": {
    "id": "v4RCHGZULaWz"
   },
   "source": [
    "На основе [курса по Машинному Обучению ФИВТ МФТИ](https://github.com/ml-mipt/ml-mipt) и [Открытого курса по Машинному Обучению](https://habr.com/ru/company/ods/blog/322626/)."
   ]
  },
  {
   "cell_type": "markdown",
   "metadata": {
    "id": "F2acNQu1L94J"
   },
   "source": [
    "---"
   ]
  },
  {
   "cell_type": "markdown",
   "metadata": {
    "id": "Twe_cnn5KxY6"
   },
   "source": [
    "<h2 style=\"text-align: center;\"><b>K Nearest Neighbors (KNN)</b></h2>"
   ]
  },
  {
   "cell_type": "markdown",
   "metadata": {
    "id": "YD0NXyUYKxY7"
   },
   "source": [
    "Метод ближайших соседей (k Nearest Neighbors, или kNN) — очень популярный метод классификации, также иногда используемый в задачах регрессии. Это один из самых понятных подходов к классификации. На уровне интуиции суть метода такова: посмотри на соседей; какие преобладают --- таков и ты. Формально основой метода является гипотеза компактности: если метрика расстояния между примерами введена достаточно удачно, то схожие примеры гораздо чаще лежат в одном классе, чем в разных. "
   ]
  },
  {
   "cell_type": "markdown",
   "metadata": {
    "id": "CTa2jNZkKxY8"
   },
   "source": [
    "<img src='https://hsto.org/web/68d/a45/6f0/68da456f00f8434e87628dbe7e3f54a7.png' width=600>"
   ]
  },
  {
   "cell_type": "markdown",
   "metadata": {
    "id": "5H7wPU0IKxY-"
   },
   "source": [
    "\n",
    "Для классификации каждого из объектов тестовой выборки необходимо последовательно выполнить следующие операции:\n",
    "\n",
    "* Вычислить расстояние до каждого из объектов обучающей выборки\n",
    "* Отобрать объектов обучающей выборки, расстояние до которых минимально\n",
    "* Класс классифицируемого объекта — это класс, наиболее часто встречающийся среди $k$ ближайших соседей"
   ]
  },
  {
   "cell_type": "markdown",
   "metadata": {
    "id": "T2docs4225pb"
   },
   "source": [
    "Будем работать с подвыборкой из [данных о типе лесного покрытия из репозитория UCI](http://archive.ics.uci.edu/ml/datasets/Covertype). Доступно 7 различных классов. Каждый объект описывается 54 признаками, 40 из которых являются бинарными. Описание данных доступно по ссылке."
   ]
  },
  {
   "cell_type": "markdown",
   "metadata": {
    "id": "AcjJQX3wKxZA"
   },
   "source": [
    "### Обработка данных"
   ]
  },
  {
   "cell_type": "code",
   "execution_count": 2,
   "metadata": {
    "executionInfo": {
     "elapsed": 2142,
     "status": "ok",
     "timestamp": 1602006507818,
     "user": {
      "displayName": "A K",
      "photoUrl": "",
      "userId": "12941694542027473216"
     },
     "user_tz": -180
    },
    "id": "Ozcx5mVOKxZB"
   },
   "outputs": [],
   "source": [
    "import pandas as pd\n",
    "import numpy as np"
   ]
  },
  {
   "cell_type": "code",
   "execution_count": 40,
   "metadata": {},
   "outputs": [],
   "source": [
    "header = [\"Elevation\",\n",
    "    \"Aspect\",\n",
    "    \"Slope\",\n",
    "    \"Horizontal_Distance_To_Hydrology\",\n",
    "    \"Vertical_Distance_To_Hydrology\",\n",
    "    \"Horizontal_Distance_To_Roadways\",\n",
    "    \"Hillshade_9am\",\n",
    "    \"Hillshade_Noon\",\n",
    "    \"Hillshade_3pm\",\n",
    "    \"Horizontal_Distance_To_Fire_Points\",\n",
    "    *[\"Wilderness_Area_\" + str(i) for i in range(4)],\n",
    "    *[\"Soil_Type_\" + str(i) for i in range(40)],\n",
    "    \"Cover_Type\"]"
   ]
  },
  {
   "cell_type": "markdown",
   "metadata": {
    "id": "Ry4bMKaUjHJj"
   },
   "source": [
    "Сcылка на датасет (лежит в папке): https://drive.google.com/drive/folders/16TSz1P-oTF8iXSQ1xrt0r_VO35xKmUes?usp=sharing"
   ]
  },
  {
   "cell_type": "code",
   "execution_count": 39,
   "metadata": {
    "colab": {
     "base_uri": "https://localhost:8080/",
     "height": 204
    },
    "executionInfo": {
     "elapsed": 2255,
     "status": "ok",
     "timestamp": 1602006665819,
     "user": {
      "displayName": "A K",
      "photoUrl": "",
      "userId": "12941694542027473216"
     },
     "user_tz": -180
    },
    "id": "rvPrVRvK25pc",
    "outputId": "cb96ba1c-6b18-4d1a-99b8-b62e1284f34a"
   },
   "outputs": [
    {
     "data": {
      "text/html": [
       "<div>\n",
       "<style scoped>\n",
       "    .dataframe tbody tr th:only-of-type {\n",
       "        vertical-align: middle;\n",
       "    }\n",
       "\n",
       "    .dataframe tbody tr th {\n",
       "        vertical-align: top;\n",
       "    }\n",
       "\n",
       "    .dataframe thead th {\n",
       "        text-align: right;\n",
       "    }\n",
       "</style>\n",
       "<table border=\"1\" class=\"dataframe\">\n",
       "  <thead>\n",
       "    <tr style=\"text-align: right;\">\n",
       "      <th></th>\n",
       "      <th>Elevation</th>\n",
       "      <th>Aspect</th>\n",
       "      <th>Slope</th>\n",
       "      <th>Horizontal_Distance_To_Hydrology</th>\n",
       "      <th>Vertical_Distance_To_Hydrology</th>\n",
       "      <th>Horizontal_Distance_To_Roadways</th>\n",
       "      <th>Hillshade_9am</th>\n",
       "      <th>Hillshade_Noon</th>\n",
       "      <th>Hillshade_3pm</th>\n",
       "      <th>Horizontal_Distance_To_Fire_Points</th>\n",
       "      <th>...</th>\n",
       "      <th>Soil_Type_31</th>\n",
       "      <th>Soil_Type_32</th>\n",
       "      <th>Soil_Type_33</th>\n",
       "      <th>Soil_Type_34</th>\n",
       "      <th>Soil_Type_35</th>\n",
       "      <th>Soil_Type_36</th>\n",
       "      <th>Soil_Type_37</th>\n",
       "      <th>Soil_Type_38</th>\n",
       "      <th>Soil_Type_39</th>\n",
       "      <th>Cover_Type</th>\n",
       "    </tr>\n",
       "  </thead>\n",
       "  <tbody>\n",
       "    <tr>\n",
       "      <th>0</th>\n",
       "      <td>0</td>\n",
       "      <td>1</td>\n",
       "      <td>2</td>\n",
       "      <td>3</td>\n",
       "      <td>4</td>\n",
       "      <td>5</td>\n",
       "      <td>6</td>\n",
       "      <td>7</td>\n",
       "      <td>8</td>\n",
       "      <td>9</td>\n",
       "      <td>...</td>\n",
       "      <td>45</td>\n",
       "      <td>46</td>\n",
       "      <td>47</td>\n",
       "      <td>48</td>\n",
       "      <td>49</td>\n",
       "      <td>50</td>\n",
       "      <td>51</td>\n",
       "      <td>52</td>\n",
       "      <td>53</td>\n",
       "      <td>54</td>\n",
       "    </tr>\n",
       "    <tr>\n",
       "      <th>1</th>\n",
       "      <td>2683</td>\n",
       "      <td>333</td>\n",
       "      <td>35</td>\n",
       "      <td>30</td>\n",
       "      <td>26</td>\n",
       "      <td>2743</td>\n",
       "      <td>121</td>\n",
       "      <td>173</td>\n",
       "      <td>179</td>\n",
       "      <td>6572</td>\n",
       "      <td>...</td>\n",
       "      <td>0</td>\n",
       "      <td>0</td>\n",
       "      <td>0</td>\n",
       "      <td>0</td>\n",
       "      <td>0</td>\n",
       "      <td>0</td>\n",
       "      <td>0</td>\n",
       "      <td>0</td>\n",
       "      <td>0</td>\n",
       "      <td>2</td>\n",
       "    </tr>\n",
       "    <tr>\n",
       "      <th>2</th>\n",
       "      <td>2915</td>\n",
       "      <td>90</td>\n",
       "      <td>8</td>\n",
       "      <td>216</td>\n",
       "      <td>11</td>\n",
       "      <td>4433</td>\n",
       "      <td>232</td>\n",
       "      <td>228</td>\n",
       "      <td>129</td>\n",
       "      <td>4019</td>\n",
       "      <td>...</td>\n",
       "      <td>0</td>\n",
       "      <td>0</td>\n",
       "      <td>0</td>\n",
       "      <td>0</td>\n",
       "      <td>0</td>\n",
       "      <td>0</td>\n",
       "      <td>0</td>\n",
       "      <td>0</td>\n",
       "      <td>0</td>\n",
       "      <td>1</td>\n",
       "    </tr>\n",
       "    <tr>\n",
       "      <th>3</th>\n",
       "      <td>2941</td>\n",
       "      <td>162</td>\n",
       "      <td>7</td>\n",
       "      <td>698</td>\n",
       "      <td>76</td>\n",
       "      <td>2783</td>\n",
       "      <td>227</td>\n",
       "      <td>242</td>\n",
       "      <td>148</td>\n",
       "      <td>1784</td>\n",
       "      <td>...</td>\n",
       "      <td>0</td>\n",
       "      <td>0</td>\n",
       "      <td>0</td>\n",
       "      <td>0</td>\n",
       "      <td>0</td>\n",
       "      <td>0</td>\n",
       "      <td>0</td>\n",
       "      <td>0</td>\n",
       "      <td>0</td>\n",
       "      <td>2</td>\n",
       "    </tr>\n",
       "    <tr>\n",
       "      <th>4</th>\n",
       "      <td>3096</td>\n",
       "      <td>60</td>\n",
       "      <td>17</td>\n",
       "      <td>170</td>\n",
       "      <td>3</td>\n",
       "      <td>3303</td>\n",
       "      <td>231</td>\n",
       "      <td>202</td>\n",
       "      <td>99</td>\n",
       "      <td>5370</td>\n",
       "      <td>...</td>\n",
       "      <td>0</td>\n",
       "      <td>0</td>\n",
       "      <td>0</td>\n",
       "      <td>0</td>\n",
       "      <td>0</td>\n",
       "      <td>0</td>\n",
       "      <td>0</td>\n",
       "      <td>0</td>\n",
       "      <td>0</td>\n",
       "      <td>1</td>\n",
       "    </tr>\n",
       "  </tbody>\n",
       "</table>\n",
       "<p>5 rows × 55 columns</p>\n",
       "</div>"
      ],
      "text/plain": [
       "   Elevation  Aspect  Slope  Horizontal_Distance_To_Hydrology  \\\n",
       "0          0       1      2                                 3   \n",
       "1       2683     333     35                                30   \n",
       "2       2915      90      8                               216   \n",
       "3       2941     162      7                               698   \n",
       "4       3096      60     17                               170   \n",
       "\n",
       "   Vertical_Distance_To_Hydrology  Horizontal_Distance_To_Roadways  \\\n",
       "0                               4                                5   \n",
       "1                              26                             2743   \n",
       "2                              11                             4433   \n",
       "3                              76                             2783   \n",
       "4                               3                             3303   \n",
       "\n",
       "   Hillshade_9am  Hillshade_Noon  Hillshade_3pm  \\\n",
       "0              6               7              8   \n",
       "1            121             173            179   \n",
       "2            232             228            129   \n",
       "3            227             242            148   \n",
       "4            231             202             99   \n",
       "\n",
       "   Horizontal_Distance_To_Fire_Points  ...  Soil_Type_31  Soil_Type_32  \\\n",
       "0                                   9  ...            45            46   \n",
       "1                                6572  ...             0             0   \n",
       "2                                4019  ...             0             0   \n",
       "3                                1784  ...             0             0   \n",
       "4                                5370  ...             0             0   \n",
       "\n",
       "   Soil_Type_33  Soil_Type_34  Soil_Type_35  Soil_Type_36  Soil_Type_37  \\\n",
       "0            47            48            49            50            51   \n",
       "1             0             0             0             0             0   \n",
       "2             0             0             0             0             0   \n",
       "3             0             0             0             0             0   \n",
       "4             0             0             0             0             0   \n",
       "\n",
       "   Soil_Type_38  Soil_Type_39  Cover_Type  \n",
       "0            52            53          54  \n",
       "1             0             0           2  \n",
       "2             0             0           1  \n",
       "3             0             0           2  \n",
       "4             0             0           1  \n",
       "\n",
       "[5 rows x 55 columns]"
      ]
     },
     "execution_count": 39,
     "metadata": {},
     "output_type": "execute_result"
    }
   ],
   "source": [
    "all_data = pd.read_csv('forest_dataset.csv', names=header)\n",
    "all_data.head()"
   ]
  },
  {
   "cell_type": "code",
   "execution_count": 4,
   "metadata": {
    "colab": {
     "base_uri": "https://localhost:8080/",
     "height": 35
    },
    "executionInfo": {
     "elapsed": 1147,
     "status": "ok",
     "timestamp": 1602006867140,
     "user": {
      "displayName": "A K",
      "photoUrl": "",
      "userId": "12941694542027473216"
     },
     "user_tz": -180
    },
    "id": "_o8yXBPSKxZI",
    "outputId": "e14e7160-ceac-4dc7-aae1-eae82c6ca7a6"
   },
   "outputs": [
    {
     "data": {
      "text/plain": [
       "(10000, 55)"
      ]
     },
     "execution_count": 4,
     "metadata": {},
     "output_type": "execute_result"
    }
   ],
   "source": [
    "all_data.shape"
   ]
  },
  {
   "cell_type": "code",
   "execution_count": 45,
   "metadata": {},
   "outputs": [
    {
     "data": {
      "image/png": "[encoded data removed]",
      "text/plain": [
       "<Figure size 1440x1440 with 56 Axes>"
      ]
     },
     "metadata": {
      "needs_background": "light"
     },
     "output_type": "display_data"
    }
   ],
   "source": [
    "all_data.hist(figsize=(20, 20))\n",
    "None"
   ]
  },
  {
   "cell_type": "code",
   "execution_count": 120,
   "metadata": {},
   "outputs": [
    {
     "data": {
      "text/html": [
       "<style  type=\"text/css\" >\n",
       "    #T_b78c22d4_0a41_11eb_8513_f40f241c1138row0_col0 {\n",
       "            background-color:  #b40426;\n",
       "            color:  #f1f1f1;\n",
       "        }    #T_b78c22d4_0a41_11eb_8513_f40f241c1138row0_col1 {\n",
       "            background-color:  #afcafc;\n",
       "            color:  #000000;\n",
       "        }    #T_b78c22d4_0a41_11eb_8513_f40f241c1138row0_col2 {\n",
       "            background-color:  #5572df;\n",
       "            color:  #000000;\n",
       "        }    #T_b78c22d4_0a41_11eb_8513_f40f241c1138row0_col3 {\n",
       "            background-color:  #5977e3;\n",
       "            color:  #000000;\n",
       "        }    #T_b78c22d4_0a41_11eb_8513_f40f241c1138row1_col0 {\n",
       "            background-color:  #a9c6fd;\n",
       "            color:  #000000;\n",
       "        }    #T_b78c22d4_0a41_11eb_8513_f40f241c1138row1_col1 {\n",
       "            background-color:  #b40426;\n",
       "            color:  #f1f1f1;\n",
       "        }    #T_b78c22d4_0a41_11eb_8513_f40f241c1138row1_col2 {\n",
       "            background-color:  #cfdaea;\n",
       "            color:  #000000;\n",
       "        }    #T_b78c22d4_0a41_11eb_8513_f40f241c1138row1_col3 {\n",
       "            background-color:  #4c66d6;\n",
       "            color:  #000000;\n",
       "        }    #T_b78c22d4_0a41_11eb_8513_f40f241c1138row2_col0 {\n",
       "            background-color:  #3b4cc0;\n",
       "            color:  #f1f1f1;\n",
       "        }    #T_b78c22d4_0a41_11eb_8513_f40f241c1138row2_col1 {\n",
       "            background-color:  #c5d6f2;\n",
       "            color:  #000000;\n",
       "        }    #T_b78c22d4_0a41_11eb_8513_f40f241c1138row2_col2 {\n",
       "            background-color:  #b40426;\n",
       "            color:  #f1f1f1;\n",
       "        }    #T_b78c22d4_0a41_11eb_8513_f40f241c1138row2_col3 {\n",
       "            background-color:  #3b4cc0;\n",
       "            color:  #f1f1f1;\n",
       "        }    #T_b78c22d4_0a41_11eb_8513_f40f241c1138row3_col0 {\n",
       "            background-color:  #3d50c3;\n",
       "            color:  #f1f1f1;\n",
       "        }    #T_b78c22d4_0a41_11eb_8513_f40f241c1138row3_col1 {\n",
       "            background-color:  #3b4cc0;\n",
       "            color:  #f1f1f1;\n",
       "        }    #T_b78c22d4_0a41_11eb_8513_f40f241c1138row3_col2 {\n",
       "            background-color:  #3b4cc0;\n",
       "            color:  #f1f1f1;\n",
       "        }    #T_b78c22d4_0a41_11eb_8513_f40f241c1138row3_col3 {\n",
       "            background-color:  #b40426;\n",
       "            color:  #f1f1f1;\n",
       "        }</style><table id=\"T_b78c22d4_0a41_11eb_8513_f40f241c1138\" ><thead>    <tr>        <th class=\"blank level0\" ></th>        <th class=\"col_heading level0 col0\" >Wilderness_Area_3</th>        <th class=\"col_heading level0 col1\" >Soil_Type_9</th>        <th class=\"col_heading level0 col2\" >Soil_Type_37</th>        <th class=\"col_heading level0 col3\" >Cover_Type</th>    </tr></thead><tbody>\n",
       "                <tr>\n",
       "                        <th id=\"T_b78c22d4_0a41_11eb_8513_f40f241c1138level0_row0\" class=\"row_heading level0 row0\" >Wilderness_Area_3</th>\n",
       "                        <td id=\"T_b78c22d4_0a41_11eb_8513_f40f241c1138row0_col0\" class=\"data row0 col0\" >1.000000</td>\n",
       "                        <td id=\"T_b78c22d4_0a41_11eb_8513_f40f241c1138row0_col1\" class=\"data row0 col1\" >0.625855</td>\n",
       "                        <td id=\"T_b78c22d4_0a41_11eb_8513_f40f241c1138row0_col2\" class=\"data row0 col2\" >0.440075</td>\n",
       "                        <td id=\"T_b78c22d4_0a41_11eb_8513_f40f241c1138row0_col3\" class=\"data row0 col3\" >0.446222</td>\n",
       "            </tr>\n",
       "            <tr>\n",
       "                        <th id=\"T_b78c22d4_0a41_11eb_8513_f40f241c1138level0_row1\" class=\"row_heading level0 row1\" >Soil_Type_9</th>\n",
       "                        <td id=\"T_b78c22d4_0a41_11eb_8513_f40f241c1138row1_col0\" class=\"data row1 col0\" >0.625855</td>\n",
       "                        <td id=\"T_b78c22d4_0a41_11eb_8513_f40f241c1138row1_col1\" class=\"data row1 col1\" >1.000000</td>\n",
       "                        <td id=\"T_b78c22d4_0a41_11eb_8513_f40f241c1138row1_col2\" class=\"data row1 col2\" >0.663462</td>\n",
       "                        <td id=\"T_b78c22d4_0a41_11eb_8513_f40f241c1138row1_col3\" class=\"data row1 col3\" >0.423592</td>\n",
       "            </tr>\n",
       "            <tr>\n",
       "                        <th id=\"T_b78c22d4_0a41_11eb_8513_f40f241c1138level0_row2\" class=\"row_heading level0 row2\" >Soil_Type_37</th>\n",
       "                        <td id=\"T_b78c22d4_0a41_11eb_8513_f40f241c1138row2_col0\" class=\"data row2 col0\" >0.440075</td>\n",
       "                        <td id=\"T_b78c22d4_0a41_11eb_8513_f40f241c1138row2_col1\" class=\"data row2 col1\" >0.663462</td>\n",
       "                        <td id=\"T_b78c22d4_0a41_11eb_8513_f40f241c1138row2_col2\" class=\"data row2 col2\" >1.000000</td>\n",
       "                        <td id=\"T_b78c22d4_0a41_11eb_8513_f40f241c1138row2_col3\" class=\"data row2 col3\" >0.385896</td>\n",
       "            </tr>\n",
       "            <tr>\n",
       "                        <th id=\"T_b78c22d4_0a41_11eb_8513_f40f241c1138level0_row3\" class=\"row_heading level0 row3\" >Cover_Type</th>\n",
       "                        <td id=\"T_b78c22d4_0a41_11eb_8513_f40f241c1138row3_col0\" class=\"data row3 col0\" >0.446222</td>\n",
       "                        <td id=\"T_b78c22d4_0a41_11eb_8513_f40f241c1138row3_col1\" class=\"data row3 col1\" >0.423592</td>\n",
       "                        <td id=\"T_b78c22d4_0a41_11eb_8513_f40f241c1138row3_col2\" class=\"data row3 col2\" >0.385896</td>\n",
       "                        <td id=\"T_b78c22d4_0a41_11eb_8513_f40f241c1138row3_col3\" class=\"data row3 col3\" >1.000000</td>\n",
       "            </tr>\n",
       "    </tbody></table>"
      ],
      "text/plain": [
       "<pandas.io.formats.style.Styler at 0x12c62e8e0>"
      ]
     },
     "execution_count": 120,
     "metadata": {},
     "output_type": "execute_result"
    }
   ],
   "source": [
    "corr = all_data.corr()\n",
    "mask = corr['Cover_Type'] > 0.38\n",
    "corr = corr.loc[mask, mask]\n",
    "data = all_data.loc[:, mask]\n",
    "corr.style.background_gradient(cmap='coolwarm')"
   ]
  },
  {
   "cell_type": "code",
   "execution_count": 129,
   "metadata": {},
   "outputs": [
    {
     "data": {
      "text/plain": [
       "0        54\n",
       "1         2\n",
       "2         1\n",
       "3         2\n",
       "4         1\n",
       "         ..\n",
       "9996      2\n",
       "9997      2\n",
       "9998      2\n",
       "9999      2\n",
       "10000     2\n",
       "Name: Cover_Type, Length: 10001, dtype: int64"
      ]
     },
     "execution_count": 129,
     "metadata": {},
     "output_type": "execute_result"
    }
   ],
   "source": [
    "data = all_data[all_data.columns[mask]]\n",
    "data['Cover_Type']"
   ]
  },
  {
   "cell_type": "code",
   "execution_count": 132,
   "metadata": {},
   "outputs": [
    {
     "data": {
      "image/png": "[encoded data removed]",
      "text/plain": [
       "<Figure size 1080x1080 with 16 Axes>"
      ]
     },
     "metadata": {
      "needs_background": "light"
     },
     "output_type": "display_data"
    }
   ],
   "source": [
    "pd.plotting.scatter_matrix(data, c=data['Cover_Type'], figsize=(15, 15), hist_kwds={'bins': 20})\n",
    "None"
   ]
  },
  {
   "cell_type": "markdown",
   "metadata": {
    "id": "itCWxHEY25pg"
   },
   "source": [
    "Выделим значения метки класса в переменную `labels`, признаковые описания --- в переменную `feature_matrix`. Так как данные числовые и не имеют пропусков, переведем их в `numpy`-формат с помощью метода `.values`."
   ]
  },
  {
   "cell_type": "code",
   "execution_count": 5,
   "metadata": {
    "id": "f_YIUOuV25ph"
   },
   "outputs": [],
   "source": [
    "labels = all_data[all_data.columns[-1]].values\n",
    "feature_matrix = all_data[all_data.columns[:-1]].values"
   ]
  },
  {
   "cell_type": "markdown",
   "metadata": {
    "id": "FukXaH_r8PMQ"
   },
   "source": [
    "### Пара слов о sklearn"
   ]
  },
  {
   "cell_type": "markdown",
   "metadata": {
    "id": "k5S_0Lfc8PMR"
   },
   "source": [
    "**[sklearn](https://scikit-learn.org/stable/index.html)** -- удобная библиотека для знакомства с машинным обучением. В ней реализованны большинство стандартных алгоритмов для построения моделей и работ с выборками. У неё есть подробная документация на английском, с которой вам придётся поработать."
   ]
  },
  {
   "cell_type": "markdown",
   "metadata": {
    "id": "VhVDEG538PMS"
   },
   "source": [
    "`sklearn` предпологает, что ваши выборки имеют вид пар $(X, y)$, где $X$ -- матрица признаков, $y$ -- вектор истинных значений целевой переменной, или просто $X$, если целевые переменные неизвестны."
   ]
  },
  {
   "cell_type": "markdown",
   "metadata": {
    "id": "QJZQulsp8PMT"
   },
   "source": [
    "Познакомимся со вспомогательной функцией \n",
    "[train_test_split](https://scikit-learn.org/stable/modules/generated/sklearn.model_selection.train_test_split.html).\n",
    "С её помощью можно разбить выборку на обучающую и тестовую части."
   ]
  },
  {
   "cell_type": "code",
   "execution_count": 6,
   "metadata": {
    "id": "Q030jzyY25pl"
   },
   "outputs": [],
   "source": [
    "from sklearn.model_selection import train_test_split"
   ]
  },
  {
   "cell_type": "markdown",
   "metadata": {
    "id": "UkeB47mX8PMY"
   },
   "source": [
    "Вернёмся к датасету. Сейчас будем работать со всеми 7 типами покрытия (данные уже находятся в переменных `feature_matrix` и `labels`, если Вы их не переопределили). Разделим выборку на обучающую и тестовую с помощью метода `train_test_split`."
   ]
  },
  {
   "cell_type": "code",
   "execution_count": 8,
   "metadata": {
    "id": "YJN0jFARKxZX"
   },
   "outputs": [],
   "source": [
    "train_feature_matrix, test_feature_matrix, train_labels, test_labels = train_test_split(\n",
    "    feature_matrix, labels, test_size=0.2, random_state=42)"
   ]
  },
  {
   "cell_type": "code",
   "execution_count": 12,
   "metadata": {},
   "outputs": [
    {
     "data": {
      "text/plain": [
       "(8000, 54)"
      ]
     },
     "execution_count": 12,
     "metadata": {},
     "output_type": "execute_result"
    }
   ],
   "source": [
    "train_feature_matrix.shape"
   ]
  },
  {
   "cell_type": "markdown",
   "metadata": {
    "id": "odC1c7X48PMb"
   },
   "source": [
    "Параметр `test_size` контролирует, какая часть выборки будет тестовой. Более подробно о нём можно прочитать в [документации](https://scikit-learn.org/stable/modules/generated/sklearn.model_selection.train_test_split.html)."
   ]
  },
  {
   "cell_type": "markdown",
   "metadata": {
    "id": "z3fGvPqG8PMc"
   },
   "source": [
    "Основные объекты `sklearn` -- так называемые `estimators`, что можно перевести как *оценщики*, но не стоит, так как по сути это *модели*. Они делятся на **классификаторы** и **регрессоры**.\n",
    "\n",
    "В качестве примера модели можно привести классификаторы\n",
    "[метод ближайших соседей](https://scikit-learn.org/stable/modules/generated/sklearn.neighbors.KNeighborsClassifier.html) и \n",
    "[логистическую регрессию](https://scikit-learn.org/stable/modules/generated/sklearn.linear_model.LogisticRegression.html). Что такое логистическая регрессия и как она работает сейчас не важно."
   ]
  },
  {
   "cell_type": "markdown",
   "metadata": {
    "id": "IuX8Rc7c8PMd"
   },
   "source": [
    "У всех моделей в `sklearn` обязательно должно быть хотя бы 2 метода (подробнее о методах и классах в python будет в следующих занятиях) -- `fit` и `predict`."
   ]
  },
  {
   "cell_type": "markdown",
   "metadata": {
    "id": "ZYokUkxO8PMe"
   },
   "source": [
    "Метод `fit(X, y)` отвечает за обучение модели и принимает на вход обучающую выборку в виде *матрицы признаков* $X$ и *вектора ответов* $y$.\n",
    "\n",
    "У обученной после `fit` модели теперь можно вызывать метод `predict(X)`, который вернёт предсказания этой модели на всех объектах из матрицы $X$ в виде вектора.\n",
    "\n",
    "Вызывать `fit` у одной и той же модели можно несколько раз, каждый раз она будет обучаться заново на переданном наборе данных.\n",
    "\n",
    "Ещё у моделей есть *гиперпараметры*, которые обычно задаются при создании модели.\n",
    "\n",
    "Рассмотрим всё это на примере логистической регрессии."
   ]
  },
  {
   "cell_type": "code",
   "execution_count": 9,
   "metadata": {
    "id": "ew0Ji_2D8PMe"
   },
   "outputs": [],
   "source": [
    "from sklearn.linear_model import LogisticRegression"
   ]
  },
  {
   "cell_type": "code",
   "execution_count": 16,
   "metadata": {
    "id": "c9KcMHXr8PMh"
   },
   "outputs": [
    {
     "name": "stderr",
     "output_type": "stream",
     "text": [
      "/usr/local/lib/python3.8/site-packages/sklearn/linear_model/_logistic.py:938: ConvergenceWarning: lbfgs failed to converge (status=1):\n",
      "STOP: TOTAL NO. of ITERATIONS REACHED LIMIT.\n",
      "\n",
      "Increase the number of iterations (max_iter) or scale the data as shown in:\n",
      "    https://scikit-learn.org/stable/modules/preprocessing.html\n",
      "Please also refer to the documentation for alternative solver options:\n",
      "    https://scikit-learn.org/stable/modules/linear_model.html#logistic-regression\n",
      "  n_iter_i = _check_optimize_result(\n"
     ]
    },
    {
     "data": {
      "text/plain": [
       "LogisticRegression(C=1, class_weight=None, dual=False, fit_intercept=True,\n",
       "                   intercept_scaling=1, l1_ratio=None, max_iter=100,\n",
       "                   multi_class='auto', n_jobs=None, penalty='l2',\n",
       "                   random_state=None, solver='lbfgs', tol=0.0001, verbose=0,\n",
       "                   warm_start=False)"
      ]
     },
     "execution_count": 16,
     "metadata": {},
     "output_type": "execute_result"
    }
   ],
   "source": [
    "# создание модели с указанием гиперпараметра C\n",
    "clf = LogisticRegression(C=1)\n",
    "# обучение модели\n",
    "clf.fit(train_feature_matrix, train_labels)\n",
    "# предсказание на тестовой выборке\n",
    "# y_pred = clf.predict(test_feature_matrix)"
   ]
  },
  {
   "cell_type": "markdown",
   "metadata": {
    "id": "h3gjg3pm8PMm"
   },
   "source": [
    "Теперь хотелось бы измерить качество нашей модели. Для этого можно использовать метод `score(X, y)`, который посчитает какую-то функцию ошибки на выборке $X, y$, но какую конкретно уже зависит от модели. Также можно использовать одну из функций модуля `metrics`, например [accuracy_score](https://scikit-learn.org/stable/modules/generated/sklearn.metrics.accuracy_score.html), которая, как понятно из названия, вычислит нам точность предсказаний."
   ]
  },
  {
   "cell_type": "code",
   "execution_count": 17,
   "metadata": {
    "id": "J2Ej1Lni8PMn"
   },
   "outputs": [
    {
     "data": {
      "text/plain": [
       "0.678"
      ]
     },
     "execution_count": 17,
     "metadata": {},
     "output_type": "execute_result"
    }
   ],
   "source": [
    "from sklearn.metrics import accuracy_score\n",
    "\n",
    "accuracy_score(test_labels, y_pred)"
   ]
  },
  {
   "cell_type": "markdown",
   "metadata": {
    "id": "malIDW_P8PMp"
   },
   "source": [
    "Наконец, последним, о чём хотелось бы упомянуть, будет перебор гиперпараметров по сетке. Так как у моделей есть много гиперпараметров, которые можно изменять, и от этих гиперпараметров существенно зависит качество модели, хотелось бы найти наилучшие в этом смысле параметры. Самый простой способ это сделать -- просто перебрать все возможные варианты в разумных пределах.\n",
    "\n",
    "Сделать это можно с помощью класса [GridSearchCV](https://scikit-learn.org/stable/modules/generated/sklearn.model_selection.GridSearchCV.html), который осуществляет поиск (search) по сетке (grid) и вычисляет качество модели с помощью кросс-валидации (CV).\n",
    "\n",
    "У логистической регрессии, например, можно поменять параметры `C` и `penalty`. Сделаем это. Учтите, что поиск может занять долгое время. Смысл параметров смотрите в документации."
   ]
  },
  {
   "cell_type": "code",
   "execution_count": 18,
   "metadata": {
    "id": "vq687Aoc8PMq"
   },
   "outputs": [],
   "source": [
    "from sklearn.model_selection import GridSearchCV"
   ]
  },
  {
   "cell_type": "code",
   "execution_count": 25,
   "metadata": {
    "id": "OVnqHBvK8PMs",
    "slideshow": {
     "slide_type": "notes"
    }
   },
   "outputs": [
    {
     "name": "stdout",
     "output_type": "stream",
     "text": [
      "{'C': 1, 'penalty': 'l1'}\n"
     ]
    },
    {
     "name": "stderr",
     "output_type": "stream",
     "text": [
      "/usr/local/lib/python3.8/site-packages/sklearn/linear_model/_sag.py:329: ConvergenceWarning: The max_iter was reached which means the coef_ did not converge\n",
      "  warnings.warn(\"The max_iter was reached which means \"\n"
     ]
    }
   ],
   "source": [
    "# заново создадим модель, указав солвер\n",
    "clf = LogisticRegression(solver='saga')\n",
    "\n",
    "# опишем сетку, по которой будем искать\n",
    "param_grid = {\n",
    "    'C': np.arange(1, 5), # также можно указать обычный массив, [1, 2, 3, 4]\n",
    "    'penalty': ['l1', 'l2'],\n",
    "}\n",
    "\n",
    "# создадим объект GridSearchCV\n",
    "search = GridSearchCV(clf, param_grid, n_jobs=-1, cv=5, refit=True, scoring='accuracy')\n",
    "\n",
    "# запустим поиск\n",
    "search.fit(feature_matrix, labels)\n",
    "\n",
    "# выведем наилучшие параметры\n",
    "print(search.best_params_)"
   ]
  },
  {
   "cell_type": "code",
   "execution_count": 111,
   "metadata": {
    "id": "OVnqHBvK8PMs",
    "slideshow": {
     "slide_type": "notes"
    }
   },
   "outputs": [
    {
     "data": {
      "text/plain": [
       "<re.Match object; span=(0, 0), match=''>"
      ]
     },
     "execution_count": 111,
     "metadata": {},
     "output_type": "execute_result"
    }
   ],
   "source": [
    "res = search.cv_results_\n",
    "res = pd.DataFrame(res)\n",
    "# res.filter(regex='(?!param.*)')\n",
    "import re\n",
    "re.search('(?!param)', 'penalty')"
   ]
  },
  {
   "cell_type": "markdown",
   "metadata": {
    "id": "DnVTFcvZ8PMv"
   },
   "source": [
    "В данном случае, поиск перебирает все возможные пары значений C и penalty из заданных множеств."
   ]
  },
  {
   "cell_type": "code",
   "execution_count": 20,
   "metadata": {
    "id": "ArKINrE_8PMw"
   },
   "outputs": [
    {
     "data": {
      "text/plain": [
       "0.6419"
      ]
     },
     "execution_count": 20,
     "metadata": {},
     "output_type": "execute_result"
    }
   ],
   "source": [
    "accuracy_score(labels, search.best_estimator_.predict(feature_matrix))"
   ]
  },
  {
   "cell_type": "markdown",
   "metadata": {
    "id": "okzpKY_I8PMz"
   },
   "source": [
    "Заметьте, что мы передаём в GridSearchCV всю выборку, а не только её обучающую часть. Это можно делать, так как поиск всё равно использует кроссвалидацию. Однако порой от выборки всё-же отделяют *валидационную* часть, так как гиперпараметры в процессе поиска могли переобучиться под выборку."
   ]
  },
  {
   "cell_type": "markdown",
   "metadata": {
    "id": "_mdJyxdo8PM1"
   },
   "source": [
    "В заданиях вам предстоит повторить это для метода ближайших соседей."
   ]
  },
  {
   "cell_type": "markdown",
   "metadata": {
    "id": "z8W__017KxZc"
   },
   "source": [
    "### Обучение модели"
   ]
  },
  {
   "cell_type": "markdown",
   "metadata": {
    "id": "02uT6CPYKxZe"
   },
   "source": [
    "Качество классификации/регрессии методом ближайших соседей зависит от нескольких параметров:\n",
    "\n",
    "* число соседей `n_neighbors`\n",
    "* метрика расстояния между объектами `metric`\n",
    "* веса соседей (соседи тестового примера могут входить с разными весами, например, чем дальше пример, тем с меньшим коэффициентом учитывается его \"голос\") `weights`\n"
   ]
  },
  {
   "cell_type": "markdown",
   "metadata": {
    "id": "BHVNCaJ325qD"
   },
   "source": [
    "Обучите на датасете `KNeighborsClassifier` из `sklearn`."
   ]
  },
  {
   "cell_type": "code",
   "execution_count": 138,
   "metadata": {
    "id": "o4CMnnOY25qD"
   },
   "outputs": [
    {
     "data": {
      "text/plain": [
       "0.7365"
      ]
     },
     "execution_count": 138,
     "metadata": {},
     "output_type": "execute_result"
    }
   ],
   "source": [
    "from sklearn.neighbors import KNeighborsClassifier\n",
    "from sklearn.metrics import accuracy_score\n",
    "\n",
    "clf = KNeighborsClassifier()\n",
    "clf.fit(train_feature_matrix, train_labels)\n",
    "y_pred = clf.predict(test_feature_matrix)\n",
    "accuracy_score(test_labels, y_pred)"
   ]
  },
  {
   "cell_type": "markdown",
   "metadata": {
    "id": "r_2Mf8BiKxZk"
   },
   "source": [
    "### Вопрос 1:\n",
    "* Какое качество у вас получилось?"
   ]
  },
  {
   "cell_type": "markdown",
   "metadata": {
    "id": "uFTIaPdrKxZl"
   },
   "source": [
    "Подберём параметры нашей модели"
   ]
  },
  {
   "cell_type": "markdown",
   "metadata": {
    "id": "8WzoRJZd25qF"
   },
   "source": [
    "* Переберите по сетке от `1` до `10` параметр числа соседей\n",
    "\n",
    "* Также вы попробуйте использоввать различные метрики: `['manhattan', 'euclidean']`\n",
    "\n",
    "* Попробуйте использовать различные стратегии вычисления весов: `[‘uniform’, ‘distance’]`"
   ]
  },
  {
   "cell_type": "code",
   "execution_count": 143,
   "metadata": {
    "id": "4lMSy-6f25qG",
    "scrolled": true
   },
   "outputs": [
    {
     "data": {
      "text/html": [
       "<div>\n",
       "<style scoped>\n",
       "    .dataframe tbody tr th:only-of-type {\n",
       "        vertical-align: middle;\n",
       "    }\n",
       "\n",
       "    .dataframe tbody tr th {\n",
       "        vertical-align: top;\n",
       "    }\n",
       "\n",
       "    .dataframe thead th {\n",
       "        text-align: right;\n",
       "    }\n",
       "</style>\n",
       "<table border=\"1\" class=\"dataframe\">\n",
       "  <thead>\n",
       "    <tr style=\"text-align: right;\">\n",
       "      <th></th>\n",
       "      <th>mean_fit_time</th>\n",
       "      <th>std_fit_time</th>\n",
       "      <th>mean_score_time</th>\n",
       "      <th>std_score_time</th>\n",
       "      <th>param_metric</th>\n",
       "      <th>param_n_neighbors</th>\n",
       "      <th>param_weights</th>\n",
       "      <th>params</th>\n",
       "      <th>split0_test_score</th>\n",
       "      <th>split1_test_score</th>\n",
       "      <th>split2_test_score</th>\n",
       "      <th>split3_test_score</th>\n",
       "      <th>split4_test_score</th>\n",
       "      <th>mean_test_score</th>\n",
       "      <th>std_test_score</th>\n",
       "      <th>rank_test_score</th>\n",
       "    </tr>\n",
       "  </thead>\n",
       "  <tbody>\n",
       "    <tr>\n",
       "      <th>0</th>\n",
       "      <td>0.085065</td>\n",
       "      <td>0.027914</td>\n",
       "      <td>0.000000</td>\n",
       "      <td>0.000000</td>\n",
       "      <td>manhattan</td>\n",
       "      <td>0</td>\n",
       "      <td>uniform</td>\n",
       "      <td>{'metric': 'manhattan', 'n_neighbors': 0, 'wei...</td>\n",
       "      <td>NaN</td>\n",
       "      <td>NaN</td>\n",
       "      <td>NaN</td>\n",
       "      <td>NaN</td>\n",
       "      <td>NaN</td>\n",
       "      <td>NaN</td>\n",
       "      <td>NaN</td>\n",
       "      <td>40</td>\n",
       "    </tr>\n",
       "    <tr>\n",
       "      <th>1</th>\n",
       "      <td>0.044422</td>\n",
       "      <td>0.003011</td>\n",
       "      <td>0.000000</td>\n",
       "      <td>0.000000</td>\n",
       "      <td>manhattan</td>\n",
       "      <td>0</td>\n",
       "      <td>distance</td>\n",
       "      <td>{'metric': 'manhattan', 'n_neighbors': 0, 'wei...</td>\n",
       "      <td>NaN</td>\n",
       "      <td>NaN</td>\n",
       "      <td>NaN</td>\n",
       "      <td>NaN</td>\n",
       "      <td>NaN</td>\n",
       "      <td>NaN</td>\n",
       "      <td>NaN</td>\n",
       "      <td>37</td>\n",
       "    </tr>\n",
       "    <tr>\n",
       "      <th>2</th>\n",
       "      <td>0.049125</td>\n",
       "      <td>0.006355</td>\n",
       "      <td>0.252039</td>\n",
       "      <td>0.014995</td>\n",
       "      <td>manhattan</td>\n",
       "      <td>1</td>\n",
       "      <td>uniform</td>\n",
       "      <td>{'metric': 'manhattan', 'n_neighbors': 1, 'wei...</td>\n",
       "      <td>0.7775</td>\n",
       "      <td>0.7940</td>\n",
       "      <td>0.7835</td>\n",
       "      <td>0.7785</td>\n",
       "      <td>0.7730</td>\n",
       "      <td>0.7813</td>\n",
       "      <td>0.007174</td>\n",
       "      <td>4</td>\n",
       "    </tr>\n",
       "    <tr>\n",
       "      <th>3</th>\n",
       "      <td>0.042823</td>\n",
       "      <td>0.010113</td>\n",
       "      <td>0.131091</td>\n",
       "      <td>0.023938</td>\n",
       "      <td>manhattan</td>\n",
       "      <td>1</td>\n",
       "      <td>distance</td>\n",
       "      <td>{'metric': 'manhattan', 'n_neighbors': 1, 'wei...</td>\n",
       "      <td>0.7775</td>\n",
       "      <td>0.7940</td>\n",
       "      <td>0.7835</td>\n",
       "      <td>0.7785</td>\n",
       "      <td>0.7730</td>\n",
       "      <td>0.7813</td>\n",
       "      <td>0.007174</td>\n",
       "      <td>4</td>\n",
       "    </tr>\n",
       "    <tr>\n",
       "      <th>4</th>\n",
       "      <td>0.038620</td>\n",
       "      <td>0.001558</td>\n",
       "      <td>0.269527</td>\n",
       "      <td>0.003090</td>\n",
       "      <td>manhattan</td>\n",
       "      <td>2</td>\n",
       "      <td>uniform</td>\n",
       "      <td>{'metric': 'manhattan', 'n_neighbors': 2, 'wei...</td>\n",
       "      <td>0.7275</td>\n",
       "      <td>0.7465</td>\n",
       "      <td>0.7465</td>\n",
       "      <td>0.7255</td>\n",
       "      <td>0.7505</td>\n",
       "      <td>0.7393</td>\n",
       "      <td>0.010572</td>\n",
       "      <td>29</td>\n",
       "    </tr>\n",
       "    <tr>\n",
       "      <th>5</th>\n",
       "      <td>0.040487</td>\n",
       "      <td>0.005510</td>\n",
       "      <td>0.162822</td>\n",
       "      <td>0.007392</td>\n",
       "      <td>manhattan</td>\n",
       "      <td>2</td>\n",
       "      <td>distance</td>\n",
       "      <td>{'metric': 'manhattan', 'n_neighbors': 2, 'wei...</td>\n",
       "      <td>0.7785</td>\n",
       "      <td>0.7940</td>\n",
       "      <td>0.7830</td>\n",
       "      <td>0.7795</td>\n",
       "      <td>0.7740</td>\n",
       "      <td>0.7818</td>\n",
       "      <td>0.006742</td>\n",
       "      <td>2</td>\n",
       "    </tr>\n",
       "    <tr>\n",
       "      <th>6</th>\n",
       "      <td>0.042848</td>\n",
       "      <td>0.004476</td>\n",
       "      <td>0.308337</td>\n",
       "      <td>0.023692</td>\n",
       "      <td>manhattan</td>\n",
       "      <td>3</td>\n",
       "      <td>uniform</td>\n",
       "      <td>{'metric': 'manhattan', 'n_neighbors': 3, 'wei...</td>\n",
       "      <td>0.7595</td>\n",
       "      <td>0.7725</td>\n",
       "      <td>0.7545</td>\n",
       "      <td>0.7645</td>\n",
       "      <td>0.7665</td>\n",
       "      <td>0.7635</td>\n",
       "      <td>0.006132</td>\n",
       "      <td>18</td>\n",
       "    </tr>\n",
       "    <tr>\n",
       "      <th>7</th>\n",
       "      <td>0.038183</td>\n",
       "      <td>0.003913</td>\n",
       "      <td>0.185942</td>\n",
       "      <td>0.008531</td>\n",
       "      <td>manhattan</td>\n",
       "      <td>3</td>\n",
       "      <td>distance</td>\n",
       "      <td>{'metric': 'manhattan', 'n_neighbors': 3, 'wei...</td>\n",
       "      <td>0.7750</td>\n",
       "      <td>0.7870</td>\n",
       "      <td>0.7695</td>\n",
       "      <td>0.7835</td>\n",
       "      <td>0.7850</td>\n",
       "      <td>0.7800</td>\n",
       "      <td>0.006656</td>\n",
       "      <td>8</td>\n",
       "    </tr>\n",
       "    <tr>\n",
       "      <th>8</th>\n",
       "      <td>0.042796</td>\n",
       "      <td>0.006103</td>\n",
       "      <td>0.318653</td>\n",
       "      <td>0.017234</td>\n",
       "      <td>manhattan</td>\n",
       "      <td>4</td>\n",
       "      <td>uniform</td>\n",
       "      <td>{'metric': 'manhattan', 'n_neighbors': 4, 'wei...</td>\n",
       "      <td>0.7435</td>\n",
       "      <td>0.7590</td>\n",
       "      <td>0.7515</td>\n",
       "      <td>0.7375</td>\n",
       "      <td>0.7550</td>\n",
       "      <td>0.7493</td>\n",
       "      <td>0.007801</td>\n",
       "      <td>24</td>\n",
       "    </tr>\n",
       "    <tr>\n",
       "      <th>9</th>\n",
       "      <td>0.044808</td>\n",
       "      <td>0.006322</td>\n",
       "      <td>0.206664</td>\n",
       "      <td>0.007073</td>\n",
       "      <td>manhattan</td>\n",
       "      <td>4</td>\n",
       "      <td>distance</td>\n",
       "      <td>{'metric': 'manhattan', 'n_neighbors': 4, 'wei...</td>\n",
       "      <td>0.7800</td>\n",
       "      <td>0.8000</td>\n",
       "      <td>0.7810</td>\n",
       "      <td>0.7860</td>\n",
       "      <td>0.7880</td>\n",
       "      <td>0.7870</td>\n",
       "      <td>0.007155</td>\n",
       "      <td>1</td>\n",
       "    </tr>\n",
       "    <tr>\n",
       "      <th>10</th>\n",
       "      <td>0.042467</td>\n",
       "      <td>0.001743</td>\n",
       "      <td>0.333668</td>\n",
       "      <td>0.008637</td>\n",
       "      <td>manhattan</td>\n",
       "      <td>5</td>\n",
       "      <td>uniform</td>\n",
       "      <td>{'metric': 'manhattan', 'n_neighbors': 5, 'wei...</td>\n",
       "      <td>0.7315</td>\n",
       "      <td>0.7640</td>\n",
       "      <td>0.7540</td>\n",
       "      <td>0.7500</td>\n",
       "      <td>0.7570</td>\n",
       "      <td>0.7513</td>\n",
       "      <td>0.010907</td>\n",
       "      <td>23</td>\n",
       "    </tr>\n",
       "    <tr>\n",
       "      <th>11</th>\n",
       "      <td>0.045614</td>\n",
       "      <td>0.011487</td>\n",
       "      <td>0.212062</td>\n",
       "      <td>0.004047</td>\n",
       "      <td>manhattan</td>\n",
       "      <td>5</td>\n",
       "      <td>distance</td>\n",
       "      <td>{'metric': 'manhattan', 'n_neighbors': 5, 'wei...</td>\n",
       "      <td>0.7645</td>\n",
       "      <td>0.7940</td>\n",
       "      <td>0.7795</td>\n",
       "      <td>0.7775</td>\n",
       "      <td>0.7875</td>\n",
       "      <td>0.7806</td>\n",
       "      <td>0.009972</td>\n",
       "      <td>6</td>\n",
       "    </tr>\n",
       "    <tr>\n",
       "      <th>12</th>\n",
       "      <td>0.037874</td>\n",
       "      <td>0.003479</td>\n",
       "      <td>0.355463</td>\n",
       "      <td>0.023696</td>\n",
       "      <td>manhattan</td>\n",
       "      <td>6</td>\n",
       "      <td>uniform</td>\n",
       "      <td>{'metric': 'manhattan', 'n_neighbors': 6, 'wei...</td>\n",
       "      <td>0.7315</td>\n",
       "      <td>0.7560</td>\n",
       "      <td>0.7455</td>\n",
       "      <td>0.7360</td>\n",
       "      <td>0.7435</td>\n",
       "      <td>0.7425</td>\n",
       "      <td>0.008432</td>\n",
       "      <td>26</td>\n",
       "    </tr>\n",
       "    <tr>\n",
       "      <th>13</th>\n",
       "      <td>0.046318</td>\n",
       "      <td>0.010106</td>\n",
       "      <td>0.250771</td>\n",
       "      <td>0.026888</td>\n",
       "      <td>manhattan</td>\n",
       "      <td>6</td>\n",
       "      <td>distance</td>\n",
       "      <td>{'metric': 'manhattan', 'n_neighbors': 6, 'wei...</td>\n",
       "      <td>0.7750</td>\n",
       "      <td>0.7945</td>\n",
       "      <td>0.7795</td>\n",
       "      <td>0.7715</td>\n",
       "      <td>0.7860</td>\n",
       "      <td>0.7813</td>\n",
       "      <td>0.008189</td>\n",
       "      <td>3</td>\n",
       "    </tr>\n",
       "    <tr>\n",
       "      <th>14</th>\n",
       "      <td>0.043619</td>\n",
       "      <td>0.002432</td>\n",
       "      <td>0.374421</td>\n",
       "      <td>0.012648</td>\n",
       "      <td>manhattan</td>\n",
       "      <td>7</td>\n",
       "      <td>uniform</td>\n",
       "      <td>{'metric': 'manhattan', 'n_neighbors': 7, 'wei...</td>\n",
       "      <td>0.7400</td>\n",
       "      <td>0.7595</td>\n",
       "      <td>0.7415</td>\n",
       "      <td>0.7405</td>\n",
       "      <td>0.7535</td>\n",
       "      <td>0.7470</td>\n",
       "      <td>0.008000</td>\n",
       "      <td>25</td>\n",
       "    </tr>\n",
       "    <tr>\n",
       "      <th>15</th>\n",
       "      <td>0.045687</td>\n",
       "      <td>0.004857</td>\n",
       "      <td>0.247802</td>\n",
       "      <td>0.006713</td>\n",
       "      <td>manhattan</td>\n",
       "      <td>7</td>\n",
       "      <td>distance</td>\n",
       "      <td>{'metric': 'manhattan', 'n_neighbors': 7, 'wei...</td>\n",
       "      <td>0.7690</td>\n",
       "      <td>0.7880</td>\n",
       "      <td>0.7700</td>\n",
       "      <td>0.7700</td>\n",
       "      <td>0.7800</td>\n",
       "      <td>0.7754</td>\n",
       "      <td>0.007473</td>\n",
       "      <td>9</td>\n",
       "    </tr>\n",
       "    <tr>\n",
       "      <th>16</th>\n",
       "      <td>0.039913</td>\n",
       "      <td>0.003706</td>\n",
       "      <td>0.389316</td>\n",
       "      <td>0.017340</td>\n",
       "      <td>manhattan</td>\n",
       "      <td>8</td>\n",
       "      <td>uniform</td>\n",
       "      <td>{'metric': 'manhattan', 'n_neighbors': 8, 'wei...</td>\n",
       "      <td>0.7365</td>\n",
       "      <td>0.7535</td>\n",
       "      <td>0.7420</td>\n",
       "      <td>0.7350</td>\n",
       "      <td>0.7450</td>\n",
       "      <td>0.7424</td>\n",
       "      <td>0.006629</td>\n",
       "      <td>27</td>\n",
       "    </tr>\n",
       "    <tr>\n",
       "      <th>17</th>\n",
       "      <td>0.040235</td>\n",
       "      <td>0.002515</td>\n",
       "      <td>0.269026</td>\n",
       "      <td>0.010495</td>\n",
       "      <td>manhattan</td>\n",
       "      <td>8</td>\n",
       "      <td>distance</td>\n",
       "      <td>{'metric': 'manhattan', 'n_neighbors': 8, 'wei...</td>\n",
       "      <td>0.7735</td>\n",
       "      <td>0.7940</td>\n",
       "      <td>0.7765</td>\n",
       "      <td>0.7715</td>\n",
       "      <td>0.7860</td>\n",
       "      <td>0.7803</td>\n",
       "      <td>0.008465</td>\n",
       "      <td>7</td>\n",
       "    </tr>\n",
       "    <tr>\n",
       "      <th>18</th>\n",
       "      <td>0.039449</td>\n",
       "      <td>0.004994</td>\n",
       "      <td>0.401643</td>\n",
       "      <td>0.019348</td>\n",
       "      <td>manhattan</td>\n",
       "      <td>9</td>\n",
       "      <td>uniform</td>\n",
       "      <td>{'metric': 'manhattan', 'n_neighbors': 9, 'wei...</td>\n",
       "      <td>0.7410</td>\n",
       "      <td>0.7495</td>\n",
       "      <td>0.7390</td>\n",
       "      <td>0.7395</td>\n",
       "      <td>0.7390</td>\n",
       "      <td>0.7416</td>\n",
       "      <td>0.004017</td>\n",
       "      <td>28</td>\n",
       "    </tr>\n",
       "    <tr>\n",
       "      <th>19</th>\n",
       "      <td>0.039902</td>\n",
       "      <td>0.002169</td>\n",
       "      <td>0.279575</td>\n",
       "      <td>0.021761</td>\n",
       "      <td>manhattan</td>\n",
       "      <td>9</td>\n",
       "      <td>distance</td>\n",
       "      <td>{'metric': 'manhattan', 'n_neighbors': 9, 'wei...</td>\n",
       "      <td>0.7745</td>\n",
       "      <td>0.7880</td>\n",
       "      <td>0.7705</td>\n",
       "      <td>0.7675</td>\n",
       "      <td>0.7750</td>\n",
       "      <td>0.7751</td>\n",
       "      <td>0.007010</td>\n",
       "      <td>10</td>\n",
       "    </tr>\n",
       "    <tr>\n",
       "      <th>20</th>\n",
       "      <td>0.038126</td>\n",
       "      <td>0.002940</td>\n",
       "      <td>0.000000</td>\n",
       "      <td>0.000000</td>\n",
       "      <td>euclidean</td>\n",
       "      <td>0</td>\n",
       "      <td>uniform</td>\n",
       "      <td>{'metric': 'euclidean', 'n_neighbors': 0, 'wei...</td>\n",
       "      <td>NaN</td>\n",
       "      <td>NaN</td>\n",
       "      <td>NaN</td>\n",
       "      <td>NaN</td>\n",
       "      <td>NaN</td>\n",
       "      <td>NaN</td>\n",
       "      <td>NaN</td>\n",
       "      <td>39</td>\n",
       "    </tr>\n",
       "    <tr>\n",
       "      <th>21</th>\n",
       "      <td>0.042025</td>\n",
       "      <td>0.005606</td>\n",
       "      <td>0.000000</td>\n",
       "      <td>0.000000</td>\n",
       "      <td>euclidean</td>\n",
       "      <td>0</td>\n",
       "      <td>distance</td>\n",
       "      <td>{'metric': 'euclidean', 'n_neighbors': 0, 'wei...</td>\n",
       "      <td>NaN</td>\n",
       "      <td>NaN</td>\n",
       "      <td>NaN</td>\n",
       "      <td>NaN</td>\n",
       "      <td>NaN</td>\n",
       "      <td>NaN</td>\n",
       "      <td>NaN</td>\n",
       "      <td>38</td>\n",
       "    </tr>\n",
       "    <tr>\n",
       "      <th>22</th>\n",
       "      <td>0.039004</td>\n",
       "      <td>0.002442</td>\n",
       "      <td>0.202281</td>\n",
       "      <td>0.007515</td>\n",
       "      <td>euclidean</td>\n",
       "      <td>1</td>\n",
       "      <td>uniform</td>\n",
       "      <td>{'metric': 'euclidean', 'n_neighbors': 1, 'wei...</td>\n",
       "      <td>0.7680</td>\n",
       "      <td>0.7885</td>\n",
       "      <td>0.7735</td>\n",
       "      <td>0.7655</td>\n",
       "      <td>0.7695</td>\n",
       "      <td>0.7730</td>\n",
       "      <td>0.008173</td>\n",
       "      <td>12</td>\n",
       "    </tr>\n",
       "    <tr>\n",
       "      <th>23</th>\n",
       "      <td>0.040969</td>\n",
       "      <td>0.002513</td>\n",
       "      <td>0.087669</td>\n",
       "      <td>0.005284</td>\n",
       "      <td>euclidean</td>\n",
       "      <td>1</td>\n",
       "      <td>distance</td>\n",
       "      <td>{'metric': 'euclidean', 'n_neighbors': 1, 'wei...</td>\n",
       "      <td>0.7680</td>\n",
       "      <td>0.7885</td>\n",
       "      <td>0.7735</td>\n",
       "      <td>0.7655</td>\n",
       "      <td>0.7695</td>\n",
       "      <td>0.7730</td>\n",
       "      <td>0.008173</td>\n",
       "      <td>12</td>\n",
       "    </tr>\n",
       "    <tr>\n",
       "      <th>24</th>\n",
       "      <td>0.039851</td>\n",
       "      <td>0.008858</td>\n",
       "      <td>0.212820</td>\n",
       "      <td>0.010239</td>\n",
       "      <td>euclidean</td>\n",
       "      <td>2</td>\n",
       "      <td>uniform</td>\n",
       "      <td>{'metric': 'euclidean', 'n_neighbors': 2, 'wei...</td>\n",
       "      <td>0.7260</td>\n",
       "      <td>0.7365</td>\n",
       "      <td>0.7445</td>\n",
       "      <td>0.7325</td>\n",
       "      <td>0.7340</td>\n",
       "      <td>0.7347</td>\n",
       "      <td>0.006005</td>\n",
       "      <td>31</td>\n",
       "    </tr>\n",
       "    <tr>\n",
       "      <th>25</th>\n",
       "      <td>0.038002</td>\n",
       "      <td>0.002962</td>\n",
       "      <td>0.105604</td>\n",
       "      <td>0.006447</td>\n",
       "      <td>euclidean</td>\n",
       "      <td>2</td>\n",
       "      <td>distance</td>\n",
       "      <td>{'metric': 'euclidean', 'n_neighbors': 2, 'wei...</td>\n",
       "      <td>0.7680</td>\n",
       "      <td>0.7885</td>\n",
       "      <td>0.7735</td>\n",
       "      <td>0.7655</td>\n",
       "      <td>0.7695</td>\n",
       "      <td>0.7730</td>\n",
       "      <td>0.008173</td>\n",
       "      <td>12</td>\n",
       "    </tr>\n",
       "    <tr>\n",
       "      <th>26</th>\n",
       "      <td>0.040793</td>\n",
       "      <td>0.003979</td>\n",
       "      <td>0.223126</td>\n",
       "      <td>0.006459</td>\n",
       "      <td>euclidean</td>\n",
       "      <td>3</td>\n",
       "      <td>uniform</td>\n",
       "      <td>{'metric': 'euclidean', 'n_neighbors': 3, 'wei...</td>\n",
       "      <td>0.7480</td>\n",
       "      <td>0.7620</td>\n",
       "      <td>0.7530</td>\n",
       "      <td>0.7410</td>\n",
       "      <td>0.7585</td>\n",
       "      <td>0.7525</td>\n",
       "      <td>0.007470</td>\n",
       "      <td>22</td>\n",
       "    </tr>\n",
       "    <tr>\n",
       "      <th>27</th>\n",
       "      <td>0.037701</td>\n",
       "      <td>0.001412</td>\n",
       "      <td>0.115227</td>\n",
       "      <td>0.005681</td>\n",
       "      <td>euclidean</td>\n",
       "      <td>3</td>\n",
       "      <td>distance</td>\n",
       "      <td>{'metric': 'euclidean', 'n_neighbors': 3, 'wei...</td>\n",
       "      <td>0.7665</td>\n",
       "      <td>0.7775</td>\n",
       "      <td>0.7735</td>\n",
       "      <td>0.7630</td>\n",
       "      <td>0.7755</td>\n",
       "      <td>0.7712</td>\n",
       "      <td>0.005528</td>\n",
       "      <td>15</td>\n",
       "    </tr>\n",
       "    <tr>\n",
       "      <th>28</th>\n",
       "      <td>0.038361</td>\n",
       "      <td>0.002814</td>\n",
       "      <td>0.237460</td>\n",
       "      <td>0.005217</td>\n",
       "      <td>euclidean</td>\n",
       "      <td>4</td>\n",
       "      <td>uniform</td>\n",
       "      <td>{'metric': 'euclidean', 'n_neighbors': 4, 'wei...</td>\n",
       "      <td>0.7340</td>\n",
       "      <td>0.7345</td>\n",
       "      <td>0.7350</td>\n",
       "      <td>0.7230</td>\n",
       "      <td>0.7255</td>\n",
       "      <td>0.7304</td>\n",
       "      <td>0.005093</td>\n",
       "      <td>32</td>\n",
       "    </tr>\n",
       "    <tr>\n",
       "      <th>29</th>\n",
       "      <td>0.037490</td>\n",
       "      <td>0.003713</td>\n",
       "      <td>0.128600</td>\n",
       "      <td>0.006781</td>\n",
       "      <td>euclidean</td>\n",
       "      <td>4</td>\n",
       "      <td>distance</td>\n",
       "      <td>{'metric': 'euclidean', 'n_neighbors': 4, 'wei...</td>\n",
       "      <td>0.7730</td>\n",
       "      <td>0.7875</td>\n",
       "      <td>0.7750</td>\n",
       "      <td>0.7600</td>\n",
       "      <td>0.7775</td>\n",
       "      <td>0.7746</td>\n",
       "      <td>0.008840</td>\n",
       "      <td>11</td>\n",
       "    </tr>\n",
       "    <tr>\n",
       "      <th>30</th>\n",
       "      <td>0.039494</td>\n",
       "      <td>0.004874</td>\n",
       "      <td>0.252426</td>\n",
       "      <td>0.009896</td>\n",
       "      <td>euclidean</td>\n",
       "      <td>5</td>\n",
       "      <td>uniform</td>\n",
       "      <td>{'metric': 'euclidean', 'n_neighbors': 5, 'wei...</td>\n",
       "      <td>0.7310</td>\n",
       "      <td>0.7475</td>\n",
       "      <td>0.7335</td>\n",
       "      <td>0.7365</td>\n",
       "      <td>0.7305</td>\n",
       "      <td>0.7358</td>\n",
       "      <td>0.006226</td>\n",
       "      <td>30</td>\n",
       "    </tr>\n",
       "    <tr>\n",
       "      <th>31</th>\n",
       "      <td>0.037269</td>\n",
       "      <td>0.002161</td>\n",
       "      <td>0.138330</td>\n",
       "      <td>0.004392</td>\n",
       "      <td>euclidean</td>\n",
       "      <td>5</td>\n",
       "      <td>distance</td>\n",
       "      <td>{'metric': 'euclidean', 'n_neighbors': 5, 'wei...</td>\n",
       "      <td>0.7570</td>\n",
       "      <td>0.7775</td>\n",
       "      <td>0.7645</td>\n",
       "      <td>0.7625</td>\n",
       "      <td>0.7675</td>\n",
       "      <td>0.7658</td>\n",
       "      <td>0.006779</td>\n",
       "      <td>17</td>\n",
       "    </tr>\n",
       "    <tr>\n",
       "      <th>32</th>\n",
       "      <td>0.040087</td>\n",
       "      <td>0.004856</td>\n",
       "      <td>0.271031</td>\n",
       "      <td>0.009513</td>\n",
       "      <td>euclidean</td>\n",
       "      <td>6</td>\n",
       "      <td>uniform</td>\n",
       "      <td>{'metric': 'euclidean', 'n_neighbors': 6, 'wei...</td>\n",
       "      <td>0.7205</td>\n",
       "      <td>0.7425</td>\n",
       "      <td>0.7325</td>\n",
       "      <td>0.7225</td>\n",
       "      <td>0.7210</td>\n",
       "      <td>0.7278</td>\n",
       "      <td>0.008553</td>\n",
       "      <td>34</td>\n",
       "    </tr>\n",
       "    <tr>\n",
       "      <th>33</th>\n",
       "      <td>0.040197</td>\n",
       "      <td>0.004660</td>\n",
       "      <td>0.152251</td>\n",
       "      <td>0.007264</td>\n",
       "      <td>euclidean</td>\n",
       "      <td>6</td>\n",
       "      <td>distance</td>\n",
       "      <td>{'metric': 'euclidean', 'n_neighbors': 6, 'wei...</td>\n",
       "      <td>0.7595</td>\n",
       "      <td>0.7790</td>\n",
       "      <td>0.7585</td>\n",
       "      <td>0.7670</td>\n",
       "      <td>0.7685</td>\n",
       "      <td>0.7665</td>\n",
       "      <td>0.007396</td>\n",
       "      <td>16</td>\n",
       "    </tr>\n",
       "    <tr>\n",
       "      <th>34</th>\n",
       "      <td>0.039140</td>\n",
       "      <td>0.003417</td>\n",
       "      <td>0.259500</td>\n",
       "      <td>0.009583</td>\n",
       "      <td>euclidean</td>\n",
       "      <td>7</td>\n",
       "      <td>uniform</td>\n",
       "      <td>{'metric': 'euclidean', 'n_neighbors': 7, 'wei...</td>\n",
       "      <td>0.7260</td>\n",
       "      <td>0.7425</td>\n",
       "      <td>0.7230</td>\n",
       "      <td>0.7265</td>\n",
       "      <td>0.7220</td>\n",
       "      <td>0.7280</td>\n",
       "      <td>0.007450</td>\n",
       "      <td>33</td>\n",
       "    </tr>\n",
       "    <tr>\n",
       "      <th>35</th>\n",
       "      <td>0.041393</td>\n",
       "      <td>0.003692</td>\n",
       "      <td>0.149737</td>\n",
       "      <td>0.009756</td>\n",
       "      <td>euclidean</td>\n",
       "      <td>7</td>\n",
       "      <td>distance</td>\n",
       "      <td>{'metric': 'euclidean', 'n_neighbors': 7, 'wei...</td>\n",
       "      <td>0.7555</td>\n",
       "      <td>0.7730</td>\n",
       "      <td>0.7595</td>\n",
       "      <td>0.7550</td>\n",
       "      <td>0.7560</td>\n",
       "      <td>0.7598</td>\n",
       "      <td>0.006787</td>\n",
       "      <td>20</td>\n",
       "    </tr>\n",
       "    <tr>\n",
       "      <th>36</th>\n",
       "      <td>0.036969</td>\n",
       "      <td>0.001692</td>\n",
       "      <td>0.265950</td>\n",
       "      <td>0.022772</td>\n",
       "      <td>euclidean</td>\n",
       "      <td>8</td>\n",
       "      <td>uniform</td>\n",
       "      <td>{'metric': 'euclidean', 'n_neighbors': 8, 'wei...</td>\n",
       "      <td>0.7160</td>\n",
       "      <td>0.7370</td>\n",
       "      <td>0.7115</td>\n",
       "      <td>0.7140</td>\n",
       "      <td>0.7235</td>\n",
       "      <td>0.7204</td>\n",
       "      <td>0.009216</td>\n",
       "      <td>36</td>\n",
       "    </tr>\n",
       "    <tr>\n",
       "      <th>37</th>\n",
       "      <td>0.040803</td>\n",
       "      <td>0.005554</td>\n",
       "      <td>0.157557</td>\n",
       "      <td>0.005661</td>\n",
       "      <td>euclidean</td>\n",
       "      <td>8</td>\n",
       "      <td>distance</td>\n",
       "      <td>{'metric': 'euclidean', 'n_neighbors': 8, 'wei...</td>\n",
       "      <td>0.7620</td>\n",
       "      <td>0.7740</td>\n",
       "      <td>0.7605</td>\n",
       "      <td>0.7525</td>\n",
       "      <td>0.7610</td>\n",
       "      <td>0.7620</td>\n",
       "      <td>0.006892</td>\n",
       "      <td>19</td>\n",
       "    </tr>\n",
       "    <tr>\n",
       "      <th>38</th>\n",
       "      <td>0.039606</td>\n",
       "      <td>0.004195</td>\n",
       "      <td>0.282042</td>\n",
       "      <td>0.009577</td>\n",
       "      <td>euclidean</td>\n",
       "      <td>9</td>\n",
       "      <td>uniform</td>\n",
       "      <td>{'metric': 'euclidean', 'n_neighbors': 9, 'wei...</td>\n",
       "      <td>0.7245</td>\n",
       "      <td>0.7320</td>\n",
       "      <td>0.7165</td>\n",
       "      <td>0.7180</td>\n",
       "      <td>0.7230</td>\n",
       "      <td>0.7228</td>\n",
       "      <td>0.005483</td>\n",
       "      <td>35</td>\n",
       "    </tr>\n",
       "    <tr>\n",
       "      <th>39</th>\n",
       "      <td>0.037924</td>\n",
       "      <td>0.003302</td>\n",
       "      <td>0.157061</td>\n",
       "      <td>0.019783</td>\n",
       "      <td>euclidean</td>\n",
       "      <td>9</td>\n",
       "      <td>distance</td>\n",
       "      <td>{'metric': 'euclidean', 'n_neighbors': 9, 'wei...</td>\n",
       "      <td>0.7520</td>\n",
       "      <td>0.7685</td>\n",
       "      <td>0.7545</td>\n",
       "      <td>0.7470</td>\n",
       "      <td>0.7565</td>\n",
       "      <td>0.7557</td>\n",
       "      <td>0.007146</td>\n",
       "      <td>21</td>\n",
       "    </tr>\n",
       "  </tbody>\n",
       "</table>\n",
       "</div>"
      ],
      "text/plain": [
       "    mean_fit_time  std_fit_time  mean_score_time  std_score_time param_metric  \\\n",
       "0        0.085065      0.027914         0.000000        0.000000    manhattan   \n",
       "1        0.044422      0.003011         0.000000        0.000000    manhattan   \n",
       "2        0.049125      0.006355         0.252039        0.014995    manhattan   \n",
       "3        0.042823      0.010113         0.131091        0.023938    manhattan   \n",
       "4        0.038620      0.001558         0.269527        0.003090    manhattan   \n",
       "5        0.040487      0.005510         0.162822        0.007392    manhattan   \n",
       "6        0.042848      0.004476         0.308337        0.023692    manhattan   \n",
       "7        0.038183      0.003913         0.185942        0.008531    manhattan   \n",
       "8        0.042796      0.006103         0.318653        0.017234    manhattan   \n",
       "9        0.044808      0.006322         0.206664        0.007073    manhattan   \n",
       "10       0.042467      0.001743         0.333668        0.008637    manhattan   \n",
       "11       0.045614      0.011487         0.212062        0.004047    manhattan   \n",
       "12       0.037874      0.003479         0.355463        0.023696    manhattan   \n",
       "13       0.046318      0.010106         0.250771        0.026888    manhattan   \n",
       "14       0.043619      0.002432         0.374421        0.012648    manhattan   \n",
       "15       0.045687      0.004857         0.247802        0.006713    manhattan   \n",
       "16       0.039913      0.003706         0.389316        0.017340    manhattan   \n",
       "17       0.040235      0.002515         0.269026        0.010495    manhattan   \n",
       "18       0.039449      0.004994         0.401643        0.019348    manhattan   \n",
       "19       0.039902      0.002169         0.279575        0.021761    manhattan   \n",
       "20       0.038126      0.002940         0.000000        0.000000    euclidean   \n",
       "21       0.042025      0.005606         0.000000        0.000000    euclidean   \n",
       "22       0.039004      0.002442         0.202281        0.007515    euclidean   \n",
       "23       0.040969      0.002513         0.087669        0.005284    euclidean   \n",
       "24       0.039851      0.008858         0.212820        0.010239    euclidean   \n",
       "25       0.038002      0.002962         0.105604        0.006447    euclidean   \n",
       "26       0.040793      0.003979         0.223126        0.006459    euclidean   \n",
       "27       0.037701      0.001412         0.115227        0.005681    euclidean   \n",
       "28       0.038361      0.002814         0.237460        0.005217    euclidean   \n",
       "29       0.037490      0.003713         0.128600        0.006781    euclidean   \n",
       "30       0.039494      0.004874         0.252426        0.009896    euclidean   \n",
       "31       0.037269      0.002161         0.138330        0.004392    euclidean   \n",
       "32       0.040087      0.004856         0.271031        0.009513    euclidean   \n",
       "33       0.040197      0.004660         0.152251        0.007264    euclidean   \n",
       "34       0.039140      0.003417         0.259500        0.009583    euclidean   \n",
       "35       0.041393      0.003692         0.149737        0.009756    euclidean   \n",
       "36       0.036969      0.001692         0.265950        0.022772    euclidean   \n",
       "37       0.040803      0.005554         0.157557        0.005661    euclidean   \n",
       "38       0.039606      0.004195         0.282042        0.009577    euclidean   \n",
       "39       0.037924      0.003302         0.157061        0.019783    euclidean   \n",
       "\n",
       "   param_n_neighbors param_weights  \\\n",
       "0                  0       uniform   \n",
       "1                  0      distance   \n",
       "2                  1       uniform   \n",
       "3                  1      distance   \n",
       "4                  2       uniform   \n",
       "5                  2      distance   \n",
       "6                  3       uniform   \n",
       "7                  3      distance   \n",
       "8                  4       uniform   \n",
       "9                  4      distance   \n",
       "10                 5       uniform   \n",
       "11                 5      distance   \n",
       "12                 6       uniform   \n",
       "13                 6      distance   \n",
       "14                 7       uniform   \n",
       "15                 7      distance   \n",
       "16                 8       uniform   \n",
       "17                 8      distance   \n",
       "18                 9       uniform   \n",
       "19                 9      distance   \n",
       "20                 0       uniform   \n",
       "21                 0      distance   \n",
       "22                 1       uniform   \n",
       "23                 1      distance   \n",
       "24                 2       uniform   \n",
       "25                 2      distance   \n",
       "26                 3       uniform   \n",
       "27                 3      distance   \n",
       "28                 4       uniform   \n",
       "29                 4      distance   \n",
       "30                 5       uniform   \n",
       "31                 5      distance   \n",
       "32                 6       uniform   \n",
       "33                 6      distance   \n",
       "34                 7       uniform   \n",
       "35                 7      distance   \n",
       "36                 8       uniform   \n",
       "37                 8      distance   \n",
       "38                 9       uniform   \n",
       "39                 9      distance   \n",
       "\n",
       "                                               params  split0_test_score  \\\n",
       "0   {'metric': 'manhattan', 'n_neighbors': 0, 'wei...                NaN   \n",
       "1   {'metric': 'manhattan', 'n_neighbors': 0, 'wei...                NaN   \n",
       "2   {'metric': 'manhattan', 'n_neighbors': 1, 'wei...             0.7775   \n",
       "3   {'metric': 'manhattan', 'n_neighbors': 1, 'wei...             0.7775   \n",
       "4   {'metric': 'manhattan', 'n_neighbors': 2, 'wei...             0.7275   \n",
       "5   {'metric': 'manhattan', 'n_neighbors': 2, 'wei...             0.7785   \n",
       "6   {'metric': 'manhattan', 'n_neighbors': 3, 'wei...             0.7595   \n",
       "7   {'metric': 'manhattan', 'n_neighbors': 3, 'wei...             0.7750   \n",
       "8   {'metric': 'manhattan', 'n_neighbors': 4, 'wei...             0.7435   \n",
       "9   {'metric': 'manhattan', 'n_neighbors': 4, 'wei...             0.7800   \n",
       "10  {'metric': 'manhattan', 'n_neighbors': 5, 'wei...             0.7315   \n",
       "11  {'metric': 'manhattan', 'n_neighbors': 5, 'wei...             0.7645   \n",
       "12  {'metric': 'manhattan', 'n_neighbors': 6, 'wei...             0.7315   \n",
       "13  {'metric': 'manhattan', 'n_neighbors': 6, 'wei...             0.7750   \n",
       "14  {'metric': 'manhattan', 'n_neighbors': 7, 'wei...             0.7400   \n",
       "15  {'metric': 'manhattan', 'n_neighbors': 7, 'wei...             0.7690   \n",
       "16  {'metric': 'manhattan', 'n_neighbors': 8, 'wei...             0.7365   \n",
       "17  {'metric': 'manhattan', 'n_neighbors': 8, 'wei...             0.7735   \n",
       "18  {'metric': 'manhattan', 'n_neighbors': 9, 'wei...             0.7410   \n",
       "19  {'metric': 'manhattan', 'n_neighbors': 9, 'wei...             0.7745   \n",
       "20  {'metric': 'euclidean', 'n_neighbors': 0, 'wei...                NaN   \n",
       "21  {'metric': 'euclidean', 'n_neighbors': 0, 'wei...                NaN   \n",
       "22  {'metric': 'euclidean', 'n_neighbors': 1, 'wei...             0.7680   \n",
       "23  {'metric': 'euclidean', 'n_neighbors': 1, 'wei...             0.7680   \n",
       "24  {'metric': 'euclidean', 'n_neighbors': 2, 'wei...             0.7260   \n",
       "25  {'metric': 'euclidean', 'n_neighbors': 2, 'wei...             0.7680   \n",
       "26  {'metric': 'euclidean', 'n_neighbors': 3, 'wei...             0.7480   \n",
       "27  {'metric': 'euclidean', 'n_neighbors': 3, 'wei...             0.7665   \n",
       "28  {'metric': 'euclidean', 'n_neighbors': 4, 'wei...             0.7340   \n",
       "29  {'metric': 'euclidean', 'n_neighbors': 4, 'wei...             0.7730   \n",
       "30  {'metric': 'euclidean', 'n_neighbors': 5, 'wei...             0.7310   \n",
       "31  {'metric': 'euclidean', 'n_neighbors': 5, 'wei...             0.7570   \n",
       "32  {'metric': 'euclidean', 'n_neighbors': 6, 'wei...             0.7205   \n",
       "33  {'metric': 'euclidean', 'n_neighbors': 6, 'wei...             0.7595   \n",
       "34  {'metric': 'euclidean', 'n_neighbors': 7, 'wei...             0.7260   \n",
       "35  {'metric': 'euclidean', 'n_neighbors': 7, 'wei...             0.7555   \n",
       "36  {'metric': 'euclidean', 'n_neighbors': 8, 'wei...             0.7160   \n",
       "37  {'metric': 'euclidean', 'n_neighbors': 8, 'wei...             0.7620   \n",
       "38  {'metric': 'euclidean', 'n_neighbors': 9, 'wei...             0.7245   \n",
       "39  {'metric': 'euclidean', 'n_neighbors': 9, 'wei...             0.7520   \n",
       "\n",
       "    split1_test_score  split2_test_score  split3_test_score  \\\n",
       "0                 NaN                NaN                NaN   \n",
       "1                 NaN                NaN                NaN   \n",
       "2              0.7940             0.7835             0.7785   \n",
       "3              0.7940             0.7835             0.7785   \n",
       "4              0.7465             0.7465             0.7255   \n",
       "5              0.7940             0.7830             0.7795   \n",
       "6              0.7725             0.7545             0.7645   \n",
       "7              0.7870             0.7695             0.7835   \n",
       "8              0.7590             0.7515             0.7375   \n",
       "9              0.8000             0.7810             0.7860   \n",
       "10             0.7640             0.7540             0.7500   \n",
       "11             0.7940             0.7795             0.7775   \n",
       "12             0.7560             0.7455             0.7360   \n",
       "13             0.7945             0.7795             0.7715   \n",
       "14             0.7595             0.7415             0.7405   \n",
       "15             0.7880             0.7700             0.7700   \n",
       "16             0.7535             0.7420             0.7350   \n",
       "17             0.7940             0.7765             0.7715   \n",
       "18             0.7495             0.7390             0.7395   \n",
       "19             0.7880             0.7705             0.7675   \n",
       "20                NaN                NaN                NaN   \n",
       "21                NaN                NaN                NaN   \n",
       "22             0.7885             0.7735             0.7655   \n",
       "23             0.7885             0.7735             0.7655   \n",
       "24             0.7365             0.7445             0.7325   \n",
       "25             0.7885             0.7735             0.7655   \n",
       "26             0.7620             0.7530             0.7410   \n",
       "27             0.7775             0.7735             0.7630   \n",
       "28             0.7345             0.7350             0.7230   \n",
       "29             0.7875             0.7750             0.7600   \n",
       "30             0.7475             0.7335             0.7365   \n",
       "31             0.7775             0.7645             0.7625   \n",
       "32             0.7425             0.7325             0.7225   \n",
       "33             0.7790             0.7585             0.7670   \n",
       "34             0.7425             0.7230             0.7265   \n",
       "35             0.7730             0.7595             0.7550   \n",
       "36             0.7370             0.7115             0.7140   \n",
       "37             0.7740             0.7605             0.7525   \n",
       "38             0.7320             0.7165             0.7180   \n",
       "39             0.7685             0.7545             0.7470   \n",
       "\n",
       "    split4_test_score  mean_test_score  std_test_score  rank_test_score  \n",
       "0                 NaN              NaN             NaN               40  \n",
       "1                 NaN              NaN             NaN               37  \n",
       "2              0.7730           0.7813        0.007174                4  \n",
       "3              0.7730           0.7813        0.007174                4  \n",
       "4              0.7505           0.7393        0.010572               29  \n",
       "5              0.7740           0.7818        0.006742                2  \n",
       "6              0.7665           0.7635        0.006132               18  \n",
       "7              0.7850           0.7800        0.006656                8  \n",
       "8              0.7550           0.7493        0.007801               24  \n",
       "9              0.7880           0.7870        0.007155                1  \n",
       "10             0.7570           0.7513        0.010907               23  \n",
       "11             0.7875           0.7806        0.009972                6  \n",
       "12             0.7435           0.7425        0.008432               26  \n",
       "13             0.7860           0.7813        0.008189                3  \n",
       "14             0.7535           0.7470        0.008000               25  \n",
       "15             0.7800           0.7754        0.007473                9  \n",
       "16             0.7450           0.7424        0.006629               27  \n",
       "17             0.7860           0.7803        0.008465                7  \n",
       "18             0.7390           0.7416        0.004017               28  \n",
       "19             0.7750           0.7751        0.007010               10  \n",
       "20                NaN              NaN             NaN               39  \n",
       "21                NaN              NaN             NaN               38  \n",
       "22             0.7695           0.7730        0.008173               12  \n",
       "23             0.7695           0.7730        0.008173               12  \n",
       "24             0.7340           0.7347        0.006005               31  \n",
       "25             0.7695           0.7730        0.008173               12  \n",
       "26             0.7585           0.7525        0.007470               22  \n",
       "27             0.7755           0.7712        0.005528               15  \n",
       "28             0.7255           0.7304        0.005093               32  \n",
       "29             0.7775           0.7746        0.008840               11  \n",
       "30             0.7305           0.7358        0.006226               30  \n",
       "31             0.7675           0.7658        0.006779               17  \n",
       "32             0.7210           0.7278        0.008553               34  \n",
       "33             0.7685           0.7665        0.007396               16  \n",
       "34             0.7220           0.7280        0.007450               33  \n",
       "35             0.7560           0.7598        0.006787               20  \n",
       "36             0.7235           0.7204        0.009216               36  \n",
       "37             0.7610           0.7620        0.006892               19  \n",
       "38             0.7230           0.7228        0.005483               35  \n",
       "39             0.7565           0.7557        0.007146               21  "
      ]
     },
     "execution_count": 143,
     "metadata": {},
     "output_type": "execute_result"
    }
   ],
   "source": [
    "from sklearn.model_selection import GridSearchCV\n",
    "params = {'n_neighbors': np.arange(10), 'metric':  ['manhattan', 'euclidean'], 'weights': ['uniform', 'distance']}\n",
    "\n",
    "clf_grid = GridSearchCV(clf, params, cv=5, scoring='accuracy', n_jobs=-1)\n",
    "clf_grid.fit(feature_matrix, labels)\n",
    "pd.DataFrame(clf_grid.cv_results_)\n",
    "# Теперь обучение. Ваш код здесь"
   ]
  },
  {
   "cell_type": "markdown",
   "metadata": {
    "id": "SO7E6G8jKxZp"
   },
   "source": [
    "Выведем лучшие параметры"
   ]
  },
  {
   "cell_type": "code",
   "execution_count": 144,
   "metadata": {
    "id": "md48pHrMKxZq"
   },
   "outputs": [
    {
     "data": {
      "text/plain": [
       "{'metric': 'manhattan', 'n_neighbors': 4, 'weights': 'distance'}"
      ]
     },
     "execution_count": 144,
     "metadata": {},
     "output_type": "execute_result"
    }
   ],
   "source": [
    "clf_grid.best_params_"
   ]
  },
  {
   "cell_type": "code",
   "execution_count": 145,
   "metadata": {},
   "outputs": [
    {
     "data": {
      "text/plain": [
       "sklearn.model_selection._search.GridSearchCV"
      ]
     },
     "execution_count": 145,
     "metadata": {},
     "output_type": "execute_result"
    }
   ],
   "source": [
    "type(clf_grid)"
   ]
  },
  {
   "cell_type": "markdown",
   "metadata": {
    "id": "M05n9l8pKxZt"
   },
   "source": [
    "### Вопрос 2:\n",
    "* Какую metric следует использовать?"
   ]
  },
  {
   "cell_type": "markdown",
   "metadata": {
    "id": "Pmjx38OoKxZt"
   },
   "source": [
    "### Вопрос 3:\n",
    "* Сколько n_neighbors следует использовать?"
   ]
  },
  {
   "cell_type": "markdown",
   "metadata": {
    "id": "eqLeJUP8KxZu"
   },
   "source": [
    "### Вопрос 4:\n",
    "* Какой тип weights следует использовать?"
   ]
  },
  {
   "cell_type": "markdown",
   "metadata": {
    "id": "aBmiDbvV25qI"
   },
   "source": [
    "Используя найденное оптимальное число соседей, вычислите вероятности принадлежности к классам для тестовой выборки (`.predict_proba`)."
   ]
  },
  {
   "cell_type": "code",
   "execution_count": 149,
   "metadata": {
    "id": "ig_vS8O925qI"
   },
   "outputs": [
    {
     "data": {
      "text/plain": [
       "(2000, 7)"
      ]
     },
     "execution_count": 149,
     "metadata": {},
     "output_type": "execute_result"
    }
   ],
   "source": [
    "optimal_clf = clf_grid.best_estimator_\n",
    "optimal_clf.fit(train_feature_matrix, train_labels)\n",
    "pred_prob = optimal_clf.predict_proba(test_feature_matrix)\n",
    "pred_prob.shape"
   ]
  },
  {
   "cell_type": "code",
   "execution_count": 150,
   "metadata": {
    "id": "2kkapT38KxZz"
   },
   "outputs": [
    {
     "name": "stdout",
     "output_type": "stream",
     "text": [
      "[1 2 3 4 5 6 7] [736 973 111  11  33  56  80]\n",
      "[0.368, 0.4865, 0.0555, 0.0055, 0.0165, 0.028, 0.04]\n",
      "[0.38140213 0.48906359 0.05292089 0.00581434 0.01521326 0.02623053\n",
      " 0.02935526]\n"
     ]
    },
    {
     "data": {
      "image/png": "[encoded data removed]",
      "text/plain": [
       "<Figure size 720x576 with 1 Axes>"
      ]
     },
     "metadata": {
      "needs_background": "light"
     },
     "output_type": "display_data"
    }
   ],
   "source": [
    "import matplotlib.pyplot as plt\n",
    "%matplotlib inline\n",
    "import numpy as np\n",
    "\n",
    "unique, freq = np.unique(test_labels, return_counts=True)\n",
    "print(unique, freq)\n",
    "freq = list(map(lambda x: x / len(test_labels),freq))\n",
    "print(freq)\n",
    "pred_freq = pred_prob.mean(axis=0)\n",
    "print(pred_freq)\n",
    "plt.figure(figsize=(10, 8))\n",
    "plt.bar(range(1, 8), pred_freq, width=0.4, align=\"edge\", label='prediction')\n",
    "plt.bar(range(1, 8), freq, width=-0.4, align=\"edge\", label='real')\n",
    "plt.ylim(0, 0.54)\n",
    "plt.legend()\n",
    "plt.show()"
   ]
  },
  {
   "cell_type": "markdown",
   "metadata": {
    "id": "gp4uDyLmKxZ3"
   },
   "source": [
    "### Вопрос 5:\n",
    "* Какая прогнозируемая вероятность pred_freq класса под номером 3 (до 2 знаков после запятой)?"
   ]
  }
 ],
 "metadata": {
  "colab": {
   "collapsed_sections": [],
   "name": "[homework,adv]knn_copy.ipynb",
   "provenance": [],
   "toc_visible": true
  },
  "kernelspec": {
   "display_name": "Python 3",
   "language": "python",
   "name": "python3"
  },
  "language_info": {
   "codemirror_mode": {
    "name": "ipython",
    "version": 3
   },
   "file_extension": ".py",
   "mimetype": "text/x-python",
   "name": "python",
   "nbconvert_exporter": "python",
   "pygments_lexer": "ipython3",
   "version": "3.8.5"
  }
 },
 "nbformat": 4,
 "nbformat_minor": 4
}
